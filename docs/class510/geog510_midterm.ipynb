{
  "cells": [
    {
      "cell_type": "markdown",
      "metadata": {
        "colab_type": "text",
        "id": "view-in-github"
      },
      "source": [
        "<a href=\"https://colab.research.google.com/github/whkim15/spatialtsp/blob/main/geog510_midterm.ipynb\" target=\"_parent\"><img src=\"https://colab.research.google.com/assets/colab-badge.svg\" alt=\"Open In Colab\"/></a>"
      ]
    },
    {
      "cell_type": "markdown",
      "id": "ccc39dc4-617c-4e04-90b6-7560272136e4",
      "metadata": {
        "id": "ccc39dc4-617c-4e04-90b6-7560272136e4"
      },
      "source": [
        "# GEOG 422/510 Midterm Exam\n",
        "\n",
        "**Firstname Lastname**\n",
        "\n",
        "The midterm exam consists of four questions, each worth 37.5 points, resulting in a total of 150 points. It is important to note that this is an open-book exam, but you must complete it independently without any collaboration with others. You will have a designated time of 50 minutes to complete the exam (1:50-2:40 PM, Friday, March 22).\n",
        "\n",
        "Please be aware that late submissions will incur a penalty. For every 10 minutes that exceed the allocated time, a deduction of 10% (equivalent to 15 points) will be applied to your final score.\n",
        "\n",
        "\n",
        "**Submission instructions**\n",
        "\n",
        "1. Complete the exam by answering the questions in the cells below.\n",
        "2. After completing all the questions, restart the kernel and run all cells.\n",
        "3. Save the notebook and submit it to the Canvas."
      ]
    },
    {
      "cell_type": "markdown",
      "id": "d5c26851-64ab-4957-8d24-affa0af5c39e",
      "metadata": {
        "id": "d5c26851-64ab-4957-8d24-affa0af5c39e"
      },
      "source": [
        "## Question 1\n",
        "\n",
        "**Ordinal numbers**: Ordinal numbers indicate their position in a list, such as 1st or 2nd. Most ordinal numbers end in *th*, except 1, 2, and 3. Write a program that repeatedly prompts a user for a number and prints out its corresponding ordinal number. Your program must be able to handle any integer, not just numbers between 1 and 10. If the user enters an invalid number, the program should prompt users to enter a valid number. When the user enters `quit`, the program stops.\n",
        "\n",
        "Sample output:\n",
        "\n",
        "```text\n",
        "Enter a number (enter 'quit' to exit):  1\n",
        "The ordinal number of 1 is: 1st\n",
        "Enter a number (enter 'quit' to exit):  2\n",
        "The ordinal number of 2 is: 2nd\n",
        "Enter a number (enter 'quit' to exit):  3\n",
        "The ordinal number of 3 is: 3rd\n",
        "Enter a number (enter 'quit' to exit):  5\n",
        "The ordinal number of 5 is: 5th\n",
        "Enter a number (enter 'quit' to exit):  11\n",
        "The ordinal number of 11 is: 11th\n",
        "Enter a number (enter 'quit' to exit):  12\n",
        "The ordinal number of 12 is: 12th\n",
        "Enter a number (enter 'quit' to exit):  13\n",
        "The ordinal number of 13 is: 13th\n",
        "Enter a number (enter 'quit' to exit):  21\n",
        "The ordinal number of 21 is: 21st\n",
        "Enter a number (enter 'quit' to exit):  22\n",
        "The ordinal number of 22 is: 22nd\n",
        "Enter a number (enter 'quit' to exit):  23\n",
        "The ordinal number of 23 is: 23rd\n",
        "Enter a number (enter 'quit' to exit):  99\n",
        "The ordinal number of 99 is: 99th\n",
        "Enter a number (enter 'quit' to exit):  101\n",
        "The ordinal number of 101 is: 101st\n",
        "Enter a number (enter 'quit' to exit):  hello\n",
        "hello is an invalid number. Please enter an integer number!\n",
        "Enter a number (enter 'quit' to exit):  haha\n",
        "haha is an invalid number. Please enter an integer number!\n",
        "Enter a number (enter 'quit' to exit):  quit\n",
        "```"
      ]
    },
    {
      "cell_type": "code",
      "execution_count": 1,
      "id": "054c7bf4-e64c-4a5b-84d1-530d0e4ce0f5",
      "metadata": {
        "id": "054c7bf4-e64c-4a5b-84d1-530d0e4ce0f5"
      },
      "outputs": [
        {
          "name": "stdout",
          "output_type": "stream",
          "text": [
            "The ordinal number of 1 is: 1st\n",
            "The ordinal number of 2 is: 2nd\n",
            "The ordinal number of 3 is: 3rd\n",
            "The ordinal number of 4 is: 4th\n",
            "The ordinal number of 5 is: 5th\n",
            "The ordinal number of 6 is: 6th\n",
            "The ordinal number of 11 is: 11th\n",
            "The ordinal number of 12 is: 12th\n",
            "The ordinal number of 13 is: 13th\n",
            "The ordinal number of 21 is: 21st\n",
            "The ordinal number of 22 is: 22nd\n",
            "The ordinal number of 23 is: 23rd\n",
            "The ordinal number of 99 is: 99th\n",
            "The ordinal number of 101 is: 101st\n",
            "Please enter a valid number.\n",
            "Please enter a valid number.\n"
          ]
        }
      ],
      "source": [
        "def get_ordinal(n):\n",
        "    if 10 <= n % 100 <= 20:\n",
        "        suffix = 'th'\n",
        "    else:\n",
        "        suffix = {1: 'st', 2: 'nd', 3: 'rd'}.get(n % 10, 'th')\n",
        "    return str(n) + suffix\n",
        "\n",
        "while True:\n",
        "    try:\n",
        "        number = input(\"Enter a number (enter 'quit' to exit): \")\n",
        "        if number == 'quit':\n",
        "            break\n",
        "        number = int(number)\n",
        "        print(f\"The ordinal number of {number} is: {get_ordinal(number)}\")\n",
        "    except ValueError:\n",
        "        print(\"Please enter a valid number.\")"
      ]
    },
    {
      "cell_type": "markdown",
      "id": "3e211adf-8d3f-4323-b9ea-35809bb12e66",
      "metadata": {
        "id": "3e211adf-8d3f-4323-b9ea-35809bb12e66"
      },
      "source": [
        "## Question 2\n",
        "\n",
        "**Compute median:** Write a program that repeatedly prompts a user for numbers until the user enters `quit`. Once `quit` is entered, print out the median value of the numbers. If the user enters anything other than a valid number put out an appropriate message and ignore the number.\n",
        "\n",
        "Sample output:\n",
        "```text\n",
        "Enter a number (enter 'quit' to exit):  7\n",
        "Enter a number (enter 'quit' to exit):  8\n",
        "Enter a number (enter 'quit' to exit):  9\n",
        "Enter a number (enter 'quit' to exit):  haha\n",
        "Invalid input. Please enter a valid number.\n",
        "Enter a number (enter 'quit' to exit):  10\n",
        "Enter a number (enter 'quit' to exit):  quit\n",
        "The median value of the numbers [7.0, 8.0, 9.0, 10.0] is 8.5.\n",
        "```"
      ]
    },
    {
      "cell_type": "code",
      "execution_count": 2,
      "id": "f748d68f-4ab9-46ea-a63c-34fc64ed55a2",
      "metadata": {
        "id": "f748d68f-4ab9-46ea-a63c-34fc64ed55a2"
      },
      "outputs": [
        {
          "name": "stdout",
          "output_type": "stream",
          "text": [
            "Invalid input. Please enter a valid number.\n",
            "The median value of the numbers [7.0, 8.0, 9.0, 10.0] is 8.5.\n"
          ]
        }
      ],
      "source": [
        "def calculate_median():\n",
        "    numbers = []\n",
        "\n",
        "    while True:\n",
        "        input_value = input(\"Enter a number (enter 'quit' to exit): \")\n",
        "        if input_value.lower() == 'quit':\n",
        "            break\n",
        "        try:\n",
        "            number = float(input_value)\n",
        "            numbers.append(number)\n",
        "        except ValueError:\n",
        "            print(\"Invalid input. Please enter a valid number.\")\n",
        "\n",
        "    if numbers:\n",
        "        numbers.sort()\n",
        "        mid = len(numbers) // 2\n",
        "        if len(numbers) % 2 == 0:\n",
        "            median = (numbers[mid - 1] + numbers[mid]) / 2\n",
        "        else:\n",
        "            median = numbers[mid]\n",
        "        print(f\"The median value of the numbers {numbers} is {median}.\")\n",
        "    else:\n",
        "        print(\"No valid numbers were entered.\")\n",
        "\n",
        "calculate_median()\n"
      ]
    },
    {
      "cell_type": "markdown",
      "id": "e20f5fbb-f164-44b2-808a-fd815f0b8ed8",
      "metadata": {
        "id": "e20f5fbb-f164-44b2-808a-fd815f0b8ed8"
      },
      "source": [
        "## Question 3\n",
        "\n",
        "**Count Words:** Based on the text file [A-Tale-of-Two-Cities.txt](https://raw.githubusercontent.com/giswqs/geohey/main/docs/python/data/A-Tale-of-Two-Cities.txt), write a program that repeatly prompts a user to enter a word or phrase and finds out how many times it appears in the text file. When a user enters `quit`, the program stops.\n",
        "\n",
        "Sample output:\n",
        "```text\n",
        "Enter a word or phrase to search for (enter 'quit' to exit):  the\n",
        "'the' appears 10694 times in the file.\n",
        "Enter a word or phrase to search for (enter 'quit' to exit):  season\n",
        "'season' appears 8 times in the file.\n",
        "Enter a word or phrase to search for (enter 'quit' to exit):  country\n",
        "'country' appears 42 times in the file.\n",
        "Enter a word or phrase to search for (enter 'quit' to exit):  hello\n",
        "'hello' appears 0 times in the file.\n",
        "Enter a word or phrase to search for (enter 'quit' to exit):  love\n",
        "'love' appears 77 times in the file.\n",
        "Enter a word or phrase to search for (enter 'quit' to exit):  quit\n",
        "```"
      ]
    },
    {
      "cell_type": "code",
      "execution_count": 4,
      "id": "9df4cbfd",
      "metadata": {
        "id": "9df4cbfd"
      },
      "outputs": [
        {
          "name": "stdout",
          "output_type": "stream",
          "text": [
            "'the' appears 11686 times in the file.\n",
            "'season' appears 8 times in the file.\n",
            "'country' appears 45 times in the file.\n",
            "'hello' appears 0 times in the file.\n",
            "'love' appears 80 times in the file.\n"
          ]
        }
      ],
      "source": [
        "import requests\n",
        "url = 'https://raw.githubusercontent.com/giswqs/geohey/main/docs/python/data/A-Tale-of-Two-Cities.txt'\n",
        "text = requests.get(url).text\n",
        "\n",
        "def count_words(text):\n",
        "    while True:\n",
        "        query = input(\"Enter a word or phrase to search for (enter 'quit' to exit): \")\n",
        "        if query == 'quit':\n",
        "            break\n",
        "        count = text.lower().count(query.lower())\n",
        "        print(f\"'{query}' appears {count} times in the file.\")\n",
        "\n",
        "count_words(text)\n"
      ]
    },
    {
      "cell_type": "markdown",
      "id": "7c064842",
      "metadata": {
        "id": "7c064842"
      },
      "source": [
        "## Question 4\n",
        "\n",
        "Write a program that counts the number of unique words in a text file. The program should repeatedly prompt a user to enter a file name and print out the number of unique words in the file. When a user enters `quit`, the program stops. If the input file does not exist, the program should print out an error message and prompt users to enter a valid filename.\n",
        "\n",
        "Some sample text files are available at:\n",
        "- [A-Tale-of-Two-Cities.txt](https://github.com/giswqs/geohey/blob/main/docs/python/data/A-Tale-of-Two-Cities.txt)\n",
        "- [little_women.txt](https://github.com/giswqs/geohey/blob/main/docs/python/data/little_women.txt)\n",
        "- [alice.txt](https://github.com/giswqs/geohey/blob/main/docs/python/data/alice.txt)\n",
        "\n",
        "Sample output:\n",
        "```text\n",
        "Enter the filename:  A-Tale-of-Two-Cities.txt\n",
        "There are 19666 unique words in the file A-Tale-of-Two-Cities.txt\n",
        "Enter the filename:  little_women.txt\n",
        "There are 21050 unique words in the file little_women.txt\n",
        "Enter the filename:  alice.txt\n",
        "There are 6018 unique words in the file alice.txt\n",
        "Enter the filename:  hello_world.txt\n",
        "File 'hello_world.txt' not found. Please enter a valid filename.\n",
        "Enter the filename:  serious.txt\n",
        "File 'serious.txt' not found. Please enter a valid filename.\n",
        "Enter the filename:  I am done\n",
        "File 'I am done' not found. Please enter a valid filename.\n",
        "Enter the filename:  quit\n",
        "```"
      ]
    },
    {
      "cell_type": "code",
      "execution_count": 10,
      "id": "3f2cbb66",
      "metadata": {},
      "outputs": [
        {
          "name": "stdout",
          "output_type": "stream",
          "text": [
            "There are 19666 unique words in the file A-Tale-of-Two-Cities.txt\n",
            "There are 21050 unique words in the file little_women.txt\n",
            "There are 6018 unique words in the file alice.txt\n",
            "File 'hello_world.txt' not found. Please enter a valid filename.\n",
            "File 'serious.txt' not found. Please enter a valid filename.\n",
            "File 'I am done' not found. Please enter a valid filename.\n"
          ]
        }
      ],
      "source": [
        "import requests\n",
        "\n",
        "files = {\n",
        "    \"A-Tale-of-Two-Cities.txt\": 'https://raw.githubusercontent.com/giswqs/geohey/main/docs/python/data/A-Tale-of-Two-Cities.txt',\n",
        "    \"little_women.txt\": 'https://raw.githubusercontent.com/giswqs/geohey/main/docs/python/data/little_women.txt',\n",
        "    \"alice.txt\": 'https://raw.githubusercontent.com/giswqs/geohey/main/docs/python/data/alice.txt'\n",
        "}\n",
        "\n",
        "def count_unique_words():\n",
        "    while True:\n",
        "        # Prompt the user for a file name.\n",
        "        filename = input(\"Enter the filename (or 'quit' to exit): \")\n",
        "        if filename.lower() == 'quit':\n",
        "            break\n",
        "        \n",
        "        if filename in files:\n",
        "            url = files[filename]\n",
        "            response = requests.get(url)\n",
        "            text = response.text\n",
        "\n",
        "            words = set(text.split())\n",
        "            unique_word_count = len(words)\n",
        "\n",
        "            print(f\"There are {unique_word_count} unique words in the file {filename}\")\n",
        "        else:\n",
        "            print(f\"File '{filename}' not found. Please enter a valid filename.\")\n",
        "\n",
        "count_unique_words()  \n"
      ]
    }
  ],
  "metadata": {
    "colab": {
      "include_colab_link": true,
      "provenance": []
    },
    "kernelspec": {
      "display_name": "Python 3 (ipykernel)",
      "language": "python",
      "name": "python3"
    },
    "language_info": {
      "codemirror_mode": {
        "name": "ipython",
        "version": 3
      },
      "file_extension": ".py",
      "mimetype": "text/x-python",
      "name": "python",
      "nbconvert_exporter": "python",
      "pygments_lexer": "ipython3",
      "version": "3.11.8"
    }
  },
  "nbformat": 4,
  "nbformat_minor": 5
}
