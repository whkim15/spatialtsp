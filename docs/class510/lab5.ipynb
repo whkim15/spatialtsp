{
 "cells": [
  {
   "cell_type": "markdown",
   "id": "0",
   "metadata": {},
   "source": [
    "# Lab 5\n",
    "\n",
    "[![image](https://colab.research.google.com/assets/colab-badge.svg)](https://colab.research.google.com/drive/108PAu6fb4Vf9YqMGoqXngUSQVs2PA2U5)\n",
    "\n",
    "## Submission instructions\n",
    "\n",
    "1. Download the notebook from https://whkim15.github.io/spatialtsp/\n",
    "2. Complete the lab questions\n",
    "3. Restart Kernel and Run All Cells\n",
    "4. Upload the notebook to your GitHub repository\n",
    "5. Make sure the notebook has an `Open In Colab` badge. Click on the badge to make sure your notebook can be opened in Colab.\n",
    "6. Submit the link to the notebook on your GitHub repository to Canvas"
   ]
  },
  {
   "cell_type": "markdown",
   "id": "1",
   "metadata": {},
   "source": [
    "## Question 1\n",
    "\n",
    "**Person:** Use a dictionary to store information about a person you know. Store their first name, last name, age, and the city in which they live. You should have keys such as first_name, last_name, age, and city. Print each piece of information stored in your dictionary."
   ]
  },
  {
   "cell_type": "code",
   "execution_count": 12,
   "id": "2",
   "metadata": {},
   "outputs": [
    {
     "name": "stdout",
     "output_type": "stream",
     "text": [
      "First_Name: Wanhee\n",
      "Last_Name: Kim\n",
      "Age: 31\n",
      "City: Knoxville\n"
     ]
    }
   ],
   "source": [
    "# Define a dictionary with person's information\n",
    "person_info = {\n",
    "    \"first_name\": \"Wanhee\",\n",
    "    \"last_name\": \"Kim\",\n",
    "    \"age\": 31,\n",
    "    \"city\": \"Knoxville\"\n",
    "}\n",
    "\n",
    "# Print each piece of information\n",
    "for key, value in person_info.items():\n",
    "    print(f\"{key.title()}: {value}\")"
   ]
  },
  {
   "cell_type": "markdown",
   "id": "3",
   "metadata": {},
   "source": [
    "## Question 2\n",
    "\n",
    "**Favorite Numbers:** Use a dictionary to store people’s favorite numbers. Think of five names, and use them as keys in your dictionary. Think of a favorite number for each person, and store each as a value in your dictionary. Print each person’s name and their favorite number. For even more fun, poll a few friends and get some actual data for your program."
   ]
  },
  {
   "cell_type": "code",
   "execution_count": 13,
   "id": "4",
   "metadata": {},
   "outputs": [
    {
     "name": "stdout",
     "output_type": "stream",
     "text": [
      "Amy's favorite number is 7\n",
      "Joyce's favorite number is 13\n",
      "Bob's favorite number is 22\n",
      "Tom's favorite number is 9\n",
      "Annie's favorite number is 3\n"
     ]
    }
   ],
   "source": [
    "favorite_numbers = {\n",
    "    'Amy': 7,\n",
    "    'Joyce': 13,\n",
    "    'Bob': 22,\n",
    "    'Tom': 9,\n",
    "    'Annie': 3\n",
    "}\n",
    "\n",
    "for name, number in favorite_numbers.items():\n",
    "    print(f\"{name}'s favorite number is {number}\")"
   ]
  },
  {
   "cell_type": "markdown",
   "id": "5",
   "metadata": {},
   "source": [
    "## Question 3\n",
    "\n",
    "**Glossary:** A Python dictionary can be used to model an actual dictionary. However, to avoid confusion, let’s call it a glossary.\n",
    "\n",
    "- Think of five programming words you’ve learned about in the previous chapters. Use these words as the keys in your glossary, and store their meanings as values.\n",
    "- Print each word and its meaning as neatly formatted output. You might print the word followed by a colon and then its meaning, or print the word on one line and then print its meaning indented on a second line. Use the newline character (\\n) to insert a blank line between each word-meaning pair in your output."
   ]
  },
  {
   "cell_type": "code",
   "execution_count": 14,
   "id": "6",
   "metadata": {},
   "outputs": [
    {
     "name": "stdout",
     "output_type": "stream",
     "text": [
      "for:\n",
      "\tA control flow statement for specifying iteration, which allows code to be executed repeatedly.\n",
      "if:\n",
      "\tA conditional statement that executes a set of statements if a given condition is true.\n",
      "loop:\n",
      "\tThe action of doing something over and over again.\n",
      "variables:\n",
      "\tSymbols that are used to store data values.\n",
      "list:\n",
      "\tA data structure in Python that is a mutable, or changeable, ordered sequence of elements.\n"
     ]
    }
   ],
   "source": [
    "glossary = {\n",
    "    'for': 'A control flow statement for specifying iteration, which allows code to be executed repeatedly.',\n",
    "    'if': 'A conditional statement that executes a set of statements if a given condition is true.',\n",
    "    'loop': 'The action of doing something over and over again.',\n",
    "    'variables': 'Symbols that are used to store data values.',\n",
    "    'list': 'A data structure in Python that is a mutable, or changeable, ordered sequence of elements.'\n",
    "}\n",
    "\n",
    "for term, meaning in glossary.items():\n",
    "    print(f\"{term}:\\n\\t{meaning}\")\n"
   ]
  },
  {
   "cell_type": "markdown",
   "id": "7",
   "metadata": {},
   "source": [
    "## Question 4\n",
    "\n",
    "**Glossary 2:** Now that you know how to loop through a dictionary, clean up the code from Question 3 by replacing your series of print() calls with a loop that runs through the dictionary’s keys and values. When you’re sure that your loop works, add five more Python terms to your glossary. When you run your program again, these new words and meanings should automatically be included in the output."
   ]
  },
  {
   "cell_type": "code",
   "execution_count": 15,
   "id": "8",
   "metadata": {},
   "outputs": [
    {
     "name": "stdout",
     "output_type": "stream",
     "text": [
      "for:\n",
      "\tA control flow statement for specifying iteration, which allows code to be executed repeatedly.\n",
      "if:\n",
      "\tA conditional statement that executes a set of statements if a given condition is true.\n",
      "loop:\n",
      "\tThe action of doing something over and over again.\n",
      "variables:\n",
      "\tSymbols that are used to store data values.\n",
      "list:\n",
      "\tA data structure in Python that is a mutable, or changeable, ordered sequence of elements.\n",
      "string:\n",
      "\tA sequence of characters.\n",
      "integer:\n",
      "\tA whole number without a fractional part.\n",
      "float:\n",
      "\tA number that has a decimal point.\n",
      "boolean:\n",
      "\tA data type that can hold one of two possible values: True or False.\n",
      "conditional:\n",
      "\tStatements that perform different computations or actions depending on whether a condition evaluates to true or false.\n"
     ]
    }
   ],
   "source": [
    "revised_terms = {\n",
    "    'string': 'A sequence of characters.',\n",
    "    'integer': 'A whole number without a fractional part.',\n",
    "    'float': 'A number that has a decimal point.',\n",
    "    'boolean': 'A data type that can hold one of two possible values: True or False.',\n",
    "    'conditional': 'Statements that perform different computations or actions depending on whether a condition evaluates to true or false.'\n",
    "}\n",
    "\n",
    "glossary.update(revised_terms)\n",
    "\n",
    "for term, meaning in glossary.items():\n",
    "    print(f\"{term}:\\n\\t{meaning}\")"
   ]
  },
  {
   "cell_type": "markdown",
   "id": "9",
   "metadata": {},
   "source": [
    "## Question 5\n",
    "\n",
    "**Rivers:** Make a dictionary containing three major rivers and the country each river runs through. One key-value pair might be 'nile': 'egypt'.\n",
    "\n",
    "- Use a loop to print a sentence about each river, such as _The Nile runs through Egypt._\n",
    "- Use a loop to print the name of each river included in the dictionary.\n",
    "- Use a loop to print the name of each country included in the dictionary."
   ]
  },
  {
   "cell_type": "code",
   "execution_count": 16,
   "id": "10",
   "metadata": {},
   "outputs": [
    {
     "name": "stdout",
     "output_type": "stream",
     "text": [
      "The Nile runs through Egypt.\n",
      "The Han runs through Korea.\n",
      "The Tennessee runs through USA.\n",
      "\n",
      "The following rivers are included:\n",
      "Nile\n",
      "Han\n",
      "Tennessee\n",
      "\n",
      "These rivers run through the following countries:\n",
      "Egypt\n",
      "Korea\n",
      "USA\n"
     ]
    }
   ],
   "source": [
    "rivers = {\n",
    "    'Nile': 'Egypt',\n",
    "    'Han': 'Korea',\n",
    "    'Tennessee': 'USA'\n",
    "}\n",
    "\n",
    "for river, country in rivers.items():\n",
    "    print(f\"The {river} runs through {country}.\")\n",
    "\n",
    "print(\"\\nThe following rivers are included:\")\n",
    "for river in rivers.keys():\n",
    "    print(river)\n",
    "\n",
    "print(\"\\nThese rivers run through the following countries:\")\n",
    "for country in rivers.values():\n",
    "    print(country)"
   ]
  },
  {
   "cell_type": "markdown",
   "id": "11",
   "metadata": {},
   "source": [
    "## Question 6\n",
    "\n",
    "**Cities:** Make a dictionary called `cities`. Use the names of three cities as keys in your dictionary. Create a dictionary of information about each city and include the country that the city is in, its approximate population, and one fact about that city. The keys for each city’s dictionary should be something like `country`, `population`, and `fact`. Print the name of each city and all of the information you have stored about it."
   ]
  },
  {
   "cell_type": "code",
   "execution_count": 17,
   "id": "12",
   "metadata": {},
   "outputs": [
    {
     "name": "stdout",
     "output_type": "stream",
     "text": [
      "\n",
      "Knoxville:\n",
      "  Country: USA\n",
      "  Population: 187,500\n",
      "  Fact: Home to the University of Tennessee\n",
      "\n",
      "Seoul:\n",
      "  Country: South Korea\n",
      "  Population: 9.7 million\n",
      "  Fact: Home to the Seoul National University\n",
      "\n",
      "Beijing:\n",
      "  Country: China\n",
      "  Population: 21 million\n",
      "  Fact: Home to the Peking University\n"
     ]
    }
   ],
   "source": [
    "cities = {\n",
    "    'Knoxville': {'country': 'USA', 'population': '187,500', 'fact': 'Home to the University of Tennessee'},\n",
    "    'Seoul': {'country': 'South Korea', 'population': '9.7 million', 'fact': 'Home to the Seoul National University'},\n",
    "    'Beijing': {'country': 'China', 'population': '21 million', 'fact': 'Home to the Peking University'}\n",
    "}\n",
    "\n",
    "for city, info in cities.items():\n",
    "    print(f\"\\n{city}:\")\n",
    "    for key, value in info.items():\n",
    "        print(f\"  {key.title()}: {value}\")"
   ]
  },
  {
   "cell_type": "markdown",
   "id": "13",
   "metadata": {},
   "source": [
    "## Question 7\n",
    "\n",
    "**Rental Car:** Write a program that asks the user what kind of rental car they would like. Print a message about that car, such as “Let me see if I can find you a Subaru.”"
   ]
  },
  {
   "cell_type": "code",
   "execution_count": 18,
   "id": "14",
   "metadata": {},
   "outputs": [
    {
     "name": "stdout",
     "output_type": "stream",
     "text": [
      "\n",
      "Let me see if I can find you a Genesis.\n"
     ]
    }
   ],
   "source": [
    "def rental_car_request(car_type):\n",
    "    return f\"Let me see if I can find you a {car_type}.\"\n",
    "\n",
    "example_car_type = \"Genesis\"\n",
    "rental_car_message = rental_car_request(example_car_type)\n",
    "print(\"\\n\" + rental_car_message)"
   ]
  },
  {
   "cell_type": "markdown",
   "id": "15",
   "metadata": {},
   "source": [
    "## Question 8\n",
    "\n",
    "**Restaurant Seating:** Write a program that asks the user how many people are in their dinner group. If the answer is more than eight, print a message saying they’ll have to wait for a table. Otherwise, report that their table is ready."
   ]
  },
  {
   "cell_type": "code",
   "execution_count": 19,
   "id": "16",
   "metadata": {},
   "outputs": [
    {
     "name": "stdout",
     "output_type": "stream",
     "text": [
      "You’ll have to wait for a table.\n",
      "Your table is ready.\n"
     ]
    }
   ],
   "source": [
    "def check_table(group_size):\n",
    "    if group_size > 8:\n",
    "        return \"You’ll have to wait for a table.\"\n",
    "    else:\n",
    "        return \"Your table is ready.\"\n",
    "    \n",
    "\n",
    "# Example usage of the function:\n",
    "restaurant_seating_message_1 = check_table(10) \n",
    "restaurant_seating_message_2 = check_table(6) \n",
    "print(restaurant_seating_message_1)\n",
    "print(restaurant_seating_message_2)"
   ]
  },
  {
   "cell_type": "markdown",
   "id": "17",
   "metadata": {},
   "source": [
    "## Question 9\n",
    "\n",
    "**Multiples of Ten:** Ask the user for a number, and then report whether the number is a multiple of 10 or not."
   ]
  },
  {
   "cell_type": "code",
   "execution_count": 20,
   "id": "18",
   "metadata": {},
   "outputs": [
    {
     "name": "stdout",
     "output_type": "stream",
     "text": [
      "True\n",
      "False\n"
     ]
    }
   ],
   "source": [
    "def is_multiple_of_ten(number):\n",
    "    return number % 10 == 0\n",
    "\n",
    "# Example usage of the function:\n",
    "is_ten_multiple_1 = is_multiple_of_ten(20)  \n",
    "is_ten_multiple_2 = is_multiple_of_ten(23) \n",
    "\n",
    "print(is_ten_multiple_1)\n",
    "print(is_ten_multiple_2)"
   ]
  },
  {
   "cell_type": "markdown",
   "id": "19",
   "metadata": {},
   "source": [
    "## Question 10\n",
    "\n",
    "**Pizza Toppings:** Write a loop that prompts the user to enter a series of pizza toppings until they enter a 'quit' value. As they enter each topping, print a message saying you’ll add that topping to their pizza."
   ]
  },
  {
   "cell_type": "code",
   "execution_count": 21,
   "id": "20",
   "metadata": {},
   "outputs": [
    {
     "name": "stdout",
     "output_type": "stream",
     "text": [
      "I'll add corn to your pizza.\n",
      "I'll add ham to your pizza.\n",
      "I'll add bacon to your pizza.\n"
     ]
    },
    {
     "data": {
      "text/plain": [
       "['corn', 'ham', 'bacon']"
      ]
     },
     "execution_count": 21,
     "metadata": {},
     "output_type": "execute_result"
    }
   ],
   "source": [
    "def add_toppings():\n",
    "    toppings = []\n",
    "    while True:\n",
    "        topping = input(f\"Enter a topping for your pizza (type 'quit' to finish): \")\n",
    "        if topping == 'quit':\n",
    "            break\n",
    "        toppings.append(topping)\n",
    "        print(f\"I'll add {topping} to your pizza.\")\n",
    "    return toppings\n",
    "\n",
    "# write the toppings for the function:\n",
    "add_toppings()"
   ]
  },
  {
   "cell_type": "markdown",
   "id": "21",
   "metadata": {},
   "source": [
    "## Question 11\n",
    "\n",
    "**Message:** Write a function called `display_message()` that prints one sentence telling everyone what you are learning about in this chapter. Call the function, and make sure the message displays correctly."
   ]
  },
  {
   "cell_type": "code",
   "execution_count": 22,
   "id": "22",
   "metadata": {},
   "outputs": [
    {
     "name": "stdout",
     "output_type": "stream",
     "text": [
      "I'm learning about functions, loops, and conditionals in this chapter\n",
      "None\n"
     ]
    }
   ],
   "source": [
    "def display_message():\n",
    "    print(\"I'm learning about functions, loops, and conditionals in this chapter\")\n",
    "\n",
    "\n",
    "learning_message = display_message()\n",
    "print(learning_message)"
   ]
  },
  {
   "cell_type": "markdown",
   "id": "23",
   "metadata": {},
   "source": [
    "## Question 12\n",
    "\n",
    "**Favorite Book:** Write a function called `favorite_book()` that accepts one parameter, title. The function should print a message, such as `One of my favorite books is Alice in Wonderland`. Call the function, making sure to include a book title as an argument in the function call."
   ]
  },
  {
   "cell_type": "code",
   "execution_count": 23,
   "id": "24",
   "metadata": {},
   "outputs": [
    {
     "name": "stdout",
     "output_type": "stream",
     "text": [
      "One of my favorite books is Harry Potter.\n"
     ]
    }
   ],
   "source": [
    "def favorite_book(title):\n",
    "    print(f\"One of my favorite books is {title}.\")\n",
    "\n",
    "request_book='Harry Potter'\n",
    "favorite_book(request_book)"
   ]
  },
  {
   "cell_type": "markdown",
   "id": "25",
   "metadata": {},
   "source": [
    "## Question 13\n",
    "\n",
    "**T-Shirt:** Write a function called `make_shirt()` that accepts a size and the text of a message that should be printed on the shirt. The function should print a sentence summarizing the size of the shirt and the message printed on it.\n",
    "\n",
    "Call the function once using positional arguments to make a shirt. Call the function a second time using keyword arguments."
   ]
  },
  {
   "cell_type": "code",
   "execution_count": 24,
   "id": "26",
   "metadata": {},
   "outputs": [
    {
     "name": "stdout",
     "output_type": "stream",
     "text": [
      "The size of the shirt is Medium and the text printed on it is 'Go Vols!'.\n",
      "The size of the shirt is Small and the text printed on it is 'Tennessee.'.\n"
     ]
    }
   ],
   "source": [
    "def make_shirt(size, message):\n",
    "    print(f\"The size of the shirt is {size} and the text printed on it is '{message}'.\")\n",
    "\n",
    "make_shirt('Medium', 'Go Vols!')\n",
    "make_shirt(size='Small', message='Tennessee.')"
   ]
  },
  {
   "cell_type": "markdown",
   "id": "27",
   "metadata": {},
   "source": [
    "## Question 14\n",
    "\n",
    "**Large Shirts:** Modify the `make_shirt()` function so that shirts are large by default with a message that reads _I love Python_. Make a large shirt and a medium shirt with the default message, and a shirt of any size with a different message."
   ]
  },
  {
   "cell_type": "code",
   "execution_count": 25,
   "id": "28",
   "metadata": {},
   "outputs": [
    {
     "name": "stdout",
     "output_type": "stream",
     "text": [
      "The size of the shirt is Large and the text printed on it is 'I love Python.'.\n",
      "The size of the shirt is Small and the text printed on it is 'I love GEOG510!'.\n"
     ]
    }
   ],
   "source": [
    "def make_shirt(size='Large', message='I love Python.'):\n",
    "    print(f\"The size of the shirt is {size} and the text printed on it is '{message}'.\")\n",
    "\n",
    "make_shirt()  # This will use the default values.\n",
    "make_shirt(size='Small', message='I love GEOG510!')"
   ]
  },
  {
   "cell_type": "markdown",
   "id": "29",
   "metadata": {},
   "source": [
    "## Question 15\n",
    "\n",
    "**Cities:** Write a function called `describe_city()` that accepts the name of a city and its country. The function should print a simple sentence, such as `Reykjavik is in Iceland`. Give the parameter for the country a default value. Call your function for three different cities, at least one of which is not in the default country."
   ]
  },
  {
   "cell_type": "code",
   "execution_count": 26,
   "id": "30",
   "metadata": {},
   "outputs": [
    {
     "name": "stdout",
     "output_type": "stream",
     "text": [
      "Reykjavik is in Iceland.\n",
      "Seoul is in South Korea.\n",
      "Knoxville is in USA.\n"
     ]
    }
   ],
   "source": [
    "def describe_city(city, country='Iceland'):\n",
    "    print(f\"{city} is in {country}.\")\n",
    "\n",
    "describe_city('Reykjavik')\n",
    "describe_city('Seoul', country='South Korea')\n",
    "describe_city('Knoxville', country='USA')"
   ]
  },
  {
   "cell_type": "markdown",
   "id": "31",
   "metadata": {},
   "source": [
    "## Question 16\n",
    "\n",
    "**City Names:** Write a function called `city_country()` that takes in the name of a city and its country. The function should return a string formatted like this:\n",
    "\n",
    "```text\n",
    "Santiago, Chile\n",
    "```\n",
    "\n",
    "Call your function with at least three city-country pairs, and print the values that are returned."
   ]
  },
  {
   "cell_type": "code",
   "execution_count": 27,
   "id": "32",
   "metadata": {},
   "outputs": [
    {
     "name": "stdout",
     "output_type": "stream",
     "text": [
      "Knoxville, USA\n",
      "Seoul, South Korea\n",
      "Beijing, China\n"
     ]
    }
   ],
   "source": [
    "def city_country(city, country):\n",
    "    return f\"{city}, {country}\"\n",
    "\n",
    "print(city_country('Knoxville', 'USA'))\n",
    "print(city_country('Seoul', 'South Korea'))\n",
    "print(city_country('Beijing', 'China'))"
   ]
  },
  {
   "cell_type": "markdown",
   "id": "33",
   "metadata": {},
   "source": [
    "## Question 17\n",
    "\n",
    "**Album:** Write a function called `make_album()` that builds a dictionary describing a music album. The function should take in an artist name and an album title, and it should return a dictionary containing these two pieces of information. Use the function to make three dictionaries representing different albums. Print each return value to show that the dictionaries are storing the album information correctly.\n",
    "\n",
    "Use None to add an optional parameter to make_album() that allows you to store the number of songs on an album. If the calling line includes a value for the number of songs, add that value to the album’s dictionary. Make at least one new function call that includes the number of songs on an album."
   ]
  },
  {
   "cell_type": "code",
   "execution_count": 28,
   "id": "34",
   "metadata": {},
   "outputs": [
    {
     "name": "stdout",
     "output_type": "stream",
     "text": [
      "{'artist': 'Beyonce', 'album': 'Album1'}\n",
      "{'artist': 'Michael Jackson', 'album': 'Album2', 'number_of_songs': 10}\n",
      "{'artist': 'Prince', 'album': 'Album3'}\n"
     ]
    }
   ],
   "source": [
    "def make_album(artist_name, album_title, number_of_songs=None):\n",
    "    album = {'artist': artist_name, 'album': album_title}\n",
    "    if number_of_songs:\n",
    "        album['number_of_songs'] = number_of_songs\n",
    "    return album\n",
    "\n",
    "print(make_album('Beyonce', 'Album1'))\n",
    "print(make_album('Michael Jackson', 'Album2', number_of_songs=10))\n",
    "print(make_album('Prince', 'Album3'))"
   ]
  },
  {
   "cell_type": "markdown",
   "id": "35",
   "metadata": {},
   "source": [
    "## Question 18\n",
    "\n",
    "**User Albums:** Start with your program from Question 17. Write a `while` loop that allows users to enter an album’s artist and title. Once you have that information, call `make_album()` with the user’s input and print the dictionary that’s created. Be sure to include a quit value in the `while` loop."
   ]
  },
  {
   "cell_type": "code",
   "execution_count": 29,
   "id": "36",
   "metadata": {},
   "outputs": [
    {
     "name": "stdout",
     "output_type": "stream",
     "text": [
      "{'artist': 'prince', 'album': 'beautiful girl', 'number_of_songs': 14}\n"
     ]
    }
   ],
   "source": [
    "# Re_Define question17\n",
    "def make_album(artist_name, album_title, number_of_songs=None):\n",
    "    album = {'artist': artist_name, 'album': album_title}\n",
    "    if number_of_songs:\n",
    "        album['number_of_songs'] = number_of_songs\n",
    "    return album\n",
    "\n",
    "# Initialize an empty list to store albums\n",
    "user_albums = []\n",
    "\n",
    "# Simulated user inputs\n",
    "while True:\n",
    "    artist = input(\"Enter artist name (or 'quit' to finish): \").strip() # Added 'strip function' to quit simulator easily\n",
    "    if artist.lower() == 'quit':\n",
    "        break\n",
    "    title = input(\"Enter album title: \")\n",
    "    songs = input(\"Enter number of songs (or leave blank if unknown): \")\n",
    "    songs = int(songs) if songs.isdigit() else None\n",
    "\n",
    "    album = make_album(artist, title, songs)\n",
    "    user_albums.append(album)\n",
    "\n",
    "# Print the list of user albums\n",
    "for album in user_albums:\n",
    "    print(album)"
   ]
  },
  {
   "cell_type": "markdown",
   "id": "37",
   "metadata": {},
   "source": [
    "## Question 19\n",
    "\n",
    "**Messages:** Make a list containing a series of short text messages. Pass the list to a function called `show_messages()`, which prints each text message."
   ]
  },
  {
   "cell_type": "code",
   "execution_count": 30,
   "id": "38",
   "metadata": {},
   "outputs": [
    {
     "name": "stdout",
     "output_type": "stream",
     "text": [
      "Hello!\n",
      "My name is Wanhee Kim\n",
      "How are you?\n"
     ]
    }
   ],
   "source": [
    "def show_messages(messages):\n",
    "    for message in messages:\n",
    "        print(message)\n",
    "\n",
    "messages = [\"Hello!\", \"My name is Wanhee Kim\", \"How are you?\"]\n",
    "show_messages(messages)"
   ]
  },
  {
   "cell_type": "markdown",
   "id": "39",
   "metadata": {},
   "source": [
    "## Question 20\n",
    "\n",
    "**Sending Messages:** Start with a copy of your program from Question 19. Write a function called `send_messages()` that prints each text message and moves each message to a new list called `sent_messages` as it’s printed. After calling the function, print both of your lists to make sure the messages were moved correctly."
   ]
  },
  {
   "cell_type": "code",
   "execution_count": 31,
   "id": "40",
   "metadata": {},
   "outputs": [
    {
     "name": "stdout",
     "output_type": "stream",
     "text": [
      "Sending message: How are you?\n",
      "Sending message: My name is Wanhee Kim\n",
      "Sending message: Hello!\n",
      "Original messages: ['Hello!', 'My name is Wanhee Kim', 'How are you?']\n",
      "Sent messages: ['How are you?', 'My name is Wanhee Kim', 'Hello!']\n"
     ]
    }
   ],
   "source": [
    "messages = [\"Hello!\", \"My name is Wanhee Kim\", \"How are you?\"]\n",
    "sent_messages=[]\n",
    "\n",
    "def send_messages(messages):\n",
    "    while messages:\n",
    "        current_message = messages.pop()\n",
    "        print(f\"Sending message: {current_message}\")\n",
    "        sent_messages.append(current_message)\n",
    "\n",
    "send_messages(messages[:]) \n",
    "print(\"Original messages:\", messages)\n",
    "print(\"Sent messages:\", sent_messages)"
   ]
  },
  {
   "cell_type": "markdown",
   "id": "41",
   "metadata": {},
   "source": [
    "## Question 21\n",
    "\n",
    "**Learning Python:** Open a blank file in your text editor and write a few lines summarizing what you’ve learned about Python so far. Start each line with the phrase _In Python you can. . .._ Save the file as _learning_python.txt_ in the same directory as your exercises from this chapter. Write a program that reads the file and prints what you wrote three times. Print the contents once by reading in the entire file, once by looping over the file object, and once by storing the lines in a list and then working with them outside the _with_ block."
   ]
  },
  {
   "cell_type": "code",
   "execution_count": 32,
   "id": "42",
   "metadata": {},
   "outputs": [
    {
     "name": "stdout",
     "output_type": "stream",
     "text": [
      "In Python you can. Store information in variables.\n",
      "In Python you can. Write functions to perform tasks.\n",
      "In Python you can. Loop through lists.\n",
      "In Python you can. Store information in variables.\n",
      "In Python you can. Write functions to perform tasks.\n",
      "In Python you can. Loop through lists.\n",
      "In Python you can. Store information in variables.\n",
      "In Python you can. Write functions to perform tasks.\n",
      "In Python you can. Loop through lists.\n"
     ]
    }
   ],
   "source": [
    "text = \"\"\"In Python you can. Store information in variables.\n",
    "In Python you can. Write functions to perform tasks.\n",
    "In Python you can. Loop through lists.\"\"\"\n",
    "\n",
    "# entire file\n",
    "print(text)\n",
    "\n",
    "# looping over the file object\n",
    "for line in text.split('\\n'):\n",
    "    print(line)\n",
    "\n",
    "# storing the lines in a list & working outside with block\n",
    "lines = text.split('\\n')\n",
    "for line in lines:\n",
    "    print(line)"
   ]
  },
  {
   "cell_type": "markdown",
   "id": "43",
   "metadata": {},
   "source": [
    "## Question 22\n",
    "\n",
    "**Learning C:** You can use the replace() method to replace any word in a string with a different word. Here’s a quick example showing how to replace 'dog' with 'cat' in a sentence:\n",
    "\n",
    "```text\n",
    "message = \"I really like dogs.\"\n",
    "message.replace('dog', 'cat')\n",
    "'I really like cats.'\n",
    "```\n",
    "\n",
    "Read in each line from the file you just created, _learning_python.txt_, and replace the word _Python_ with the name of another language, such as _C_. Print each modified line to the screen."
   ]
  },
  {
   "cell_type": "code",
   "execution_count": 33,
   "id": "44",
   "metadata": {},
   "outputs": [
    {
     "name": "stdout",
     "output_type": "stream",
     "text": [
      "I live in Nashville, USA.\n",
      "I am phd Student at University of Tennessee Nashville.\n",
      "I live in Knoxville, USA.\n",
      "I am phd Student at University of Tennessee Knoxville.\n"
     ]
    }
   ],
   "source": [
    "message = (\"I live in Nashville, USA.\\n\"\n",
    "           \"I am phd Student at University of Tennessee Nashville.\")\n",
    "\n",
    "print(message)\n",
    "\n",
    "modified_contents = message.replace('Nashville', 'Knoxville')\n",
    "print(modified_contents)\n"
   ]
  },
  {
   "cell_type": "markdown",
   "id": "45",
   "metadata": {},
   "source": [
    "## Question 23\n",
    "\n",
    "**Guest:** Write a program that prompts the user for their name. When they respond, write their name to a file called guest.txt."
   ]
  },
  {
   "cell_type": "code",
   "execution_count": 34,
   "id": "46",
   "metadata": {},
   "outputs": [
    {
     "name": "stdout",
     "output_type": "stream",
     "text": [
      "What's your name?\n",
      "Hello, Wanhee! Your name has been added to the guest book.\n"
     ]
    }
   ],
   "source": [
    "# Define writing txt \n",
    "def write_guest_name(filename, guest_name):\n",
    "    with open(filename, 'a') as f:\n",
    "        f.write(guest_name + \"\\n\")\n",
    "\n",
    "#add_guest\n",
    "input_name = \"Wanhee\"\n",
    "\n",
    "def add_guest():\n",
    "    print(f\"What's your name?\")\n",
    "    guest_name = input_name\n",
    "    # Write to guest.txt file \n",
    "    print(f\"Hello, {guest_name}! Your name has been added to the guest book.\")\n",
    "    return guest_name  \n",
    "\n",
    "# Call the add_guest function and simulate writing to a file\n",
    "guest_name = add_guest()\n",
    "\n",
    "\n",
    "#write_guest_name(f'D:/GIS program/Github/geog510/exercise/guest.txt', guest_name)"
   ]
  },
  {
   "cell_type": "markdown",
   "id": "47",
   "metadata": {},
   "source": [
    "## Question 24\n",
    "\n",
    "**Guest Book:** Write a while loop that prompts users for their name. When they enter their name, print a greeting to the screen and add a line recording their visit in a file called guest_book.txt. Make sure each entry appears on a new line in the file."
   ]
  },
  {
   "cell_type": "code",
   "execution_count": 35,
   "id": "48",
   "metadata": {},
   "outputs": [
    {
     "name": "stdout",
     "output_type": "stream",
     "text": [
      "Hello, Dr.Wu! Your name has been added to the guest book.\n",
      "Hello, Dr.Hyun! Your name has been added to the guest book.\n",
      "Hello, Mr.Wanhee! Your name has been added to the guest book.\n"
     ]
    }
   ],
   "source": [
    "guest_name = [\"Dr.Wu\", \"Dr.Hyun\", \"Mr.Wanhee\"]\n",
    "\n",
    "def add_to_guest_book():\n",
    "    booked_names = guest_name\n",
    "    for names in booked_names:\n",
    "        print(f\"Hello, {names}! Your name has been added to the guest book.\")\n",
    "\n",
    "# Call the add_to_guest_book function to simulate the guest book process\n",
    "add_to_guest_book()\n"
   ]
  },
  {
   "cell_type": "markdown",
   "id": "49",
   "metadata": {},
   "source": [
    "## Question 25\n",
    "\n",
    "**Programming Poll:** Write a while loop that asks people why they like programming. Each time someone enters a reason, add their reason to a file that stores all the responses."
   ]
  },
  {
   "cell_type": "code",
   "execution_count": 37,
   "id": "50",
   "metadata": {},
   "outputs": [],
   "source": [
    "reasons_file = 'C:\\\\Users\\\\dooco\\\\OneDrive\\\\5. Doctoral Degree\\\\1. Class\\\\8. GEOG510\\\\responses.txt'\n",
    "with open(reasons_file, 'a') as file:\n",
    "    while True:\n",
    "        reason = input(\"Why do you like programming? (type 'quit' to end) \")\n",
    "        if reason == 'quit':\n",
    "            break\n",
    "        file.write(reason + \"\\n\")"
   ]
  },
  {
   "cell_type": "markdown",
   "id": "51",
   "metadata": {},
   "source": [
    "## Question 26\n",
    "\n",
    "**Addition:** One common problem when prompting for numerical input occurs when people provide text instead of numbers. When you try to convert the input to an int, you’ll get a ValueError. Write a program that prompts for two numbers. Add them together and print the result. Catch the ValueError if either input value is not a number, and print a friendly error message. Test your program by entering two numbers and then by entering some text instead of a number."
   ]
  },
  {
   "cell_type": "code",
   "execution_count": 38,
   "id": "211fe9d1",
   "metadata": {},
   "outputs": [
    {
     "name": "stdout",
     "output_type": "stream",
     "text": [
      "The sum of 10 and 5 is 15.\n",
      "Please enter a valid number.\n"
     ]
    }
   ],
   "source": [
    "def add_numbers():\n",
    "    try:\n",
    "        x = int(a)\n",
    "        y = int(b)\n",
    "        sum = x + y\n",
    "    except ValueError:\n",
    "        print(\"Please enter a valid number.\")\n",
    "    else:\n",
    "        print(f\"The sum of {x} and {y} is {sum}.\")\n",
    "\n",
    "(a,b) =(10, 5)\n",
    "add_numbers()\n",
    "\n",
    "(a,b) =(10, \"data\")\n",
    "add_numbers()\n"
   ]
  },
  {
   "cell_type": "markdown",
   "id": "53",
   "metadata": {},
   "source": [
    "## Question 27\n",
    "\n",
    "**Addition Calculator:** Wrap your code from Question 26 in a while loop so the user can continue entering numbers even if they make a mistake and enter text instead of a number."
   ]
  },
  {
   "cell_type": "code",
   "execution_count": 39,
   "id": "92afc540",
   "metadata": {},
   "outputs": [
    {
     "name": "stdout",
     "output_type": "stream",
     "text": [
      "The sum of 10 and 5 is 15.\n",
      "The sum of 13 and 245 is 258.\n"
     ]
    }
   ],
   "source": [
    "def add_numbers(a, b):\n",
    "    try:\n",
    "        x = int(a)\n",
    "        y = int(b)\n",
    "        return x + y\n",
    "    except ValueError:\n",
    "        print(\"Please enter a valid number.\")\n",
    "        return None\n",
    "\n",
    "while True:\n",
    "    first_number = input(\"Enter first number (or 'quit' to finish): \")\n",
    "    if first_number.lower() == 'quit':\n",
    "        break\n",
    "    second_number = input(\"Enter second number: \")\n",
    "    result = add_numbers(first_number, second_number)\n",
    "    \n",
    "    if result is not None:\n",
    "        print(f\"The sum of {first_number} and {second_number} is {result}.\")"
   ]
  },
  {
   "cell_type": "markdown",
   "id": "55",
   "metadata": {},
   "source": [
    "## Question 28\n",
    "\n",
    "**Cats and Dogs:** Make two files, _cats.txt_ and _dogs.txt_. Store at least three names of cats in the first file and three names of dogs in the second file. Write a program that tries to read these files and print the contents of the file to the screen. Wrap your code in a `try-except` block to catch the `FileNotFound` error, and print a friendly message if a file is missing. Move one of the files to a different location on your system, and make sure the code in the `except` block executes properly."
   ]
  },
  {
   "cell_type": "code",
   "execution_count": 40,
   "id": "56",
   "metadata": {},
   "outputs": [
    {
     "name": "stdout",
     "output_type": "stream",
     "text": [
      "Sorry, the file D:/GIS program/Github/geog510/exercise/cats.txt does not exist.\n",
      "Sorry, the file D:/GIS program/Github/geog510/exercise/dogs.txt does not exist.\n"
     ]
    }
   ],
   "source": [
    "def print_file_contents(filename):\n",
    "    try:\n",
    "        with open(filename, 'r') as f:\n",
    "            contents = f.read()\n",
    "            print(contents)\n",
    "    except FileNotFoundError:\n",
    "        print(f\"Sorry, the file {filename} does not exist.\")\n",
    "\n",
    "print_file_contents(f'D:/GIS program/Github/geog510/exercise/cats.txt')\n",
    "print_file_contents(f'D:/GIS program/Github/geog510/exercise/dogs.txt')\n",
    "#print_file_contents(f'D:/GIS program/Github/geog510/exercise/rabbits.txt')\n"
   ]
  },
  {
   "cell_type": "markdown",
   "id": "57",
   "metadata": {},
   "source": [
    "## Question 29\n",
    "\n",
    "**Silent Cats and Dogs:** Modify your except block in Question 28 to fail silently if either file is missing."
   ]
  },
  {
   "cell_type": "code",
   "execution_count": 41,
   "id": "58",
   "metadata": {},
   "outputs": [],
   "source": [
    "def print_file_contents_silently(filename):\n",
    "    try:\n",
    "        with open(filename, 'r') as f:\n",
    "            contents = f.read()\n",
    "            print(contents)\n",
    "    except FileNotFoundError:\n",
    "        pass \n",
    "\n",
    "print_file_contents_silently(f'D:/GIS program/Github/geog510/exercise/cats.txt')\n",
    "print_file_contents_silently(f'D:/GIS program/Github/geog510/exercise/dogs.txt')\n",
    "#print_file_contents_silently(f'D:/GIS program/Github/geog510/exercise/rabbits.txt')"
   ]
  },
  {
   "cell_type": "markdown",
   "id": "59",
   "metadata": {},
   "source": [
    "## Question 30\n",
    "\n",
    "**Common Words:** Visit Project Gutenberg (<https://gutenberg.org/>) and find a few texts you’d like to analyze. Download the text files for these works, or copy the raw text from your browser into a text file on your computer. You can use the `count()` method to find out how many times a word or phrase appears in a string. For example, the following code counts the number of times 'row' appears in a string:"
   ]
  },
  {
   "cell_type": "code",
   "execution_count": 43,
   "id": "60",
   "metadata": {},
   "outputs": [
    {
     "data": {
      "text/plain": [
       "2"
      ]
     },
     "execution_count": 43,
     "metadata": {},
     "output_type": "execute_result"
    }
   ],
   "source": [
    "line = \"Row, row, row your boat\"\n",
    "line.count(\"row\")"
   ]
  },
  {
   "cell_type": "code",
   "execution_count": 44,
   "id": "61",
   "metadata": {},
   "outputs": [
    {
     "data": {
      "text/plain": [
       "3"
      ]
     },
     "execution_count": 44,
     "metadata": {},
     "output_type": "execute_result"
    }
   ],
   "source": [
    "line.lower().count(\"row\")"
   ]
  },
  {
   "cell_type": "markdown",
   "id": "62",
   "metadata": {},
   "source": [
    "Notice that converting the string to lowercase using lower() catches all appearances of the word you’re looking for, regardless of how it’s formatted.\n",
    "\n",
    "Write a program that reads the files you found at Project Gutenberg and determines how many times the word `the` appears in each text. This will be an approximation because it will also count words such as `then` and `there`. Try counting `the`, with a space in the string, and see how much lower your count is."
   ]
  },
  {
   "cell_type": "code",
   "execution_count": 42,
   "id": "63",
   "metadata": {},
   "outputs": [
    {
     "name": "stdout",
     "output_type": "stream",
     "text": [
      "The word 'the' appears 11607 times in the text.\n",
      "The word 'then' appears 122 times in the text.\n",
      "The word 'there' appears 255 times in the text.\n"
     ]
    }
   ],
   "source": [
    "import requests\n",
    "\n",
    "# URL of the text file\n",
    "url = 'https://gutenberg.org/cache/epub/73159/pg73159.txt'\n",
    "\n",
    "# Send a GET request to the URL\n",
    "response = requests.get(url)\n",
    "\n",
    "# Check if the request was successful\n",
    "if response.status_code == 200:\n",
    "    # Read the content of the file\n",
    "    text = response.text.lower()  # Convert text to lowercase\n",
    "\n",
    "    # Words to count\n",
    "    words_to_count = ['the', 'then', 'there']\n",
    "\n",
    "    # Dictionary to store the counts\n",
    "    word_counts = {word: text.count(f' {word} ') for word in words_to_count}\n",
    "\n",
    "    # Print the counts\n",
    "    for word, count in word_counts.items():\n",
    "        print(f\"The word '{word}' appears {count} times in the text.\")\n",
    "else:\n",
    "    print(\"Failed to retrieve the text file.\")\n",
    "\n"
   ]
  }
 ],
 "metadata": {
  "kernelspec": {
   "display_name": "Python 3",
   "language": "python",
   "name": "python3"
  },
  "language_info": {
   "codemirror_mode": {
    "name": "ipython",
    "version": 3
   },
   "file_extension": ".py",
   "mimetype": "text/x-python",
   "name": "python",
   "nbconvert_exporter": "python",
   "pygments_lexer": "ipython3",
   "version": "3.11.8"
  }
 },
 "nbformat": 4,
 "nbformat_minor": 5
}
