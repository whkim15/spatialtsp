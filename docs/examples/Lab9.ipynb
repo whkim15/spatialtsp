{
 "cells": [
  {
   "cell_type": "markdown",
   "metadata": {},
   "source": [
    "## Vector Map\n",
    "\n",
    "[![image](https://colab.research.google.com/assets/colab-badge.svg)](https://colab.research.google.com/drive/1eFdoKMcgDPtn9avyC8waQHakfcX8dqM7)"
   ]
  },
  {
   "cell_type": "code",
   "execution_count": 1,
   "metadata": {},
   "outputs": [
    {
     "name": "stdout",
     "output_type": "stream",
     "text": [
      "D:\\GIS program\\Github\\spatialtsp\\spatialtsp-5\\spatialtsp\\__init__.py\n"
     ]
    }
   ],
   "source": [
    "## change the directory of spatialtsp to the current directory\n",
    "\n",
    "import sys\n",
    "sys.path.insert(0, 'D:\\\\GIS program\\\\Github\\\\spatialtsp\\\\spatialtsp-5')\n",
    "import spatialtsp\n",
    "print(spatialtsp.__file__)\n"
   ]
  },
  {
   "cell_type": "code",
   "execution_count": 2,
   "metadata": {},
   "outputs": [
    {
     "data": {
      "application/vnd.jupyter.widget-view+json": {
       "model_id": "f425fb22b918468d937597fc4919c982",
       "version_major": 2,
       "version_minor": 0
      },
      "text/plain": [
       "Map(center=[20, 0], controls=(ZoomControl(options=['position', 'zoom_in_text', 'zoom_in_title', 'zoom_out_text…"
      ]
     },
     "execution_count": 2,
     "metadata": {},
     "output_type": "execute_result"
    }
   ],
   "source": [
    "m = spatialtsp.Map()\n",
    "m.add_basemap_gui()\n",
    "\n",
    "m"
   ]
  },
  {
   "cell_type": "code",
   "execution_count": 4,
   "metadata": {},
   "outputs": [
    {
     "data": {
      "application/vnd.jupyter.widget-view+json": {
       "model_id": "2f4e0371143b45edba04b909ac2be988",
       "version_major": 2,
       "version_minor": 0
      },
      "text/plain": [
       "Map(center=[20, 0], controls=(ZoomControl(options=['position', 'zoom_in_text', 'zoom_in_title', 'zoom_out_text…"
      ]
     },
     "execution_count": 4,
     "metadata": {},
     "output_type": "execute_result"
    }
   ],
   "source": [
    "## add the toolbar\n",
    "\n",
    "from spatialtsp import Map\n",
    "#Create a map\n",
    "m = spatialtsp.Map()\n",
    "\n",
    "#add toolbar using the add_toolbar function\n",
    "#explore the buttons at your leisure\n",
    "\n",
    "\n",
    "m.add_toolbar()\n",
    "\n",
    "m\n"
   ]
  }
 ],
 "metadata": {
  "kernelspec": {
   "display_name": "Python 3",
   "language": "python",
   "name": "python3"
  },
  "language_info": {
   "codemirror_mode": {
    "name": "ipython",
    "version": 3
   },
   "file_extension": ".py",
   "mimetype": "text/x-python",
   "name": "python",
   "nbconvert_exporter": "python",
   "pygments_lexer": "ipython3",
   "version": "3.11.9"
  }
 },
 "nbformat": 4,
 "nbformat_minor": 2
}
