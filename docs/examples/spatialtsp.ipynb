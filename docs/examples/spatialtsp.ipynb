{
 "cells": [
  {
   "cell_type": "markdown",
   "metadata": {},
   "source": [
    "# Spatially Informed Traveling Salesman Problem\n",
    "[![image](https://colab.research.google.com/assets/colab-badge.svg)](https://colab.research.google.com/github/whkim15/spatialtsp/blob/main/spatialtsp.ipynb)    Developed by Wanhee Kim(Phd student at UTK)\n",
    "\n"
   ]
  },
  {
   "cell_type": "markdown",
   "metadata": {},
   "source": [
    "## Sequence of spatially informed TSP\n",
    "1. Measure adjacency based on spatial information\n",
    "2. Generate distance matrix\n",
    "3. Analyze TSP"
   ]
  },
  {
   "cell_type": "markdown",
   "metadata": {},
   "source": [
    "## Analysis"
   ]
  },
  {
   "cell_type": "code",
   "execution_count": null,
   "metadata": {},
   "outputs": [],
   "source": [
    "# Make Toy Data\n",
    "from spatialtsp import is_far_enough, generate_clustered_points\n",
    "points=generate_clustered_points(10)\n",
    "points"
   ]
  },
  {
   "cell_type": "code",
   "execution_count": null,
   "metadata": {},
   "outputs": [],
   "source": [
    "# Calculate Standard Distance Matrix\n",
    "from spatialtsp import calculate_distance_matrix\n",
    "distance_matrix=calculate_distance_matrix(points)\n",
    "distance_matrix"
   ]
  },
  {
   "cell_type": "code",
   "execution_count": null,
   "metadata": {},
   "outputs": [],
   "source": [
    "# set working directory\n",
    "path = 'D:/GIS_analyzing/1.Standard_TSP/0.test_iteration' # write your own directory\n",
    "os.chdir(path)\n",
    "os.getcwd()"
   ]
  },
  {
   "cell_type": "code",
   "execution_count": null,
   "metadata": {},
   "outputs": [],
   "source": []
  },
  {
   "cell_type": "code",
   "execution_count": null,
   "metadata": {},
   "outputs": [],
   "source": [
    "# Add basemap\n",
    "from spatialtsp import Map\n",
    "\n",
    "geojson_map = Map(center=[40.7128, -74.0060], zoom=10)\n",
    "geojson_map.add_basemap(\"OpenStreetMap.Mapnik\")\n",
    "\n",
    "geojson_map\n"
   ]
  },
  {
   "cell_type": "code",
   "execution_count": 18,
   "metadata": {},
   "outputs": [
    {
     "ename": "AttributeError",
     "evalue": "'Map' object has no attribute 'add_geojson_2'",
     "output_type": "error",
     "traceback": [
      "\u001b[1;31m---------------------------------------------------------------------------\u001b[0m",
      "\u001b[1;31mAttributeError\u001b[0m                            Traceback (most recent call last)",
      "Cell \u001b[1;32mIn[18], line 9\u001b[0m\n\u001b[0;32m      6\u001b[0m geojson_url \u001b[38;5;241m=\u001b[39m \u001b[38;5;124m\"\u001b[39m\u001b[38;5;124mhttps://github.com/opengeos/datasets/releases/download/us/us_states.geojson\u001b[39m\u001b[38;5;124m\"\u001b[39m\n\u001b[0;32m      8\u001b[0m \u001b[38;5;66;03m# GeoJSON 데이터 추가\u001b[39;00m\n\u001b[1;32m----> 9\u001b[0m \u001b[43mmy_map\u001b[49m\u001b[38;5;241;43m.\u001b[39;49m\u001b[43madd_geojson_2\u001b[49m(geojson_url, name\u001b[38;5;241m=\u001b[39m\u001b[38;5;124m\"\u001b[39m\u001b[38;5;124mUS Counties\u001b[39m\u001b[38;5;124m\"\u001b[39m)\n\u001b[0;32m     11\u001b[0m \u001b[38;5;66;03m# 지도 표시\u001b[39;00m\n\u001b[0;32m     12\u001b[0m my_map\n",
      "\u001b[1;31mAttributeError\u001b[0m: 'Map' object has no attribute 'add_geojson_2'"
     ]
    }
   ],
   "source": [
    "#\n"
   ]
  },
  {
   "cell_type": "code",
   "execution_count": null,
   "metadata": {},
   "outputs": [],
   "source": []
  },
  {
   "cell_type": "code",
   "execution_count": null,
   "metadata": {},
   "outputs": [],
   "source": [
    "## other codes will be updated soon"
   ]
  }
 ],
 "metadata": {
  "kernelspec": {
   "display_name": "Python 3",
   "language": "python",
   "name": "python3"
  },
  "language_info": {
   "codemirror_mode": {
    "name": "ipython",
    "version": 3
   },
   "file_extension": ".py",
   "mimetype": "text/x-python",
   "name": "python",
   "nbconvert_exporter": "python",
   "pygments_lexer": "ipython3",
   "version": "3.11.8"
  }
 },
 "nbformat": 4,
 "nbformat_minor": 2
}
