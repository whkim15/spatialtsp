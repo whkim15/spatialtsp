{
  "cells": [
    {
      "cell_type": "markdown",
      "metadata": {
        "id": "CaGirCr6Pc-8"
      },
      "source": [
        "# Spatially Informed Traveling Salesman Problem\n",
        "[![image](https://colab.research.google.com/assets/colab-badge.svg)](https://colab.research.google.com/drive/1Rw9_fomI2CRgYNwEmZRx8XU3j1RQK9gO)\n",
        "Developed by Wanhee Kim(Phd student at UTK) / Revised Date : 04/09/2024\n"
      ]
    },
    {
      "cell_type": "markdown",
      "metadata": {
        "id": "mWWhV4s3Pc-_"
      },
      "source": [
        "## Sequence of spatially informed TSP\n",
        "1. Measure adjacency based on spatial information\n",
        "2. Generate distance matrix\n",
        "3. Analyze TSP"
      ]
    },
    {
      "cell_type": "markdown",
      "metadata": {
        "id": "qO4f61z7Pc_A"
      },
      "source": [
        "## Analysis"
      ]
    },
    {
      "cell_type": "code",
      "execution_count": null,
      "metadata": {
        "id": "i21B9oYlsXDl"
      },
      "outputs": [],
      "source": [
        "pip install spatialtsp"
      ]
    },
    {
      "cell_type": "code",
      "execution_count": 21,
      "metadata": {},
      "outputs": [
        {
          "name": "stdout",
          "output_type": "stream",
          "text": [
            "current directory: D:\\GIS program\\Github\\spatialtsp\\spatialtsp-5\n"
          ]
        }
      ],
      "source": [
        "#change path\n",
        "import os\n",
        "os.chdir('D:/GIS program/Github/spatialtsp/spatialtsp-5')\n",
        "\n",
        "# Check the directory\n",
        "current_directory = os.getcwd()\n",
        "print(\"current directory:\", current_directory)\n",
        "\n",
        "\n",
        "# # set working directory\n",
        "path = 'D:/GIS program/Github/spatialtsp/final_work'\n",
        "# os.chdir(path)\n",
        "# os.getcwd()"
      ]
    },
    {
      "cell_type": "code",
      "execution_count": 22,
      "metadata": {},
      "outputs": [
        {
          "ename": "ImportError",
          "evalue": "cannot import name 'generate_random_points' from 'spatialtsp' (D:\\GIS program\\Github\\spatialtsp\\spatialtsp-5\\spatialtsp\\__init__.py)",
          "output_type": "error",
          "traceback": [
            "\u001b[1;31m---------------------------------------------------------------------------\u001b[0m",
            "\u001b[1;31mImportError\u001b[0m                               Traceback (most recent call last)",
            "Cell \u001b[1;32mIn[22], line 2\u001b[0m\n\u001b[0;32m      1\u001b[0m \u001b[38;5;66;03m# Import the package\u001b[39;00m\n\u001b[1;32m----> 2\u001b[0m \u001b[38;5;28;01mfrom\u001b[39;00m \u001b[38;5;21;01mspatialtsp\u001b[39;00m \u001b[38;5;28;01mimport\u001b[39;00m generate_clustered_points, generate_random_points, calculate_distance_matrix, voronoi_adjacency_distance, knn_adjacency_distance, combine_distance_matrices\n",
            "\u001b[1;31mImportError\u001b[0m: cannot import name 'generate_random_points' from 'spatialtsp' (D:\\GIS program\\Github\\spatialtsp\\spatialtsp-5\\spatialtsp\\__init__.py)"
          ]
        }
      ],
      "source": [
        "# Import the package\n",
        "from spatialtsp import generate_clustered_points, calculate_distance_matrix, voronoi_adjacency_distance, knn_adjacency_distance, combine_distance_matrices"
      ]
    },
    {
      "cell_type": "markdown",
      "metadata": {},
      "source": [
        "### Make Toy Data"
      ]
    },
    {
      "cell_type": "code",
      "execution_count": null,
      "metadata": {
        "id": "0xVkjPQBPc_B",
        "outputId": "22f84977-19ee-4c32-8a8d-9c452408efcf"
      },
      "outputs": [],
      "source": [
        "# Make Toy Data\n",
        "# import sys\n",
        "# sys.path.insert(0, 'D:/GIS program/Github/spatialtsp/spatialtsp-5')\n",
        "\n",
        "points=generate_clustered_points(10)\n",
        "points\n",
        "\n",
        "points2=generate_random_points(10)\n",
        "points2"
      ]
    },
    {
      "cell_type": "code",
      "execution_count": null,
      "metadata": {
        "id": "952KZ6EKPc_C",
        "outputId": "705c3770-9232-4cbd-a061-fab192891c5e"
      },
      "outputs": [],
      "source": [
        "# Calculate Standard Distance Matrix\n",
        "distance_matrix=calculate_distance_matrix(points)\n",
        "distance_matrix"
      ]
    },
    {
      "cell_type": "code",
      "execution_count": 23,
      "metadata": {},
      "outputs": [
        {
          "name": "stdout",
          "output_type": "stream",
          "text": [
            "['Map', '__author__', '__builtins__', '__cached__', '__doc__', '__email__', '__file__', '__loader__', '__name__', '__package__', '__path__', '__spec__', '__version__', 'calculate_distance_matrix', 'combine_distance_matrices', 'generate_clustered_points', 'generate_lp_model', 'is_far_enough', 'knn_adjacency_distance', 'spatialtsp', 'voronoi_adjacency_distance']\n",
            "Help on package spatialtsp:\n",
            "\n",
            "NAME\n",
            "    spatialtsp - Top-level package for spatialtsp.\n",
            "\n",
            "PACKAGE CONTENTS\n",
            "    common\n",
            "    spatialtsp\n",
            "    utils\n",
            "\n",
            "DATA\n",
            "    __email__ = 'wkim15@vols.utk.edu'\n",
            "\n",
            "VERSION\n",
            "    0.0.5\n",
            "\n",
            "AUTHOR\n",
            "    Wanhee Kim\n",
            "\n",
            "FILE\n",
            "    d:\\gis program\\github\\spatialtsp\\spatialtsp-5\\spatialtsp\\__init__.py\n",
            "\n",
            "\n"
          ]
        }
      ],
      "source": [
        "import spatialtsp\n",
        "print(dir(spatialtsp))\n",
        "help(spatialtsp)"
      ]
    },
    {
      "cell_type": "markdown",
      "metadata": {},
      "source": [
        "## Distance Matrix with spatial information"
      ]
    },
    {
      "cell_type": "code",
      "execution_count": null,
      "metadata": {},
      "outputs": [],
      "source": [
        "# Calculate Distance Matrix with the concept of adjacency\n",
        "Voronoi_distance = voronoi_adjacency_distance(points)\n",
        "KNN_distance = knn_adjacency_distance(points, k=5)\n",
        "\n",
        "# Print the distance matrices\n",
        "print(Voronoi_distance)\n",
        "print(KNN_distance)"
      ]
    },
    {
      "cell_type": "code",
      "execution_count": null,
      "metadata": {},
      "outputs": [],
      "source": [
        "# Combine the two distance matrices\n",
        "combined_distance = combine_distance_matrices(Voronoi_distance, KNN_distance)\n",
        "combined_distance"
      ]
    },
    {
      "cell_type": "code",
      "execution_count": null,
      "metadata": {},
      "outputs": [],
      "source": [
        "path = 'D:/GIS program/Github/spatialtsp/spatialtsp-5'\n",
        "points.to_file('{}/final_work/03_LPFiles/test.shp'.format(path), encoding='utf-8') "
      ]
    },
    {
      "cell_type": "code",
      "execution_count": null,
      "metadata": {},
      "outputs": [],
      "source": [
        "random_points = generate_clustered_points(10)\n",
        "###일반 거리행렬 생성\n",
        "standard_matrix = calculate_distance_matrix(random_points)\n",
        "### Standard LP파일 저장\n",
        "writeLpFile_func(0, standard_matrix, i, path, num_points)"
      ]
    },
    {
      "cell_type": "code",
      "execution_count": null,
      "metadata": {
        "id": "IKYoFhIjPc_C"
      },
      "outputs": [],
      "source": [
        "# set working directory\n",
        "# import os\n",
        "\n",
        "# path = 'D:/GIS_analyzing/1.Standard_TSP/0.test_iteration' # write your own directory\n",
        "# os.chdir(path)\n",
        "# os.getcwd()"
      ]
    },
    {
      "cell_type": "code",
      "execution_count": null,
      "metadata": {},
      "outputs": [],
      "source": [
        "## other codes will be updated soon"
      ]
    },
    {
      "cell_type": "markdown",
      "metadata": {
        "id": "pJ7F52QBPc_D"
      },
      "source": [
        "## Display Basemap"
      ]
    },
    {
      "cell_type": "code",
      "execution_count": null,
      "metadata": {
        "colab": {
          "referenced_widgets": [
            "aec10448c1194dd78ac9583af3f10977",
            "ef18640dc58e4406b4c7cb0ca9045db2"
          ]
        },
        "id": "t38vJfI8Pc_D",
        "outputId": "124a1310-4e6e-45ea-f6f6-a8975d154143"
      },
      "outputs": [],
      "source": [
        "## Add basemap\n",
        "from spatialtsp import Map\n",
        "\n",
        "my_map = Map(center=[40.7128, -74.0060], zoom=10)\n",
        "my_map.add_basemap(\"OpenStreetMap.Mapnik\")\n",
        "\n",
        "my_map\n"
      ]
    },
    {
      "cell_type": "code",
      "execution_count": null,
      "metadata": {
        "colab": {
          "referenced_widgets": [
            "e72c215bfd504e99b461e0af3cb53d67",
            "6be5821ba220492b8dc66ba51edf5a6d"
          ]
        },
        "id": "e9WTqMmSPc_E",
        "outputId": "72211276-eb63-4327-8c63-e942c251d82e"
      },
      "outputs": [],
      "source": [
        "## Add GeoJSON\n",
        "from spatialtsp import Map\n",
        "\n",
        "geojson_map = Map(center=[37.0902, -95.7129], zoom=4)\n",
        "geojson_url = \"https://github.com/opengeos/datasets/releases/download/us/us_states.geojson\"\n",
        "geojson_map.add_geojson(geojson_url, name=\"US Counties\")\n",
        "\n",
        "geojson_map\n"
      ]
    },
    {
      "cell_type": "code",
      "execution_count": null,
      "metadata": {
        "colab": {
          "referenced_widgets": [
            "54e591aebb694f2faa234c978ea63f1e",
            "c2418e94469e4e8f9732553a9df61223"
          ]
        },
        "id": "md7-s2zEPc_E",
        "outputId": "02d310b0-c498-42d8-c37b-439c3eb5aea9"
      },
      "outputs": [],
      "source": [
        "## Add shp\n",
        "import geopandas as gpd\n",
        "import requests\n",
        "import zipfile\n",
        "import io\n",
        "from spatialtsp import Map\n",
        "\n",
        "# Shapefile URL\n",
        "url = 'https://github.com/opengeos/datasets/releases/download/us/us_states.zip'\n",
        "\n",
        "# Download and extract the zip file\n",
        "r = requests.get(url)\n",
        "z = zipfile.ZipFile(io.BytesIO(r.content))\n",
        "\n",
        "# Find the shapefile name\n",
        "shp_name = [name for name in z.namelist() if '.shp' in name][0]\n",
        "\n",
        "# Read and extract the shapefile\n",
        "z.extractall(\"temp_shp\")\n",
        "states_gdf = gpd.read_file(\"temp_shp/us_states.shp\")\n",
        "\n",
        "\n",
        "# Display the shapefile\n",
        "my_map = Map(center=[37.0902, -95.7129], zoom=4)\n",
        "my_map.add_vector(states_gdf, name=\"US States\")\n",
        "\n",
        "my_map\n"
      ]
    },
    {
      "cell_type": "code",
      "execution_count": null,
      "metadata": {
        "colab": {
          "referenced_widgets": [
            "41957bc40ff04aaba2b1a4427d405ab0",
            "b53916da4226458c87066202ca07ebbb"
          ]
        },
        "id": "hxCo6RSiPc_F",
        "outputId": "29df8b75-a279-4cbb-ce9a-670b8042fd43"
      },
      "outputs": [],
      "source": [
        "## Add Vector\n",
        "from spatialtsp import Map\n",
        "\n",
        "# Initialize the map\n",
        "my_map = Map(center=[37.0902, -95.7129], zoom=4)\n",
        "\n",
        "# GeoJSON URLs\n",
        "city_geojson_url = \"https://github.com/opengeos/datasets/releases/download/us/us_cities.geojson\"\n",
        "county_geojson_url = \"https://github.com/opengeos/datasets/releases/download/us/us_counties.geojson\"\n",
        "\n",
        "# Shapefile URL\n",
        "states_shape_url = 'https://github.com/opengeos/datasets/releases/download/us/us_states.zip'\n",
        "\n",
        "# Load GeoJSONs as GeoDataFrames\n",
        "gdf_cities = gpd.read_file(city_geojson_url)\n",
        "gdf_counties = gpd.read_file(county_geojson_url)\n",
        "\n",
        "# Use add_vector to add GeoDataFrames to the map\n",
        "my_map.add_vector(gdf_counties, name=\"US Counties\")\n",
        "my_map.add_vector(gdf_cities, name=\"US Cities\")\n",
        "# For the shapefile, directly use the URL\n",
        "my_map.add_vector(states_shape_url, name=\"US States\")\n",
        "\n",
        "# Display the map\n",
        "my_map"
      ]
    },
    {
      "cell_type": "markdown",
      "metadata": {},
      "source": [
        "##Raster Map"
      ]
    },
    {
      "cell_type": "code",
      "execution_count": null,
      "metadata": {},
      "outputs": [],
      "source": [
        "#change path\n",
        "import os\n",
        "os.chdir('D:/GIS program/Github/spatialtsp/spatialtsp-5')"
      ]
    },
    {
      "cell_type": "code",
      "execution_count": null,
      "metadata": {},
      "outputs": [],
      "source": [
        "# import functions\n",
        "!pip install localtileserver\n",
        "import spatialtsp\n",
        "from spatialtsp import Map"
      ]
    },
    {
      "cell_type": "code",
      "execution_count": null,
      "metadata": {},
      "outputs": [],
      "source": [
        "# check the path of functions\n",
        "from importlib import reload\n",
        "reload(spatialtsp)\n",
        "\n",
        "from spatialtsp import Map\n",
        "m = Map()\n",
        "print(dir(m)) \n",
        "\n",
        "import spatialtsp\n",
        "print(spatialtsp.__file__)"
      ]
    },
    {
      "cell_type": "code",
      "execution_count": null,
      "metadata": {
        "id": "1IY3iS4bPc_F"
      },
      "outputs": [],
      "source": [
        "## overlay climate image(png)\n",
        "from ipyleaflet import Map, ImageOverlay\n",
        "\n",
        "m = Map(center=(25, -115), zoom=4)\n",
        "\n",
        "image = ImageOverlay(\n",
        "    url=\"https://i.imgur.com/06Q1fSz.png\",\n",
        "    # url='../06Q1fSz.png',\n",
        "    bounds=((13, -130), (32, -100)),\n",
        ")\n",
        "\n",
        "m.add(image)\n",
        "m"
      ]
    },
    {
      "cell_type": "code",
      "execution_count": null,
      "metadata": {},
      "outputs": [],
      "source": [
        "## Overlay GIF of TSP into basemap\n",
        "m = Map(center=(40, -100), zoom=4)\n",
        "\n",
        "url = \"https://graphdeeplearning.github.io/project/combinatorial-optimization/tsp-gif.gif\"\n",
        "\n",
        "# url='../06Q1fSz.png',\n",
        "bounds = ((25, -125), (51, -66))\n",
        "m.add_image(url, bounds)\n",
        "m.add_layers_control()\n",
        "# m.scroll_wheel_zoom = True\n",
        "m"
      ]
    },
    {
      "cell_type": "code",
      "execution_count": null,
      "metadata": {},
      "outputs": [],
      "source": [
        "## Overlay COloud Optimized GeoTiff into Basemap\n",
        "from localtileserver import TileClient, get_leaflet_tile_layer, examples\n",
        "from spatialtsp import Map\n",
        "\n",
        "client = TileClient(\n",
        "    \"https://github.com/opengeos/datasets/releases/download/raster/srtm90.tif\"\n",
        ")\n",
        "\n",
        "# Create ipyleaflet TileLayer from that server\n",
        "t = get_leaflet_tile_layer(client)\n",
        "# Create ipyleaflet map, add tile layer, and display\n",
        "m = Map()\n",
        "m.add(t)\n",
        "m.center = client.center()\n",
        "m.zoom = client.default_zoom\n",
        "m"
      ]
    }
  ],
  "metadata": {
    "colab": {
      "provenance": []
    },
    "kernelspec": {
      "display_name": "Python 3",
      "language": "python",
      "name": "python3"
    },
    "language_info": {
      "codemirror_mode": {
        "name": "ipython",
        "version": 3
      },
      "file_extension": ".py",
      "mimetype": "text/x-python",
      "name": "python",
      "nbconvert_exporter": "python",
      "pygments_lexer": "ipython3",
      "version": "3.11.9"
    }
  },
  "nbformat": 4,
  "nbformat_minor": 0
}
