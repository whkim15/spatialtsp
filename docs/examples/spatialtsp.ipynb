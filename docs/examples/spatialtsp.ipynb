{
  "cells": [
    {
      "cell_type": "markdown",
      "metadata": {
        "id": "CaGirCr6Pc-8"
      },
      "source": [
        "# Spatially Informed Traveling Salesman Problem\n",
        "[![image](https://colab.research.google.com/assets/colab-badge.svg)](https://colab.research.google.com/drive/1Rw9_fomI2CRgYNwEmZRx8XU3j1RQK9gO)\n",
        "Developed by Wanhee Kim(Phd student at UTK) / Revised Date : 04/09/2024\n"
      ]
    },
    {
      "cell_type": "markdown",
      "metadata": {
        "id": "mWWhV4s3Pc-_"
      },
      "source": [
        "## Sequence of spatially informed TSP\n",
        "0. Pre-setting for the Analysis\n",
        "1. Generate distance matrix regarding on Spatial adjacency\n",
        "2. Generate LP Model for Analyzing TSP\n",
        "3. Analyze by using CPLEX(Solving machine)"
      ]
    },
    {
      "cell_type": "markdown",
      "metadata": {
        "id": "qO4f61z7Pc_A"
      },
      "source": [
        "## Analysis"
      ]
    },
    {
      "cell_type": "markdown",
      "metadata": {},
      "source": [
        "0. Pre-Setting for Analysis"
      ]
    },
    {
      "cell_type": "code",
      "execution_count": null,
      "metadata": {
        "id": "i21B9oYlsXDl"
      },
      "outputs": [],
      "source": [
        "pip install spatialtsp"
      ]
    },
    {
      "cell_type": "code",
      "execution_count": null,
      "metadata": {},
      "outputs": [],
      "source": [
        "# change path\n",
        "import os\n",
        "os.chdir('D:/GIS program/Github/spatialtsp/spatialtsp-5')\n",
        "\n",
        "# Check the directory\n",
        "# current_directory = os.getcwd()\n",
        "# print(\"current directory:\", current_directory)\n",
        "\n",
        "# import spatialtsp\n",
        "# print(dir(spatialtsp))\n",
        "\n",
        "# # set working directory\n",
        "# path = 'D:/GIS program/Github/spatialtsp/final_work'\n",
        "# os.chdir(path)\n",
        "# os.getcwd()"
      ]
    },
    {
      "cell_type": "code",
      "execution_count": null,
      "metadata": {},
      "outputs": [],
      "source": [
        "# Import the package\n",
        "from spatialtsp import generate_clustered_points, generate_random_points, calculate_distance_matrix, voronoi_adjacency_distance, knn_adjacency_distance, combine_distance_matrices, generate_lp_model, get_attributes_cplex, writeLpFile_func"
      ]
    },
    {
      "cell_type": "code",
      "execution_count": null,
      "metadata": {},
      "outputs": [],
      "source": [
        "#print(dir(spatialtsp))"
      ]
    },
    {
      "cell_type": "markdown",
      "metadata": {},
      "source": [
        "## Test in Toy Data"
      ]
    },
    {
      "cell_type": "markdown",
      "metadata": {},
      "source": [
        "1. Generate Distance Matrix(standard vs Spatially Informed)"
      ]
    },
    {
      "cell_type": "code",
      "execution_count": null,
      "metadata": {
        "id": "0xVkjPQBPc_B",
        "outputId": "22f84977-19ee-4c32-8a8d-9c452408efcf"
      },
      "outputs": [],
      "source": [
        "# 1) Generate points\n",
        "points=generate_random_points(7) # Generate Stratified random points. 7*7 = 49\n",
        "\n",
        "#print(points)"
      ]
    },
    {
      "cell_type": "code",
      "execution_count": null,
      "metadata": {
        "id": "952KZ6EKPc_C",
        "outputId": "705c3770-9232-4cbd-a061-fab192891c5e"
      },
      "outputs": [],
      "source": [
        "# 2) Calculate Standard Distance Matrix\n",
        "distance_matrix=calculate_distance_matrix(points)\n",
        "distance_matrix"
      ]
    },
    {
      "cell_type": "code",
      "execution_count": null,
      "metadata": {},
      "outputs": [],
      "source": [
        "# 3) Calculate Distance Matrix with the concept of adjacency : by using Voronoi concept and K-NN concept\n",
        "Voronoi_distance, voronoi_polygon = voronoi_adjacency_distance(points)\n",
        "KNN_distance = knn_adjacency_distance(points, k=7)\n",
        "combined_distance = combine_distance_matrices(Voronoi_distance, KNN_distance) # Combine the two distance matrices\n",
        "\n",
        "# Print the distance matrices\n",
        "print(Voronoi_distance)\n",
        "print(KNN_distance)\n",
        "print(combined_distance)"
      ]
    },
    {
      "cell_type": "code",
      "execution_count": null,
      "metadata": {},
      "outputs": [],
      "source": [
        "# Export shp files\n",
        "path = 'D:/GIS program/Github/spatialtsp/spatialtsp-5'\n",
        "points.to_file('{}/final_work/03_LPFiles/test.shp'.format(path), encoding='utf-8')\n",
        "voronoi_polygon.to_file('{}/final_work/03_LPFiles/test_polygon.shp'.format(path), encoding='utf-8')"
      ]
    },
    {
      "cell_type": "markdown",
      "metadata": {},
      "source": [
        "### 2. Generate LP Model"
      ]
    },
    {
      "cell_type": "markdown",
      "metadata": {},
      "source": [
        "2-1. Make LP files"
      ]
    },
    {
      "cell_type": "code",
      "execution_count": null,
      "metadata": {},
      "outputs": [],
      "source": [
        "# Standard version\n",
        "lp_model = generate_lp_model(distance_matrix)\n",
        "# Spatially Informed version\n",
        "lp_model_2 = generate_lp_model(combined_distance)\n",
        "\n",
        "print(lp_model)\n",
        "print(lp_model_2)"
      ]
    },
    {
      "cell_type": "markdown",
      "metadata": {},
      "source": [
        "2-2. Write the LP file"
      ]
    },
    {
      "cell_type": "code",
      "execution_count": null,
      "metadata": {},
      "outputs": [],
      "source": [
        "# Standard version\n",
        "file_path = f\"{path}/final_work/03_LPFiles/TSP_test.lp\" \n",
        "with open(file_path, 'w') as file:\n",
        "    file.write(lp_model)\n",
        "print(f\"LP file saved to {file_path}\")\n",
        "\n",
        "# Spatially Informed version\n",
        "file_path = f\"{path}/final_work/03_LPFiles/TSP_test_2.lp\" \n",
        "with open(file_path, 'w') as file:\n",
        "    file.write(lp_model_2)\n",
        "print(f\"LP file saved to {file_path}\")"
      ]
    },
    {
      "cell_type": "markdown",
      "metadata": {},
      "source": [
        "### 3. Run LP Model"
      ]
    },
    {
      "cell_type": "code",
      "execution_count": null,
      "metadata": {},
      "outputs": [],
      "source": [
        "# Import the package\n",
        "import subprocess\n",
        "import pandas as pd"
      ]
    },
    {
      "cell_type": "markdown",
      "metadata": {},
      "source": [
        "Standard TSP"
      ]
    },
    {
      "cell_type": "code",
      "execution_count": null,
      "metadata": {},
      "outputs": [],
      "source": [
        "# Define the path to the LP file\n",
        "lp_file_path = f'\"{path}/final_work/03_LPFiles/TSP_test.lp\"'\n",
        "\n",
        "# Initialize lists to store results\n",
        "objval_ls = []\n",
        "nodenb_ls = []\n",
        "timenb_ls = []\n",
        "iternb_ls = []\n",
        "dettime_ls = []\n",
        "\n",
        "# Run CPLEX\n",
        "command = [\n",
        "    'D:/GIS program/cplex_2018-20230804T132516Z-003/cplex/bin/x64_win64/cplex.exe', '-c',\n",
        "    f'read {lp_file_path}',\n",
        "    'set threads 2',\n",
        "    'set timelimit 3600',\n",
        "    'opt', \n",
        "    'display solution variables -'\n",
        "]\n",
        "try:\n",
        "    r = subprocess.run(command, capture_output=True, text=True, check=True)\n",
        "    print(\"STDOUT:\", r.stdout)\n",
        "    print(\"STDERR:\", r.stderr)\n",
        "except subprocess.CalledProcessError as e:\n",
        "    print(\"Error:\", e)\n",
        "    print(\"STDERR:\", e.stderr)\n",
        "\n",
        "# Get the attributes by running CPLEX\n",
        "result = r.stdout\n",
        "timenb, iternb, nodenb, objval, dettime, variables = get_attributes_cplex(result)\n",
        "print(f\"Objective: {objval}, Solution Time: {timenb}, Iterations: {iternb}, Nodes: {nodenb}, Dettime: {dettime}\")\n",
        "print(\"Variables:\", variables)\n",
        "\n",
        "# Append the results to the lists\n",
        "objval_ls.append(objval)  \n",
        "timenb_ls.append(timenb)  \n",
        "iternb_ls.append(iternb)  \n",
        "nodenb_ls.append(nodenb) \n",
        "dettime_ls.append(dettime) \n",
        "\n",
        "loc_dict = {\n",
        "    'ObjVal': objval_ls, \n",
        "    'Nodenb': nodenb_ls, \n",
        "    'Timenb': timenb_ls, \n",
        "    'Iternb': iternb_ls, \n",
        "    'Dettime': dettime_ls,\n",
        "    'Variables': [variables]\n",
        "     #'Geogetry' : geometry_ls\n",
        "\n",
        "}\n",
        "df_1 = pd.DataFrame(loc_dict)\n",
        "\n",
        "df_1"
      ]
    },
    {
      "cell_type": "markdown",
      "metadata": {},
      "source": [
        "Spatially Informed TSP"
      ]
    },
    {
      "cell_type": "code",
      "execution_count": null,
      "metadata": {},
      "outputs": [],
      "source": [
        "import subprocess\n",
        "import pandas as pd\n",
        "\n",
        "lp_file_path_2 = f'\"{path}/final_work/03_LPFiles/TSP_test_2.lp\"'\n",
        "\n",
        "# Initialize lists to store results\n",
        "objval_ls = []\n",
        "nodenb_ls = []\n",
        "timenb_ls = []\n",
        "iternb_ls = []\n",
        "dettime_ls = []\n",
        "\n",
        "# Run CPLEX\n",
        "command = [\n",
        "    'D:/GIS program/cplex_2018-20230804T132516Z-003/cplex/bin/x64_win64/cplex.exe', '-c',\n",
        "    f'read {lp_file_path_2}',\n",
        "    'set threads 2',\n",
        "    'set timelimit 3600',\n",
        "    'opt',\n",
        "    'display solution variables -'\n",
        "]\n",
        "try:\n",
        "    r = subprocess.run(command, capture_output=True, text=True, check=True)\n",
        "    print(\"STDOUT:\", r.stdout)\n",
        "    print(\"STDERR:\", r.stderr)\n",
        "except subprocess.CalledProcessError as e:\n",
        "    print(\"Error:\", e)\n",
        "    print(\"STDERR:\", e.stderr)\n",
        "\n",
        "# Get the attributes by running CPLEX\n",
        "result = r.stdout\n",
        "timenb, iternb, nodenb, objval, dettime, variables = get_attributes_cplex(result)\n",
        "print(f\"Objective: {objval}, Solution Time: {timenb}, Iterations: {iternb}, Nodes: {nodenb}, Dettime: {dettime}\")\n",
        "print(\"Variables:\", variables)\n",
        "\n",
        "# Append the results to the lists\n",
        "objval_ls.append(objval)  \n",
        "timenb_ls.append(timenb)  \n",
        "iternb_ls.append(iternb)  \n",
        "nodenb_ls.append(nodenb) \n",
        "dettime_ls.append(dettime) \n",
        "\n",
        "loc_dict = {\n",
        "    'ObjVal': objval_ls, \n",
        "    'Nodenb': nodenb_ls, \n",
        "    'Timenb': timenb_ls, \n",
        "    'Iternb': iternb_ls, \n",
        "    'Dettime': dettime_ls,\n",
        "    'Variables': [variables]\n",
        "     #'Geogetry' : geometry_ls\n",
        "}\n",
        "df_2 = pd.DataFrame(loc_dict)\n",
        "\n",
        "df_2"
      ]
    },
    {
      "cell_type": "markdown",
      "metadata": {},
      "source": [
        "Visualize the results"
      ]
    },
    {
      "cell_type": "code",
      "execution_count": null,
      "metadata": {},
      "outputs": [],
      "source": [
        "import geopandas as gpd\n",
        "import matplotlib.pyplot as plt\n",
        "from shapely.geometry import LineString"
      ]
    },
    {
      "cell_type": "code",
      "execution_count": null,
      "metadata": {},
      "outputs": [],
      "source": [
        "# Extract the order of tour\n",
        "# 'variables' means the order of the nodes for tour\n",
        "tour_order = [(int(k.split('_')[1]), int(k.split('_')[2])) for k, v in variables.items() if v == 1.0]\n",
        "print(tour_order)"
      ]
    },
    {
      "cell_type": "code",
      "execution_count": null,
      "metadata": {},
      "outputs": [],
      "source": [
        "# Read the shapefiles(points and polygons) for visualization\n",
        "polygon_path = \"D:\\\\GIS program\\\\Github\\\\spatialtsp\\\\spatialtsp-5\\\\final_work\\\\03_LPFiles\\\\test_polygon.shp\"\n",
        "point_path = \"D:\\\\GIS program\\\\Github\\\\spatialtsp\\\\spatialtsp-5\\\\final_work\\\\03_LPFiles\\\\test.shp\"\n",
        "gdf_points = gpd.read_file(point_path)\n",
        "gdf_polygons = gpd.read_file(polygon_path)"
      ]
    },
    {
      "cell_type": "code",
      "execution_count": null,
      "metadata": {},
      "outputs": [],
      "source": [
        "def find_point(fid):\n",
        "    try:\n",
        "        point = gdf_points[gdf_points['FID'] == fid-1].geometry.iloc[0]\n",
        "        return point\n",
        "    except IndexError:\n",
        "        raise ValueError(f\"No geometry found for FID {fid}. Check if the FID is correct and present in gdf_points.\")\n",
        "\n",
        "# Generate lines for the tour\n",
        "lines = [LineString([find_point(start), find_point(end)]) for start, end in tour_order]\n",
        "\n",
        "# # Create a GeoDataFrame for the lines\n",
        "gdf_lines = gpd.GeoDataFrame(geometry=lines, crs=gdf_points.crs)\n",
        "\n",
        "# Plot\n",
        "fig, ax = plt.subplots(figsize=(12, 10))\n",
        "gdf_polygons.plot(ax=ax, color='lightgrey', edgecolor='black', alpha=0.1)\n",
        "gdf_points.plot(ax=ax, marker='o', color='blue', markersize=5)\n",
        "gdf_lines.plot(ax=ax, linewidth=1.5, color='red')\n",
        "\n",
        "# Adding labels\n",
        "for Input_FID, row in gdf_points.iterrows():\n",
        "    ax.annotate(text=Input_FID+1, xy=(row.geometry.x, row.geometry.y),\n",
        "                xytext=(3, 3), textcoords=\"offset points\", color='black')\n",
        "\n",
        "ax.set_title('TSP Solution')\n",
        "ax.set_xlabel('Longitude')\n",
        "ax.set_ylabel('Latitude')\n",
        "\n",
        "plt.show()"
      ]
    },
    {
      "cell_type": "markdown",
      "metadata": {},
      "source": [
        "### Application into 48 Capitals of US"
      ]
    },
    {
      "cell_type": "code",
      "execution_count": null,
      "metadata": {},
      "outputs": [],
      "source": [
        "# Import the package\n",
        "import numpy as np\n",
        "import geopandas as gpd"
      ]
    },
    {
      "cell_type": "code",
      "execution_count": null,
      "metadata": {},
      "outputs": [],
      "source": [
        "# Read the shapefiles\n",
        "# polygon_path = \"C:\\\\Users\\\\dooco\\\\OneDrive\\\\spatial data\\\\US_Data\\\\TSP_dataset\\\\SpatialData\\\\Capitals_Voronoi_clipped.shp\"\n",
        "# point_path = \"C:\\\\Users\\\\dooco\\\\OneDrive\\\\spatial data\\\\US_Data\\\\TSP_dataset\\\\SpatialData\\\\Capitals_Points.shp\"\n",
        "\n",
        "# US_points = gpd.read_file(point_path)\n",
        "# #US_points = np.array(list(gdf_points.geometry.apply(lambda geom: (geom.x, geom.y))))"
      ]
    },
    {
      "cell_type": "code",
      "execution_count": null,
      "metadata": {},
      "outputs": [],
      "source": [
        "# Calculate the distance matrix\n",
        "# distance_matrix=calculate_distance_matrix(US_points)\n",
        "# distance_matrix"
      ]
    },
    {
      "cell_type": "code",
      "execution_count": null,
      "metadata": {},
      "outputs": [],
      "source": [
        "# Calculate the distance matrix with the concept of adjacency\n",
        "# Voronoi_distance = voronoi_adjacency_distance(US_points)\n",
        "# KNN_distance = knn_adjacency_distance(US_points, k=7)\n",
        "# combined_distance = combine_distance_matrices(Voronoi_distance, KNN_distance)\n",
        "# combined_distance"
      ]
    },
    {
      "cell_type": "code",
      "execution_count": null,
      "metadata": {
        "id": "IKYoFhIjPc_C"
      },
      "outputs": [],
      "source": [
        "# set working directory\n",
        "# import os\n",
        "\n",
        "# path = 'D:/GIS_analyzing/1.Standard_TSP/0.test_iteration' # write your own directory\n",
        "# os.chdir(path)\n",
        "# os.getcwd()"
      ]
    },
    {
      "cell_type": "code",
      "execution_count": null,
      "metadata": {},
      "outputs": [],
      "source": [
        "## other codes will be updated soon"
      ]
    },
    {
      "cell_type": "markdown",
      "metadata": {
        "id": "pJ7F52QBPc_D"
      },
      "source": [
        "## Display Basemap"
      ]
    },
    {
      "cell_type": "code",
      "execution_count": null,
      "metadata": {
        "colab": {
          "referenced_widgets": [
            "aec10448c1194dd78ac9583af3f10977",
            "ef18640dc58e4406b4c7cb0ca9045db2"
          ]
        },
        "id": "t38vJfI8Pc_D",
        "outputId": "124a1310-4e6e-45ea-f6f6-a8975d154143"
      },
      "outputs": [],
      "source": [
        "## Add basemap\n",
        "from spatialtsp import Map\n",
        "\n",
        "my_map = Map(center=[40.7128, -74.0060], zoom=10)\n",
        "my_map.add_basemap(\"OpenStreetMap.Mapnik\")\n",
        "\n",
        "my_map\n"
      ]
    },
    {
      "cell_type": "code",
      "execution_count": null,
      "metadata": {
        "colab": {
          "referenced_widgets": [
            "e72c215bfd504e99b461e0af3cb53d67",
            "6be5821ba220492b8dc66ba51edf5a6d"
          ]
        },
        "id": "e9WTqMmSPc_E",
        "outputId": "72211276-eb63-4327-8c63-e942c251d82e"
      },
      "outputs": [],
      "source": [
        "## Add GeoJSON\n",
        "from spatialtsp import Map\n",
        "\n",
        "geojson_map = Map(center=[37.0902, -95.7129], zoom=4)\n",
        "geojson_url = \"https://github.com/opengeos/datasets/releases/download/us/us_states.geojson\"\n",
        "geojson_map.add_geojson(geojson_url, name=\"US Counties\")\n",
        "\n",
        "geojson_map\n"
      ]
    },
    {
      "cell_type": "code",
      "execution_count": null,
      "metadata": {
        "colab": {
          "referenced_widgets": [
            "54e591aebb694f2faa234c978ea63f1e",
            "c2418e94469e4e8f9732553a9df61223"
          ]
        },
        "id": "md7-s2zEPc_E",
        "outputId": "02d310b0-c498-42d8-c37b-439c3eb5aea9"
      },
      "outputs": [],
      "source": [
        "## Add shp\n",
        "import geopandas as gpd\n",
        "import requests\n",
        "import zipfile\n",
        "import io\n",
        "from spatialtsp import Map\n",
        "\n",
        "# Shapefile URL\n",
        "url = 'https://github.com/opengeos/datasets/releases/download/us/us_states.zip'\n",
        "\n",
        "# Download and extract the zip file\n",
        "r = requests.get(url)\n",
        "z = zipfile.ZipFile(io.BytesIO(r.content))\n",
        "\n",
        "# Find the shapefile name\n",
        "shp_name = [name for name in z.namelist() if '.shp' in name][0]\n",
        "\n",
        "# Read and extract the shapefile\n",
        "z.extractall(\"temp_shp\")\n",
        "states_gdf = gpd.read_file(\"temp_shp/us_states.shp\")\n",
        "\n",
        "\n",
        "# Display the shapefile\n",
        "my_map = Map(center=[37.0902, -95.7129], zoom=4)\n",
        "my_map.add_vector(states_gdf, name=\"US States\")\n",
        "\n",
        "my_map\n"
      ]
    },
    {
      "cell_type": "code",
      "execution_count": null,
      "metadata": {
        "colab": {
          "referenced_widgets": [
            "41957bc40ff04aaba2b1a4427d405ab0",
            "b53916da4226458c87066202ca07ebbb"
          ]
        },
        "id": "hxCo6RSiPc_F",
        "outputId": "29df8b75-a279-4cbb-ce9a-670b8042fd43"
      },
      "outputs": [],
      "source": [
        "## Add Vector\n",
        "from spatialtsp import Map\n",
        "\n",
        "# Initialize the map\n",
        "my_map = Map(center=[37.0902, -95.7129], zoom=4)\n",
        "\n",
        "# GeoJSON URLs\n",
        "city_geojson_url = \"https://github.com/opengeos/datasets/releases/download/us/us_cities.geojson\"\n",
        "county_geojson_url = \"https://github.com/opengeos/datasets/releases/download/us/us_counties.geojson\"\n",
        "\n",
        "# Shapefile URL\n",
        "states_shape_url = 'https://github.com/opengeos/datasets/releases/download/us/us_states.zip'\n",
        "\n",
        "# Load GeoJSONs as GeoDataFrames\n",
        "gdf_cities = gpd.read_file(city_geojson_url)\n",
        "gdf_counties = gpd.read_file(county_geojson_url)\n",
        "\n",
        "# Use add_vector to add GeoDataFrames to the map\n",
        "my_map.add_vector(gdf_counties, name=\"US Counties\")\n",
        "my_map.add_vector(gdf_cities, name=\"US Cities\")\n",
        "# For the shapefile, directly use the URL\n",
        "my_map.add_vector(states_shape_url, name=\"US States\")\n",
        "\n",
        "# Display the map\n",
        "my_map"
      ]
    },
    {
      "cell_type": "markdown",
      "metadata": {},
      "source": [
        "##Raster Map"
      ]
    },
    {
      "cell_type": "code",
      "execution_count": null,
      "metadata": {},
      "outputs": [],
      "source": [
        "#change path\n",
        "import os\n",
        "os.chdir('D:/GIS program/Github/spatialtsp/spatialtsp-5')"
      ]
    },
    {
      "cell_type": "code",
      "execution_count": null,
      "metadata": {},
      "outputs": [],
      "source": [
        "# import functions\n",
        "!pip install localtileserver\n",
        "import spatialtsp\n",
        "from spatialtsp import Map"
      ]
    },
    {
      "cell_type": "code",
      "execution_count": null,
      "metadata": {},
      "outputs": [],
      "source": [
        "# check the path of functions\n",
        "from importlib import reload\n",
        "reload(spatialtsp)\n",
        "\n",
        "from spatialtsp import Map\n",
        "m = Map()\n",
        "print(dir(m)) \n",
        "\n",
        "import spatialtsp\n",
        "print(spatialtsp.__file__)"
      ]
    },
    {
      "cell_type": "code",
      "execution_count": null,
      "metadata": {
        "id": "1IY3iS4bPc_F"
      },
      "outputs": [],
      "source": [
        "## overlay climate image(png)\n",
        "from ipyleaflet import Map, ImageOverlay\n",
        "\n",
        "m = Map(center=(25, -115), zoom=4)\n",
        "\n",
        "image = ImageOverlay(\n",
        "    url=\"https://i.imgur.com/06Q1fSz.png\",\n",
        "    # url='../06Q1fSz.png',\n",
        "    bounds=((13, -130), (32, -100)),\n",
        ")\n",
        "\n",
        "m.add(image)\n",
        "m"
      ]
    },
    {
      "cell_type": "code",
      "execution_count": null,
      "metadata": {},
      "outputs": [],
      "source": [
        "## Overlay GIF of TSP into basemap\n",
        "m = Map(center=(40, -100), zoom=4)\n",
        "\n",
        "url = \"https://graphdeeplearning.github.io/project/combinatorial-optimization/tsp-gif.gif\"\n",
        "\n",
        "# url='../06Q1fSz.png',\n",
        "bounds = ((25, -125), (51, -66))\n",
        "m.add_image(url, bounds)\n",
        "m.add_layers_control()\n",
        "# m.scroll_wheel_zoom = True\n",
        "m"
      ]
    },
    {
      "cell_type": "code",
      "execution_count": null,
      "metadata": {},
      "outputs": [],
      "source": [
        "## Overlay COloud Optimized GeoTiff into Basemap\n",
        "from localtileserver import TileClient, get_leaflet_tile_layer, examples\n",
        "from spatialtsp import Map\n",
        "\n",
        "client = TileClient(\n",
        "    \"https://github.com/opengeos/datasets/releases/download/raster/srtm90.tif\"\n",
        ")\n",
        "\n",
        "# Create ipyleaflet TileLayer from that server\n",
        "t = get_leaflet_tile_layer(client)\n",
        "# Create ipyleaflet map, add tile layer, and display\n",
        "m = Map()\n",
        "m.add(t)\n",
        "m.center = client.center()\n",
        "m.zoom = client.default_zoom\n",
        "m"
      ]
    }
  ],
  "metadata": {
    "colab": {
      "provenance": []
    },
    "kernelspec": {
      "display_name": "Python 3",
      "language": "python",
      "name": "python3"
    },
    "language_info": {
      "codemirror_mode": {
        "name": "ipython",
        "version": 3
      },
      "file_extension": ".py",
      "mimetype": "text/x-python",
      "name": "python",
      "nbconvert_exporter": "python",
      "pygments_lexer": "ipython3",
      "version": "3.11.9"
    }
  },
  "nbformat": 4,
  "nbformat_minor": 0
}
