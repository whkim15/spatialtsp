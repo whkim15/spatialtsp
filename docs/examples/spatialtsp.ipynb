{
  "cells": [
    {
      "cell_type": "markdown",
      "metadata": {
        "id": "uTV6Sy_SOn5M"
      },
      "source": [
        "# Spatially Informed Traveling Salesman Problem\n",
        "[![image](https://colab.research.google.com/assets/colab-badge.svg)](https://colab.research.google.com/github/whkim15/spatialtsp/blob/main/spatialtsp.ipynb)    Developed by Wanhee Kim(Phd student at UTK)\n",
        "\n"
      ]
    },
    {
      "cell_type": "markdown",
      "metadata": {
        "id": "KtqdRk2_On5Q"
      },
      "source": [
        "## Sequence of spatially informed TSP\n",
        "1. Measure adjacency based on spatial information\n",
        "2. Generate distance matrix\n",
        "3. Analyze TSP"
      ]
    },
    {
      "cell_type": "markdown",
      "metadata": {
        "id": "xZa2S8KMOn5R"
      },
      "source": [
        "## Analysis"
      ]
    },
    {
      "cell_type": "code",
      "execution_count": null,
      "metadata": {
        "id": "BrklgAlnOn5S"
      },
      "outputs": [],
      "source": [
        "# Make Toy Data\n",
        "from spatialtsp import is_far_enough, generate_clustered_points\n",
        "points=generate_clustered_points(10)\n",
        "points"
      ]
    },
    {
      "cell_type": "code",
      "execution_count": null,
      "metadata": {
        "id": "NtwrdzTfOn5T"
      },
      "outputs": [],
      "source": [
        "# Calculate Standard Distance Matrix\n",
        "from spatialtsp import calculate_distance_matrix\n",
        "distance_matrix=calculate_distance_matrix(points)\n",
        "distance_matrix"
      ]
    },
    {
      "cell_type": "code",
      "execution_count": null,
      "metadata": {
        "id": "8MdLtVZ3On5T"
      },
      "outputs": [],
      "source": [
        "# set working directory\n",
        "path = 'D:/GIS_analyzing/1.Standard_TSP/0.test_iteration' # write your own directory\n",
        "os.chdir(path)\n",
        "os.getcwd()"
      ]
    },
    {
      "cell_type": "markdown",
      "metadata": {
        "id": "7QiyWoQ9On5T"
      },
      "source": [
        "## Display Basemap"
      ]
    },
    {
      "cell_type": "code",
      "execution_count": null,
      "metadata": {
        "id": "PriZ7m76On5T",
        "outputId": "51de2797-9d1e-4c8e-e9ee-63f7ff124f4e",
        "colab": {
          "referenced_widgets": [
            "aec10448c1194dd78ac9583af3f10977"
          ]
        }
      },
      "outputs": [
        {
          "data": {
            "application/vnd.jupyter.widget-view+json": {
              "model_id": "aec10448c1194dd78ac9583af3f10977",
              "version_major": 2,
              "version_minor": 0
            },
            "text/plain": [
              "Map(center=[40.7128, -74.006], controls=(ZoomControl(options=['position', 'zoom_in_text', 'zoom_in_title', 'zo…"
            ]
          },
          "execution_count": 2,
          "metadata": {},
          "output_type": "execute_result"
        }
      ],
      "source": [
        "## Add basemap\n",
        "from spatialtsp import Map\n",
        "\n",
        "my_map = Map(center=[40.7128, -74.0060], zoom=10)\n",
        "my_map.add_basemap(\"OpenStreetMap.Mapnik\")\n",
        "\n",
        "my_map\n"
      ]
    },
    {
      "cell_type": "code",
      "execution_count": null,
      "metadata": {
        "id": "Bk3zlGo7On5U",
        "outputId": "9cb4f368-17d2-48c7-d2fa-6d513d16f89d",
        "colab": {
          "referenced_widgets": [
            "e72c215bfd504e99b461e0af3cb53d67"
          ]
        }
      },
      "outputs": [
        {
          "data": {
            "application/vnd.jupyter.widget-view+json": {
              "model_id": "e72c215bfd504e99b461e0af3cb53d67",
              "version_major": 2,
              "version_minor": 0
            },
            "text/plain": [
              "Map(center=[37.0902, -95.7129], controls=(ZoomControl(options=['position', 'zoom_in_text', 'zoom_in_title', 'z…"
            ]
          },
          "execution_count": 1,
          "metadata": {},
          "output_type": "execute_result"
        }
      ],
      "source": [
        "## Add GeoJSON\n",
        "from spatialtsp import Map\n",
        "\n",
        "geojson_map = Map(center=[37.0902, -95.7129], zoom=4)\n",
        "geojson_url = \"https://github.com/opengeos/datasets/releases/download/us/us_states.geojson\"\n",
        "geojson_map.add_geojson(geojson_url, name=\"US Counties\")\n",
        "\n",
        "geojson_map\n"
      ]
    },
    {
      "cell_type": "code",
      "execution_count": null,
      "metadata": {
        "id": "XtxIxFTROn5V",
        "outputId": "4a328322-0739-40ec-a8ac-70bf49f79e59",
        "colab": {
          "referenced_widgets": [
            "54e591aebb694f2faa234c978ea63f1e"
          ]
        }
      },
      "outputs": [
        {
          "data": {
            "application/vnd.jupyter.widget-view+json": {
              "model_id": "54e591aebb694f2faa234c978ea63f1e",
              "version_major": 2,
              "version_minor": 0
            },
            "text/plain": [
              "Map(center=[37.0902, -95.7129], controls=(ZoomControl(options=['position', 'zoom_in_text', 'zoom_in_title', 'z…"
            ]
          },
          "execution_count": 2,
          "metadata": {},
          "output_type": "execute_result"
        }
      ],
      "source": [
        "## Add shp\n",
        "import geopandas as gpd\n",
        "import requests\n",
        "import zipfile\n",
        "import io\n",
        "from spatialtsp import Map\n",
        "\n",
        "# Shapefile URL\n",
        "url = 'https://github.com/opengeos/datasets/releases/download/us/us_states.zip'\n",
        "\n",
        "# Download and extract the zip file\n",
        "r = requests.get(url)\n",
        "z = zipfile.ZipFile(io.BytesIO(r.content))\n",
        "\n",
        "# Find the shapefile name\n",
        "shp_name = [name for name in z.namelist() if '.shp' in name][0]\n",
        "\n",
        "# Read and extract the shapefile\n",
        "z.extractall(\"temp_shp\")\n",
        "states_gdf = gpd.read_file(\"temp_shp/us_states.shp\")\n",
        "\n",
        "\n",
        "# Display the shapefile\n",
        "my_map = Map(center=[37.0902, -95.7129], zoom=4)\n",
        "my_map.add_vector(states_gdf, name=\"US States\")\n",
        "\n",
        "my_map\n"
      ]
    },
    {
      "cell_type": "code",
      "execution_count": null,
      "metadata": {
        "id": "A_CBIC8TOn5V",
        "outputId": "279d7533-2c4e-41bb-b7fc-fe3009735537",
        "colab": {
          "referenced_widgets": [
            "41957bc40ff04aaba2b1a4427d405ab0"
          ]
        }
      },
      "outputs": [
        {
          "data": {
            "application/vnd.jupyter.widget-view+json": {
              "model_id": "41957bc40ff04aaba2b1a4427d405ab0",
              "version_major": 2,
              "version_minor": 0
            },
            "text/plain": [
              "Map(center=[37.0902, -95.7129], controls=(ZoomControl(options=['position', 'zoom_in_text', 'zoom_in_title', 'z…"
            ]
          },
          "execution_count": 3,
          "metadata": {},
          "output_type": "execute_result"
        }
      ],
      "source": [
        "## Add Vector\n",
        "from spatialtsp import Map\n",
        "\n",
        "# Initialize the map\n",
        "my_map = Map(center=[37.0902, -95.7129], zoom=4)\n",
        "\n",
        "# GeoJSON URLs\n",
        "city_geojson_url = \"https://github.com/opengeos/datasets/releases/download/us/us_cities.geojson\"\n",
        "county_geojson_url = \"https://github.com/opengeos/datasets/releases/download/us/us_counties.geojson\"\n",
        "\n",
        "# Shapefile URL\n",
        "states_shape_url = 'https://github.com/opengeos/datasets/releases/download/us/us_states.zip'\n",
        "\n",
        "# Load GeoJSONs as GeoDataFrames\n",
        "gdf_cities = gpd.read_file(city_geojson_url)\n",
        "gdf_counties = gpd.read_file(county_geojson_url)\n",
        "\n",
        "# Use add_vector to add GeoDataFrames to the map\n",
        "my_map.add_vector(gdf_counties, name=\"US Counties\")\n",
        "my_map.add_vector(gdf_cities, name=\"US Cities\")\n",
        "# For the shapefile, directly use the URL\n",
        "my_map.add_vector(states_shape_url, name=\"US States\")\n",
        "\n",
        "# Display the map\n",
        "my_map"
      ]
    },
    {
      "cell_type": "code",
      "execution_count": null,
      "metadata": {
        "id": "jJPRRQceOn5V"
      },
      "outputs": [],
      "source": [
        "## other codes will be updated soon"
      ]
    }
  ],
  "metadata": {
    "kernelspec": {
      "display_name": "Python 3",
      "language": "python",
      "name": "python3"
    },
    "language_info": {
      "codemirror_mode": {
        "name": "ipython",
        "version": 3
      },
      "file_extension": ".py",
      "mimetype": "text/x-python",
      "name": "python",
      "nbconvert_exporter": "python",
      "pygments_lexer": "ipython3",
      "version": "3.11.8"
    },
    "colab": {
      "provenance": []
    }
  },
  "nbformat": 4,
  "nbformat_minor": 0
}