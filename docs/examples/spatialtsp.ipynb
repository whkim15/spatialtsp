{
 "cells": [
  {
   "cell_type": "markdown",
   "metadata": {},
   "source": [
    "# Spatially Informed Traveling Salesman Problem\n",
    "[![image](https://colab.research.google.com/assets/colab-badge.svg)](https://colab.research.google.com/drive/1hDyhN-nOeMh0dJlPpAkndSQZnK_yb82r)    Developed by Wanhee Kim(Phd student at UTK)\n",
    "\n"
   ]
  },
  {
   "cell_type": "markdown",
   "metadata": {},
   "source": [
    "## Sequence of spatially informed TSP\n",
    "1. Measure adjacency based on spatial information\n",
    "2. Generate distance matrix\n",
    "3. Analyze TSP"
   ]
  },
  {
   "cell_type": "markdown",
   "metadata": {},
   "source": [
    "## Analysis"
   ]
  },
  {
   "cell_type": "code",
   "execution_count": 1,
   "metadata": {},
   "outputs": [
    {
     "data": {
      "text/html": [
       "<div>\n",
       "<style scoped>\n",
       "    .dataframe tbody tr th:only-of-type {\n",
       "        vertical-align: middle;\n",
       "    }\n",
       "\n",
       "    .dataframe tbody tr th {\n",
       "        vertical-align: top;\n",
       "    }\n",
       "\n",
       "    .dataframe thead th {\n",
       "        text-align: right;\n",
       "    }\n",
       "</style>\n",
       "<table border=\"1\" class=\"dataframe\">\n",
       "  <thead>\n",
       "    <tr style=\"text-align: right;\">\n",
       "      <th></th>\n",
       "      <th>geometry</th>\n",
       "    </tr>\n",
       "  </thead>\n",
       "  <tbody>\n",
       "    <tr>\n",
       "      <th>0</th>\n",
       "      <td>POINT (13.00000 8.00000)</td>\n",
       "    </tr>\n",
       "    <tr>\n",
       "      <th>1</th>\n",
       "      <td>POINT (13.00000 14.00000)</td>\n",
       "    </tr>\n",
       "    <tr>\n",
       "      <th>2</th>\n",
       "      <td>POINT (21.00000 10.00000)</td>\n",
       "    </tr>\n",
       "    <tr>\n",
       "      <th>3</th>\n",
       "      <td>POINT (40.00000 42.00000)</td>\n",
       "    </tr>\n",
       "    <tr>\n",
       "      <th>4</th>\n",
       "      <td>POINT (11.00000 13.00000)</td>\n",
       "    </tr>\n",
       "    <tr>\n",
       "      <th>5</th>\n",
       "      <td>POINT (39.00000 43.00000)</td>\n",
       "    </tr>\n",
       "    <tr>\n",
       "      <th>6</th>\n",
       "      <td>POINT (13.00000 13.00000)</td>\n",
       "    </tr>\n",
       "    <tr>\n",
       "      <th>7</th>\n",
       "      <td>POINT (39.00000 32.00000)</td>\n",
       "    </tr>\n",
       "    <tr>\n",
       "      <th>8</th>\n",
       "      <td>POINT (40.00000 31.00000)</td>\n",
       "    </tr>\n",
       "    <tr>\n",
       "      <th>9</th>\n",
       "      <td>POINT (50.00000 34.00000)</td>\n",
       "    </tr>\n",
       "  </tbody>\n",
       "</table>\n",
       "</div>"
      ],
      "text/plain": [
       "                    geometry\n",
       "0   POINT (13.00000 8.00000)\n",
       "1  POINT (13.00000 14.00000)\n",
       "2  POINT (21.00000 10.00000)\n",
       "3  POINT (40.00000 42.00000)\n",
       "4  POINT (11.00000 13.00000)\n",
       "5  POINT (39.00000 43.00000)\n",
       "6  POINT (13.00000 13.00000)\n",
       "7  POINT (39.00000 32.00000)\n",
       "8  POINT (40.00000 31.00000)\n",
       "9  POINT (50.00000 34.00000)"
      ]
     },
     "execution_count": 1,
     "metadata": {},
     "output_type": "execute_result"
    }
   ],
   "source": [
    "# Make Toy Data\n",
    "from spatialtsp import is_far_enough, generate_clustered_points\n",
    "points=generate_clustered_points(10)\n",
    "points"
   ]
  },
  {
   "cell_type": "code",
   "execution_count": 2,
   "metadata": {},
   "outputs": [
    {
     "data": {
      "text/plain": [
       "array([[   0,  600,  825, 4342,  539, 4360,  500, 3538, 3547, 4522],\n",
       "       [ 600,    0,  894, 3890,  224, 3895,  100, 3162, 3191, 4206],\n",
       "       [ 825,  894,    0, 3722, 1044, 3759,  854, 2843, 2832, 3764],\n",
       "       [4342, 3890, 3722,    0, 4101,  141, 3962, 1005, 1100, 1281],\n",
       "       [ 539,  224, 1044, 4101,    0, 4104,  200, 3384, 3413, 4429],\n",
       "       [4360, 3895, 3759,  141, 4104,    0, 3970, 1100, 1204, 1421],\n",
       "       [ 500,  100,  854, 3962,  200, 3970,    0, 3220, 3245, 4254],\n",
       "       [3538, 3162, 2843, 1005, 3384, 1100, 3220,    0,  141, 1118],\n",
       "       [3547, 3191, 2832, 1100, 3413, 1204, 3245,  141,    0, 1044],\n",
       "       [4522, 4206, 3764, 1281, 4429, 1421, 4254, 1118, 1044,    0]])"
      ]
     },
     "execution_count": 2,
     "metadata": {},
     "output_type": "execute_result"
    }
   ],
   "source": [
    "# Calculate Standard Distance Matrix\n",
    "from spatialtsp import calculate_distance_matrix\n",
    "distance_matrix=calculate_distance_matrix(points)\n",
    "distance_matrix"
   ]
  },
  {
   "cell_type": "markdown",
   "metadata": {},
   "source": [
    "### Install packages"
   ]
  },
  {
   "cell_type": "code",
   "execution_count": null,
   "metadata": {},
   "outputs": [],
   "source": [
    "# basic\n",
    "import os\n",
    "import time\n",
    "import math\n",
    "import subprocess\n",
    "from random import sample\n",
    "\n",
    "# data analysis\n",
    "import pandas as pd\n",
    "import numpy as np\n",
    "import scipy.stats\n",
    "from sklearn.neighbors import NearestNeighbors\n",
    "\n",
    "# spatial data\n",
    "import geopandas as gpd\n",
    "from shapely.geometry import Point, Polygon, box\n",
    "from scipy.spatial import Voronoi, voronoi_plot_2d\n",
    "from scipy.spatial.distance import euclidean\n",
    "from geopandas.tools import overlay\n",
    "from descartes import PolygonPatch\n",
    "\n",
    "# visualize\n",
    "import matplotlib.pyplot as plt\n",
    "import matplotlib.font_manager as fm\n",
    "from mpl_toolkits.axes_grid1 import make_axes_locatable\n",
    "import seaborn as sns\n",
    "import plotly.express as px\n",
    "\n",
    "# text\n",
    "from nltk.tokenize import word_tokenize\n",
    "import nltk\n",
    "nltk.download('punkt')"
   ]
  },
  {
   "cell_type": "code",
   "execution_count": null,
   "metadata": {},
   "outputs": [],
   "source": [
    "# set working directory\n",
    "path = 'D:/GIS_analyzing/1.Standard_TSP/0.test_iteration' # write your own directory\n",
    "os.chdir(path)\n",
    "os.getcwd()"
   ]
  },
  {
   "cell_type": "code",
   "execution_count": null,
   "metadata": {},
   "outputs": [],
   "source": [
    "## Generate Clustered points\n",
    "# Guarantee a sufficient distance among points\n",
    "from shapely.geometry import Point\n",
    "\n",
    "def is_far_enough(new_point, existing_points, min_distance=3):\n",
    "    for point in existing_points:\n",
    "        if np.sqrt((new_point[0] - point[0])**2 + (new_point[1] - point[1])**2) < min_distance:\n",
    "            return False\n",
    "    return True\n",
    "\n",
    "# Generate Clustered Points\n",
    "def generate_clustered_points(num_points, std_dev=5, cluster_centers=[(13, 13), (37, 37)], x_max=50, y_max=50, min_distance=3, seed=None):\n",
    "    np.random.seed(seed)\n",
    "    all_points = set()\n",
    "\n",
    "    points_per_cluster = num_points // len(cluster_centers)\n",
    "    extra_points = num_points % len(cluster_centers)  #    \n",
    "    \n",
    "    for index, center in enumerate(cluster_centers):\n",
    "        points = set()\n",
    "        extra = 1 if index < extra_points else 0\n",
    "        while len(points) < points_per_cluster + extra:\n",
    "            x = np.random.normal(center[0], std_dev)\n",
    "            y = np.random.normal(center[1], std_dev)\n",
    "            x, y = int(round(x)), int(round(y))\n",
    "            if x > 1 and y > 1 and x <= x_max and y <= y_max and is_far_enough((x, y), all_points, min_distance):\n",
    "                points.add((x, y))\n",
    "        all_points.update(points)\n",
    "    \n",
    "    points_list = list(all_points)\n",
    "    gdf_points = gpd.GeoDataFrame({'geometry': [Point(p) for p in points_list]}, crs=\"EPSG:4326\")\n",
    "    \n",
    "    return gdf_points"
   ]
  },
  {
   "cell_type": "code",
   "execution_count": null,
   "metadata": {},
   "outputs": [],
   "source": [
    "## Calculate Standard distance\n",
    "def calculate_distance_matrix(gdf_points):\n",
    "    points = np.array([[point.x, point.y] for point in gdf_points.geometry])\n",
    "    num_points = len(points)\n",
    "    distance_matrix = np.zeros((num_points, num_points), dtype=int)\n",
    "    for i in range(num_points):\n",
    "        for j in range(num_points):\n",
    "            if i != j:\n",
    "                distance = np.sqrt((points[i][0] - points[j][0])**2 + (points[i][1] - points[j][1])**2)*100\n",
    "                distance_matrix[i, j] = round(distance)\n",
    "            else:\n",
    "                distance_matrix[i, j] = 0\n",
    "    return distance_matrix"
   ]
  },
  {
   "cell_type": "code",
   "execution_count": null,
   "metadata": {},
   "outputs": [],
   "source": [
    "##  Function to create Voronoi polygons and calculate 1st-order adjacency distance matrix\n",
    "def voronoi_adjacency_distance(gdf_points, clip_box=box(0, 0, 50, 50)):\n",
    "    points = np.array([[point.x, point.y] for point in gdf_points.geometry])\n",
    "    points2=points\n",
    "    points2 = np.append(points2, [[999,999], [-999,999], [999,-999], [-999,-999]], axis = 0)\n",
    "    vor = Voronoi(points2)\n",
    "    point_to_region = vor.point_region[:len(points)]\n",
    "    polygons = []\n",
    "    ids = []\n",
    "    for point_idx, region_idx in enumerate(point_to_region):\n",
    "        region = vor.regions[region_idx]\n",
    "        if -1 in region:\n",
    "\n",
    "            continue\n",
    "        polygon = Polygon([vor.vertices[i] for i in region])\n",
    "        clipped_polygon = polygon.intersection(clip_box)\n",
    "        if not clipped_polygon.is_empty:\n",
    "            polygons.append(clipped_polygon)\n",
    "            ids.append(point_idx)  .\n",
    "    \n",
    "    voronoi_gdf = gpd.GeoDataFrame({'id': ids, 'geometry': polygons}, crs=\"EPSG:4326\")\n",
    "\n",
    "    num_points = len(points)\n",
    "    distances = np.full((num_points, num_points), 99999)\n",
    "    for i in range(num_points):\n",
    "        for j in range(num_points):\n",
    "            if i != j:\n",
    "                if voronoi_gdf.geometry[i].touches(voronoi_gdf.geometry[j]):\n",
    "                    distance = gdf_points.geometry[i].distance(gdf_points.geometry[j])*100\n",
    "                    distances[i, j] = round(distance)    \n",
    "    return distances, voronoi_gdf"
   ]
  },
  {
   "cell_type": "code",
   "execution_count": null,
   "metadata": {},
   "outputs": [],
   "source": [
    "## other codes will be updated soon"
   ]
  }
 ],
 "metadata": {
  "kernelspec": {
   "display_name": "Python 3",
   "language": "python",
   "name": "python3"
  },
  "language_info": {
   "codemirror_mode": {
    "name": "ipython",
    "version": 3
   },
   "file_extension": ".py",
   "mimetype": "text/x-python",
   "name": "python",
   "nbconvert_exporter": "python",
   "pygments_lexer": "ipython3",
   "version": "3.11.8"
  }
 },
 "nbformat": 4,
 "nbformat_minor": 2
}
