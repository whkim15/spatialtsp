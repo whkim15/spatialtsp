{
  "cells": [
    {
      "cell_type": "markdown",
      "metadata": {
        "id": "CaGirCr6Pc-8"
      },
      "source": [
        "# Spatially Informed Traveling Salesman Problem\n",
        "[![image](https://colab.research.google.com/assets/colab-badge.svg)](https://colab.research.google.com/drive/17da8FuXsDfI9DCuaT7rbKKl2twoFYSlB#scrollTo=qO4f61z7Pc_A)  \n",
        "Developed by Wanhee Kim(Phd student at UTK) / Revised Date : 04/03/2024\n"
      ]
    },
    {
      "cell_type": "markdown",
      "metadata": {
        "id": "mWWhV4s3Pc-_"
      },
      "source": [
        "## Sequence of spatially informed TSP\n",
        "1. Measure adjacency based on spatial information\n",
        "2. Generate distance matrix\n",
        "3. Analyze TSP"
      ]
    },
    {
      "cell_type": "markdown",
      "metadata": {
        "id": "qO4f61z7Pc_A"
      },
      "source": [
        "## Analysis"
      ]
    },
    {
      "cell_type": "code",
      "execution_count": 4,
      "metadata": {
        "id": "0xVkjPQBPc_B"
      },
      "outputs": [
        {
          "data": {
            "text/html": [
              "<div>\n",
              "<style scoped>\n",
              "    .dataframe tbody tr th:only-of-type {\n",
              "        vertical-align: middle;\n",
              "    }\n",
              "\n",
              "    .dataframe tbody tr th {\n",
              "        vertical-align: top;\n",
              "    }\n",
              "\n",
              "    .dataframe thead th {\n",
              "        text-align: right;\n",
              "    }\n",
              "</style>\n",
              "<table border=\"1\" class=\"dataframe\">\n",
              "  <thead>\n",
              "    <tr style=\"text-align: right;\">\n",
              "      <th></th>\n",
              "      <th>geometry</th>\n",
              "    </tr>\n",
              "  </thead>\n",
              "  <tbody>\n",
              "    <tr>\n",
              "      <th>0</th>\n",
              "      <td>POINT (13.00000 17.00000)</td>\n",
              "    </tr>\n",
              "    <tr>\n",
              "      <th>1</th>\n",
              "      <td>POINT (26.00000 33.00000)</td>\n",
              "    </tr>\n",
              "    <tr>\n",
              "      <th>2</th>\n",
              "      <td>POINT (41.00000 42.00000)</td>\n",
              "    </tr>\n",
              "    <tr>\n",
              "      <th>3</th>\n",
              "      <td>POINT (18.00000 9.00000)</td>\n",
              "    </tr>\n",
              "    <tr>\n",
              "      <th>4</th>\n",
              "      <td>POINT (43.00000 32.00000)</td>\n",
              "    </tr>\n",
              "    <tr>\n",
              "      <th>5</th>\n",
              "      <td>POINT (6.00000 16.00000)</td>\n",
              "    </tr>\n",
              "    <tr>\n",
              "      <th>6</th>\n",
              "      <td>POINT (35.00000 31.00000)</td>\n",
              "    </tr>\n",
              "    <tr>\n",
              "      <th>7</th>\n",
              "      <td>POINT (10.00000 12.00000)</td>\n",
              "    </tr>\n",
              "    <tr>\n",
              "      <th>8</th>\n",
              "      <td>POINT (31.00000 37.00000)</td>\n",
              "    </tr>\n",
              "    <tr>\n",
              "      <th>9</th>\n",
              "      <td>POINT (7.00000 14.00000)</td>\n",
              "    </tr>\n",
              "  </tbody>\n",
              "</table>\n",
              "</div>"
            ],
            "text/plain": [
              "                    geometry\n",
              "0  POINT (13.00000 17.00000)\n",
              "1  POINT (26.00000 33.00000)\n",
              "2  POINT (41.00000 42.00000)\n",
              "3   POINT (18.00000 9.00000)\n",
              "4  POINT (43.00000 32.00000)\n",
              "5   POINT (6.00000 16.00000)\n",
              "6  POINT (35.00000 31.00000)\n",
              "7  POINT (10.00000 12.00000)\n",
              "8  POINT (31.00000 37.00000)\n",
              "9   POINT (7.00000 14.00000)"
            ]
          },
          "execution_count": 4,
          "metadata": {},
          "output_type": "execute_result"
        }
      ],
      "source": [
        "# Make Toy Data\n",
        "from spatialtsp import is_far_enough, generate_clustered_points\n",
        "points=generate_clustered_points(10)\n",
        "points"
      ]
    },
    {
      "cell_type": "code",
      "execution_count": 5,
      "metadata": {
        "id": "952KZ6EKPc_C"
      },
      "outputs": [
        {
          "data": {
            "text/plain": [
              "array([[   0, 2062, 3754,  943, 3354,  707, 2608,  583, 2691,  671],\n",
              "       [2062,    0, 1749, 2530, 1703, 2625,  922, 2640,  640, 2687],\n",
              "       [3754, 1749,    0, 4022, 1020, 4360, 1253, 4314, 1118, 4405],\n",
              "       [ 943, 2530, 4022,    0, 3397, 1389, 2780,  854, 3087, 1208],\n",
              "       [3354, 1703, 1020, 3397,    0, 4031,  806, 3859, 1300, 4025],\n",
              "       [ 707, 2625, 4360, 1389, 4031,    0, 3265,  566, 3265,  224],\n",
              "       [2608,  922, 1253, 2780,  806, 3265,    0, 3140,  721, 3276],\n",
              "       [ 583, 2640, 4314,  854, 3859,  566, 3140,    0, 3265,  361],\n",
              "       [2691,  640, 1118, 3087, 1300, 3265,  721, 3265,    0, 3324],\n",
              "       [ 671, 2687, 4405, 1208, 4025,  224, 3276,  361, 3324,    0]])"
            ]
          },
          "execution_count": 5,
          "metadata": {},
          "output_type": "execute_result"
        }
      ],
      "source": [
        "# Calculate Standard Distance Matrix\n",
        "from spatialtsp import calculate_distance_matrix\n",
        "distance_matrix=calculate_distance_matrix(points)\n",
        "distance_matrix"
      ]
    },
    {
      "cell_type": "code",
      "execution_count": 8,
      "metadata": {
        "id": "IKYoFhIjPc_C"
      },
      "outputs": [],
      "source": [
        "# set working directory\n",
        "# import os\n",
        "\n",
        "# path = 'D:/GIS_analyzing/1.Standard_TSP/0.test_iteration' # write your own directory\n",
        "# os.chdir(path)\n",
        "# os.getcwd()"
      ]
    },
    {
      "cell_type": "markdown",
      "metadata": {
        "id": "pJ7F52QBPc_D"
      },
      "source": [
        "## Display Basemap"
      ]
    },
    {
      "cell_type": "code",
      "execution_count": 9,
      "metadata": {
        "colab": {
          "referenced_widgets": [
            "aec10448c1194dd78ac9583af3f10977"
          ]
        },
        "id": "t38vJfI8Pc_D",
        "outputId": "124a1310-4e6e-45ea-f6f6-a8975d154143"
      },
      "outputs": [
        {
          "data": {
            "application/vnd.jupyter.widget-view+json": {
              "model_id": "172ec9ed3d7d4d3e9eb41c10e642eeff",
              "version_major": 2,
              "version_minor": 0
            },
            "text/plain": [
              "Map(center=[40.7128, -74.006], controls=(ZoomControl(options=['position', 'zoom_in_text', 'zoom_in_title', 'zo…"
            ]
          },
          "execution_count": 9,
          "metadata": {},
          "output_type": "execute_result"
        }
      ],
      "source": [
        "## Add basemap\n",
        "from spatialtsp import Map\n",
        "\n",
        "my_map = Map(center=[40.7128, -74.0060], zoom=10)\n",
        "my_map.add_basemap(\"OpenStreetMap.Mapnik\")\n",
        "\n",
        "my_map\n"
      ]
    },
    {
      "cell_type": "code",
      "execution_count": 10,
      "metadata": {
        "colab": {
          "referenced_widgets": [
            "e72c215bfd504e99b461e0af3cb53d67"
          ]
        },
        "id": "e9WTqMmSPc_E",
        "outputId": "72211276-eb63-4327-8c63-e942c251d82e"
      },
      "outputs": [
        {
          "data": {
            "application/vnd.jupyter.widget-view+json": {
              "model_id": "82aba11abf994d01b7b7d4ea48db34ba",
              "version_major": 2,
              "version_minor": 0
            },
            "text/plain": [
              "Map(center=[37.0902, -95.7129], controls=(ZoomControl(options=['position', 'zoom_in_text', 'zoom_in_title', 'z…"
            ]
          },
          "execution_count": 10,
          "metadata": {},
          "output_type": "execute_result"
        }
      ],
      "source": [
        "## Add GeoJSON\n",
        "from spatialtsp import Map\n",
        "\n",
        "geojson_map = Map(center=[37.0902, -95.7129], zoom=4)\n",
        "geojson_url = \"https://github.com/opengeos/datasets/releases/download/us/us_states.geojson\"\n",
        "geojson_map.add_geojson(geojson_url, name=\"US Counties\")\n",
        "\n",
        "geojson_map\n"
      ]
    },
    {
      "cell_type": "code",
      "execution_count": 11,
      "metadata": {
        "colab": {
          "referenced_widgets": [
            "54e591aebb694f2faa234c978ea63f1e"
          ]
        },
        "id": "md7-s2zEPc_E",
        "outputId": "02d310b0-c498-42d8-c37b-439c3eb5aea9"
      },
      "outputs": [
        {
          "data": {
            "application/vnd.jupyter.widget-view+json": {
              "model_id": "e71fb0b69ae64951a91ff2096ef640b3",
              "version_major": 2,
              "version_minor": 0
            },
            "text/plain": [
              "Map(center=[37.0902, -95.7129], controls=(ZoomControl(options=['position', 'zoom_in_text', 'zoom_in_title', 'z…"
            ]
          },
          "execution_count": 11,
          "metadata": {},
          "output_type": "execute_result"
        }
      ],
      "source": [
        "## Add shp\n",
        "import geopandas as gpd\n",
        "import requests\n",
        "import zipfile\n",
        "import io\n",
        "from spatialtsp import Map\n",
        "\n",
        "# Shapefile URL\n",
        "url = 'https://github.com/opengeos/datasets/releases/download/us/us_states.zip'\n",
        "\n",
        "# Download and extract the zip file\n",
        "r = requests.get(url)\n",
        "z = zipfile.ZipFile(io.BytesIO(r.content))\n",
        "\n",
        "# Find the shapefile name\n",
        "shp_name = [name for name in z.namelist() if '.shp' in name][0]\n",
        "\n",
        "# Read and extract the shapefile\n",
        "z.extractall(\"temp_shp\")\n",
        "states_gdf = gpd.read_file(\"temp_shp/us_states.shp\")\n",
        "\n",
        "\n",
        "# Display the shapefile\n",
        "my_map = Map(center=[37.0902, -95.7129], zoom=4)\n",
        "my_map.add_vector(states_gdf, name=\"US States\")\n",
        "\n",
        "my_map\n"
      ]
    },
    {
      "cell_type": "code",
      "execution_count": 12,
      "metadata": {
        "colab": {
          "referenced_widgets": [
            "41957bc40ff04aaba2b1a4427d405ab0"
          ]
        },
        "id": "hxCo6RSiPc_F",
        "outputId": "29df8b75-a279-4cbb-ce9a-670b8042fd43"
      },
      "outputs": [
        {
          "data": {
            "application/vnd.jupyter.widget-view+json": {
              "model_id": "e19f66845eae4cbca94c267ee220e6b1",
              "version_major": 2,
              "version_minor": 0
            },
            "text/plain": [
              "Map(center=[37.0902, -95.7129], controls=(ZoomControl(options=['position', 'zoom_in_text', 'zoom_in_title', 'z…"
            ]
          },
          "execution_count": 12,
          "metadata": {},
          "output_type": "execute_result"
        }
      ],
      "source": [
        "## Add Vector\n",
        "from spatialtsp import Map\n",
        "\n",
        "# Initialize the map\n",
        "my_map = Map(center=[37.0902, -95.7129], zoom=4)\n",
        "\n",
        "# GeoJSON URLs\n",
        "city_geojson_url = \"https://github.com/opengeos/datasets/releases/download/us/us_cities.geojson\"\n",
        "county_geojson_url = \"https://github.com/opengeos/datasets/releases/download/us/us_counties.geojson\"\n",
        "\n",
        "# Shapefile URL\n",
        "states_shape_url = 'https://github.com/opengeos/datasets/releases/download/us/us_states.zip'\n",
        "\n",
        "# Load GeoJSONs as GeoDataFrames\n",
        "gdf_cities = gpd.read_file(city_geojson_url)\n",
        "gdf_counties = gpd.read_file(county_geojson_url)\n",
        "\n",
        "# Use add_vector to add GeoDataFrames to the map\n",
        "my_map.add_vector(gdf_counties, name=\"US Counties\")\n",
        "my_map.add_vector(gdf_cities, name=\"US Cities\")\n",
        "# For the shapefile, directly use the URL\n",
        "my_map.add_vector(states_shape_url, name=\"US States\")\n",
        "\n",
        "# Display the map\n",
        "my_map"
      ]
    },
    {
      "cell_type": "code",
      "execution_count": null,
      "metadata": {
        "id": "1IY3iS4bPc_F"
      },
      "outputs": [],
      "source": [
        "## other codes will be updated soon"
      ]
    }
  ],
  "metadata": {
    "colab": {
      "include_colab_link": true,
      "provenance": []
    },
    "kernelspec": {
      "display_name": "Python 3",
      "language": "python",
      "name": "python3"
    },
    "language_info": {
      "codemirror_mode": {
        "name": "ipython",
        "version": 3
      },
      "file_extension": ".py",
      "mimetype": "text/x-python",
      "name": "python",
      "nbconvert_exporter": "python",
      "pygments_lexer": "ipython3",
      "version": "3.11.8"
    }
  },
  "nbformat": 4,
  "nbformat_minor": 0
}
