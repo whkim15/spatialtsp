{
  "cells": [
    {
      "cell_type": "markdown",
      "metadata": {
        "id": "CaGirCr6Pc-8"
      },
      "source": [
        "# Spatially Informed Traveling Salesman Problem\n",
        "[![image](https://colab.research.google.com/assets/colab-badge.svg)](https://colab.research.google.com/drive/17da8FuXsDfI9DCuaT7rbKKl2twoFYSlB#scrollTo=qO4f61z7Pc_A)\n",
        "Developed by Wanhee Kim(Phd student at UTK) / Revised Date : 04/03/2024\n"
      ]
    },
    {
      "cell_type": "markdown",
      "metadata": {
        "id": "mWWhV4s3Pc-_"
      },
      "source": [
        "## Sequence of spatially informed TSP\n",
        "1. Measure adjacency based on spatial information\n",
        "2. Generate distance matrix\n",
        "3. Analyze TSP"
      ]
    },
    {
      "cell_type": "markdown",
      "metadata": {
        "id": "qO4f61z7Pc_A"
      },
      "source": [
        "## Analysis"
      ]
    },
    {
      "cell_type": "code",
      "execution_count": null,
      "metadata": {
        "id": "i21B9oYlsXDl"
      },
      "outputs": [],
      "source": [
        "pip install spatialtsp"
      ]
    },
    {
      "cell_type": "code",
      "execution_count": null,
      "metadata": {
        "id": "0xVkjPQBPc_B",
        "outputId": "22f84977-19ee-4c32-8a8d-9c452408efcf"
      },
      "outputs": [
        {
          "data": {
            "text/html": [
              "<div>\n",
              "<style scoped>\n",
              "    .dataframe tbody tr th:only-of-type {\n",
              "        vertical-align: middle;\n",
              "    }\n",
              "\n",
              "    .dataframe tbody tr th {\n",
              "        vertical-align: top;\n",
              "    }\n",
              "\n",
              "    .dataframe thead th {\n",
              "        text-align: right;\n",
              "    }\n",
              "</style>\n",
              "<table border=\"1\" class=\"dataframe\">\n",
              "  <thead>\n",
              "    <tr style=\"text-align: right;\">\n",
              "      <th></th>\n",
              "      <th>geometry</th>\n",
              "    </tr>\n",
              "  </thead>\n",
              "  <tbody>\n",
              "    <tr>\n",
              "      <th>0</th>\n",
              "      <td>POINT (7.00000 20.00000)</td>\n",
              "    </tr>\n",
              "    <tr>\n",
              "      <th>1</th>\n",
              "      <td>POINT (45.00000 39.00000)</td>\n",
              "    </tr>\n",
              "    <tr>\n",
              "      <th>2</th>\n",
              "      <td>POINT (11.00000 6.00000)</td>\n",
              "    </tr>\n",
              "    <tr>\n",
              "      <th>3</th>\n",
              "      <td>POINT (17.00000 12.00000)</td>\n",
              "    </tr>\n",
              "    <tr>\n",
              "      <th>4</th>\n",
              "      <td>POINT (20.00000 19.00000)</td>\n",
              "    </tr>\n",
              "    <tr>\n",
              "      <th>5</th>\n",
              "      <td>POINT (43.00000 35.00000)</td>\n",
              "    </tr>\n",
              "    <tr>\n",
              "      <th>6</th>\n",
              "      <td>POINT (38.00000 30.00000)</td>\n",
              "    </tr>\n",
              "    <tr>\n",
              "      <th>7</th>\n",
              "      <td>POINT (37.00000 33.00000)</td>\n",
              "    </tr>\n",
              "    <tr>\n",
              "      <th>8</th>\n",
              "      <td>POINT (8.00000 11.00000)</td>\n",
              "    </tr>\n",
              "    <tr>\n",
              "      <th>9</th>\n",
              "      <td>POINT (40.00000 30.00000)</td>\n",
              "    </tr>\n",
              "  </tbody>\n",
              "</table>\n",
              "</div>"
            ],
            "text/plain": [
              "                    geometry\n",
              "0   POINT (7.00000 20.00000)\n",
              "1  POINT (45.00000 39.00000)\n",
              "2   POINT (11.00000 6.00000)\n",
              "3  POINT (17.00000 12.00000)\n",
              "4  POINT (20.00000 19.00000)\n",
              "5  POINT (43.00000 35.00000)\n",
              "6  POINT (38.00000 30.00000)\n",
              "7  POINT (37.00000 33.00000)\n",
              "8   POINT (8.00000 11.00000)\n",
              "9  POINT (40.00000 30.00000)"
            ]
          },
          "execution_count": 1,
          "metadata": {},
          "output_type": "execute_result"
        }
      ],
      "source": [
        "# Make Toy Data\n",
        "from spatialtsp import is_far_enough, generate_clustered_points\n",
        "points=generate_clustered_points(10)\n",
        "points"
      ]
    },
    {
      "cell_type": "code",
      "execution_count": null,
      "metadata": {
        "id": "952KZ6EKPc_C",
        "outputId": "705c3770-9232-4cbd-a061-fab192891c5e"
      },
      "outputs": [
        {
          "data": {
            "text/plain": [
              "array([[   0, 4249, 1456, 1281, 1304, 3900, 3257, 3270,  906, 3448],\n",
              "       [4249,    0, 4738, 3890, 3202,  447, 1140, 1000, 4640, 1030],\n",
              "       [1456, 4738,    0,  849, 1581, 4319, 3612, 3748,  583, 3764],\n",
              "       [1281, 3890,  849,    0,  762, 3471, 2766, 2900,  906, 2921],\n",
              "       [1304, 3202, 1581,  762,    0, 2802, 2110, 2202, 1442, 2283],\n",
              "       [3900,  447, 4319, 3471, 2802,    0,  707,  632, 4244,  583],\n",
              "       [3257, 1140, 3612, 2766, 2110,  707,    0,  316, 3551,  200],\n",
              "       [3270, 1000, 3748, 2900, 2202,  632,  316,    0, 3640,  424],\n",
              "       [ 906, 4640,  583,  906, 1442, 4244, 3551, 3640,    0, 3722],\n",
              "       [3448, 1030, 3764, 2921, 2283,  583,  200,  424, 3722,    0]])"
            ]
          },
          "execution_count": 2,
          "metadata": {},
          "output_type": "execute_result"
        }
      ],
      "source": [
        "# Calculate Standard Distance Matrix\n",
        "from spatialtsp import calculate_distance_matrix\n",
        "distance_matrix=calculate_distance_matrix(points)\n",
        "distance_matrix"
      ]
    },
    {
      "cell_type": "code",
      "execution_count": null,
      "metadata": {
        "id": "IKYoFhIjPc_C"
      },
      "outputs": [],
      "source": [
        "# set working directory\n",
        "# import os\n",
        "\n",
        "# path = 'D:/GIS_analyzing/1.Standard_TSP/0.test_iteration' # write your own directory\n",
        "# os.chdir(path)\n",
        "# os.getcwd()"
      ]
    },
    {
      "cell_type": "markdown",
      "metadata": {
        "id": "pJ7F52QBPc_D"
      },
      "source": [
        "## Display Basemap"
      ]
    },
    {
      "cell_type": "code",
      "execution_count": null,
      "metadata": {
        "colab": {
          "referenced_widgets": [
            "aec10448c1194dd78ac9583af3f10977",
            "ef18640dc58e4406b4c7cb0ca9045db2"
          ]
        },
        "id": "t38vJfI8Pc_D",
        "outputId": "124a1310-4e6e-45ea-f6f6-a8975d154143"
      },
      "outputs": [
        {
          "data": {
            "application/vnd.jupyter.widget-view+json": {
              "model_id": "ef18640dc58e4406b4c7cb0ca9045db2",
              "version_major": 2,
              "version_minor": 0
            },
            "text/plain": [
              "Map(center=[40.7128, -74.006], controls=(ZoomControl(options=['position', 'zoom_in_text', 'zoom_in_title', 'zo…"
            ]
          },
          "execution_count": 3,
          "metadata": {},
          "output_type": "execute_result"
        }
      ],
      "source": [
        "## Add basemap\n",
        "from spatialtsp import Map\n",
        "\n",
        "my_map = Map(center=[40.7128, -74.0060], zoom=10)\n",
        "my_map.add_basemap(\"OpenStreetMap.Mapnik\")\n",
        "\n",
        "my_map\n"
      ]
    },
    {
      "cell_type": "code",
      "execution_count": null,
      "metadata": {
        "colab": {
          "referenced_widgets": [
            "e72c215bfd504e99b461e0af3cb53d67",
            "6be5821ba220492b8dc66ba51edf5a6d"
          ]
        },
        "id": "e9WTqMmSPc_E",
        "outputId": "72211276-eb63-4327-8c63-e942c251d82e"
      },
      "outputs": [
        {
          "data": {
            "application/vnd.jupyter.widget-view+json": {
              "model_id": "6be5821ba220492b8dc66ba51edf5a6d",
              "version_major": 2,
              "version_minor": 0
            },
            "text/plain": [
              "Map(center=[37.0902, -95.7129], controls=(ZoomControl(options=['position', 'zoom_in_text', 'zoom_in_title', 'z…"
            ]
          },
          "execution_count": 4,
          "metadata": {},
          "output_type": "execute_result"
        }
      ],
      "source": [
        "## Add GeoJSON\n",
        "from spatialtsp import Map\n",
        "\n",
        "geojson_map = Map(center=[37.0902, -95.7129], zoom=4)\n",
        "geojson_url = \"https://github.com/opengeos/datasets/releases/download/us/us_states.geojson\"\n",
        "geojson_map.add_geojson(geojson_url, name=\"US Counties\")\n",
        "\n",
        "geojson_map\n"
      ]
    },
    {
      "cell_type": "code",
      "execution_count": null,
      "metadata": {
        "colab": {
          "referenced_widgets": [
            "54e591aebb694f2faa234c978ea63f1e",
            "c2418e94469e4e8f9732553a9df61223"
          ]
        },
        "id": "md7-s2zEPc_E",
        "outputId": "02d310b0-c498-42d8-c37b-439c3eb5aea9"
      },
      "outputs": [
        {
          "data": {
            "application/vnd.jupyter.widget-view+json": {
              "model_id": "c2418e94469e4e8f9732553a9df61223",
              "version_major": 2,
              "version_minor": 0
            },
            "text/plain": [
              "Map(center=[37.0902, -95.7129], controls=(ZoomControl(options=['position', 'zoom_in_text', 'zoom_in_title', 'z…"
            ]
          },
          "execution_count": 5,
          "metadata": {},
          "output_type": "execute_result"
        }
      ],
      "source": [
        "## Add shp\n",
        "import geopandas as gpd\n",
        "import requests\n",
        "import zipfile\n",
        "import io\n",
        "from spatialtsp import Map\n",
        "\n",
        "# Shapefile URL\n",
        "url = 'https://github.com/opengeos/datasets/releases/download/us/us_states.zip'\n",
        "\n",
        "# Download and extract the zip file\n",
        "r = requests.get(url)\n",
        "z = zipfile.ZipFile(io.BytesIO(r.content))\n",
        "\n",
        "# Find the shapefile name\n",
        "shp_name = [name for name in z.namelist() if '.shp' in name][0]\n",
        "\n",
        "# Read and extract the shapefile\n",
        "z.extractall(\"temp_shp\")\n",
        "states_gdf = gpd.read_file(\"temp_shp/us_states.shp\")\n",
        "\n",
        "\n",
        "# Display the shapefile\n",
        "my_map = Map(center=[37.0902, -95.7129], zoom=4)\n",
        "my_map.add_vector(states_gdf, name=\"US States\")\n",
        "\n",
        "my_map\n"
      ]
    },
    {
      "cell_type": "code",
      "execution_count": null,
      "metadata": {
        "colab": {
          "referenced_widgets": [
            "41957bc40ff04aaba2b1a4427d405ab0",
            "b53916da4226458c87066202ca07ebbb"
          ]
        },
        "id": "hxCo6RSiPc_F",
        "outputId": "29df8b75-a279-4cbb-ce9a-670b8042fd43"
      },
      "outputs": [
        {
          "data": {
            "application/vnd.jupyter.widget-view+json": {
              "model_id": "b53916da4226458c87066202ca07ebbb",
              "version_major": 2,
              "version_minor": 0
            },
            "text/plain": [
              "Map(center=[37.0902, -95.7129], controls=(ZoomControl(options=['position', 'zoom_in_text', 'zoom_in_title', 'z…"
            ]
          },
          "execution_count": 6,
          "metadata": {},
          "output_type": "execute_result"
        }
      ],
      "source": [
        "## Add Vector\n",
        "from spatialtsp import Map\n",
        "\n",
        "# Initialize the map\n",
        "my_map = Map(center=[37.0902, -95.7129], zoom=4)\n",
        "\n",
        "# GeoJSON URLs\n",
        "city_geojson_url = \"https://github.com/opengeos/datasets/releases/download/us/us_cities.geojson\"\n",
        "county_geojson_url = \"https://github.com/opengeos/datasets/releases/download/us/us_counties.geojson\"\n",
        "\n",
        "# Shapefile URL\n",
        "states_shape_url = 'https://github.com/opengeos/datasets/releases/download/us/us_states.zip'\n",
        "\n",
        "# Load GeoJSONs as GeoDataFrames\n",
        "gdf_cities = gpd.read_file(city_geojson_url)\n",
        "gdf_counties = gpd.read_file(county_geojson_url)\n",
        "\n",
        "# Use add_vector to add GeoDataFrames to the map\n",
        "my_map.add_vector(gdf_counties, name=\"US Counties\")\n",
        "my_map.add_vector(gdf_cities, name=\"US Cities\")\n",
        "# For the shapefile, directly use the URL\n",
        "my_map.add_vector(states_shape_url, name=\"US States\")\n",
        "\n",
        "# Display the map\n",
        "my_map"
      ]
    },
    {
      "cell_type": "code",
      "execution_count": null,
      "metadata": {
        "id": "1IY3iS4bPc_F"
      },
      "outputs": [],
      "source": [
        "## other codes will be updated soon"
      ]
    }
  ],
  "metadata": {
    "colab": {
      "provenance": []
    },
    "kernelspec": {
      "display_name": "Python 3",
      "language": "python",
      "name": "python3"
    },
    "language_info": {
      "codemirror_mode": {
        "name": "ipython",
        "version": 3
      },
      "file_extension": ".py",
      "mimetype": "text/x-python",
      "name": "python",
      "nbconvert_exporter": "python",
      "pygments_lexer": "ipython3",
      "version": "3.11.9"
    }
  },
  "nbformat": 4,
  "nbformat_minor": 0
}
