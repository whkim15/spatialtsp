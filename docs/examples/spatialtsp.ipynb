{
  "cells": [
    {
      "cell_type": "markdown",
      "metadata": {
        "id": "CaGirCr6Pc-8"
      },
      "source": [
        "# Spatially Informed Traveling Salesman Problem\n",
        "[![image](https://colab.research.google.com/assets/colab-badge.svg)](https://colab.research.google.com/drive/18GW9JZDXK8F_x_PKKGP8n_deojAu6QFz)\n",
        "Developed by Wanhee Kim(Phd student at UTK) / Revised Date : 04/03/2024\n"
      ]
    },
    {
      "cell_type": "markdown",
      "metadata": {
        "id": "mWWhV4s3Pc-_"
      },
      "source": [
        "## Sequence of spatially informed TSP\n",
        "1. Measure adjacency based on spatial information\n",
        "2. Generate distance matrix\n",
        "3. Analyze TSP"
      ]
    },
    {
      "cell_type": "markdown",
      "metadata": {
        "id": "qO4f61z7Pc_A"
      },
      "source": [
        "## Analysis"
      ]
    },
    {
      "cell_type": "code",
      "execution_count": null,
      "metadata": {
        "id": "i21B9oYlsXDl"
      },
      "outputs": [],
      "source": [
        "pip install spatialtsp"
      ]
    },
    {
      "cell_type": "code",
      "execution_count": null,
      "metadata": {
        "id": "0xVkjPQBPc_B",
        "outputId": "22f84977-19ee-4c32-8a8d-9c452408efcf"
      },
      "outputs": [],
      "source": [
        "# Make Toy Data\n",
        "from spatialtsp import is_far_enough, generate_clustered_points\n",
        "points=generate_clustered_points(10)\n",
        "points"
      ]
    },
    {
      "cell_type": "code",
      "execution_count": null,
      "metadata": {
        "id": "952KZ6EKPc_C",
        "outputId": "705c3770-9232-4cbd-a061-fab192891c5e"
      },
      "outputs": [],
      "source": [
        "# Calculate Standard Distance Matrix\n",
        "from spatialtsp import calculate_distance_matrix\n",
        "distance_matrix=calculate_distance_matrix(points)\n",
        "distance_matrix"
      ]
    },
    {
      "cell_type": "code",
      "execution_count": null,
      "metadata": {
        "id": "IKYoFhIjPc_C"
      },
      "outputs": [],
      "source": [
        "# set working directory\n",
        "# import os\n",
        "\n",
        "# path = 'D:/GIS_analyzing/1.Standard_TSP/0.test_iteration' # write your own directory\n",
        "# os.chdir(path)\n",
        "# os.getcwd()"
      ]
    },
    {
      "cell_type": "code",
      "execution_count": null,
      "metadata": {},
      "outputs": [],
      "source": [
        "## other codes will be updated soon"
      ]
    },
    {
      "cell_type": "markdown",
      "metadata": {
        "id": "pJ7F52QBPc_D"
      },
      "source": [
        "## Display Basemap"
      ]
    },
    {
      "cell_type": "code",
      "execution_count": null,
      "metadata": {
        "colab": {
          "referenced_widgets": [
            "aec10448c1194dd78ac9583af3f10977",
            "ef18640dc58e4406b4c7cb0ca9045db2"
          ]
        },
        "id": "t38vJfI8Pc_D",
        "outputId": "124a1310-4e6e-45ea-f6f6-a8975d154143"
      },
      "outputs": [],
      "source": [
        "## Add basemap\n",
        "from spatialtsp import Map\n",
        "\n",
        "my_map = Map(center=[40.7128, -74.0060], zoom=10)\n",
        "my_map.add_basemap(\"OpenStreetMap.Mapnik\")\n",
        "\n",
        "my_map\n"
      ]
    },
    {
      "cell_type": "code",
      "execution_count": 6,
      "metadata": {
        "colab": {
          "referenced_widgets": [
            "e72c215bfd504e99b461e0af3cb53d67",
            "6be5821ba220492b8dc66ba51edf5a6d"
          ]
        },
        "id": "e9WTqMmSPc_E",
        "outputId": "72211276-eb63-4327-8c63-e942c251d82e"
      },
      "outputs": [
        {
          "data": {
            "application/vnd.jupyter.widget-view+json": {
              "model_id": "20f304946a55434fb0dd6bcc1fe0ff3c",
              "version_major": 2,
              "version_minor": 0
            },
            "text/plain": [
              "Map(center=[37.0902, -95.7129], controls=(ZoomControl(options=['position', 'zoom_in_text', 'zoom_in_title', 'z…"
            ]
          },
          "execution_count": 6,
          "metadata": {},
          "output_type": "execute_result"
        }
      ],
      "source": [
        "## Add GeoJSON\n",
        "from spatialtsp import Map\n",
        "\n",
        "geojson_map = Map(center=[37.0902, -95.7129], zoom=4)\n",
        "geojson_url = \"https://github.com/opengeos/datasets/releases/download/us/us_states.geojson\"\n",
        "geojson_map.add_geojson(geojson_url, name=\"US Counties\")\n",
        "\n",
        "geojson_map\n"
      ]
    },
    {
      "cell_type": "code",
      "execution_count": null,
      "metadata": {
        "colab": {
          "referenced_widgets": [
            "54e591aebb694f2faa234c978ea63f1e",
            "c2418e94469e4e8f9732553a9df61223"
          ]
        },
        "id": "md7-s2zEPc_E",
        "outputId": "02d310b0-c498-42d8-c37b-439c3eb5aea9"
      },
      "outputs": [],
      "source": [
        "## Add shp\n",
        "import geopandas as gpd\n",
        "import requests\n",
        "import zipfile\n",
        "import io\n",
        "from spatialtsp import Map\n",
        "\n",
        "# Shapefile URL\n",
        "url = 'https://github.com/opengeos/datasets/releases/download/us/us_states.zip'\n",
        "\n",
        "# Download and extract the zip file\n",
        "r = requests.get(url)\n",
        "z = zipfile.ZipFile(io.BytesIO(r.content))\n",
        "\n",
        "# Find the shapefile name\n",
        "shp_name = [name for name in z.namelist() if '.shp' in name][0]\n",
        "\n",
        "# Read and extract the shapefile\n",
        "z.extractall(\"temp_shp\")\n",
        "states_gdf = gpd.read_file(\"temp_shp/us_states.shp\")\n",
        "\n",
        "\n",
        "# Display the shapefile\n",
        "my_map = Map(center=[37.0902, -95.7129], zoom=4)\n",
        "my_map.add_vector(states_gdf, name=\"US States\")\n",
        "\n",
        "my_map\n"
      ]
    },
    {
      "cell_type": "code",
      "execution_count": null,
      "metadata": {
        "colab": {
          "referenced_widgets": [
            "41957bc40ff04aaba2b1a4427d405ab0",
            "b53916da4226458c87066202ca07ebbb"
          ]
        },
        "id": "hxCo6RSiPc_F",
        "outputId": "29df8b75-a279-4cbb-ce9a-670b8042fd43"
      },
      "outputs": [],
      "source": [
        "## Add Vector\n",
        "from spatialtsp import Map\n",
        "\n",
        "# Initialize the map\n",
        "my_map = Map(center=[37.0902, -95.7129], zoom=4)\n",
        "\n",
        "# GeoJSON URLs\n",
        "city_geojson_url = \"https://github.com/opengeos/datasets/releases/download/us/us_cities.geojson\"\n",
        "county_geojson_url = \"https://github.com/opengeos/datasets/releases/download/us/us_counties.geojson\"\n",
        "\n",
        "# Shapefile URL\n",
        "states_shape_url = 'https://github.com/opengeos/datasets/releases/download/us/us_states.zip'\n",
        "\n",
        "# Load GeoJSONs as GeoDataFrames\n",
        "gdf_cities = gpd.read_file(city_geojson_url)\n",
        "gdf_counties = gpd.read_file(county_geojson_url)\n",
        "\n",
        "# Use add_vector to add GeoDataFrames to the map\n",
        "my_map.add_vector(gdf_counties, name=\"US Counties\")\n",
        "my_map.add_vector(gdf_cities, name=\"US Cities\")\n",
        "# For the shapefile, directly use the URL\n",
        "my_map.add_vector(states_shape_url, name=\"US States\")\n",
        "\n",
        "# Display the map\n",
        "my_map"
      ]
    },
    {
      "cell_type": "markdown",
      "metadata": {},
      "source": [
        "##Raster Map"
      ]
    },
    {
      "cell_type": "code",
      "execution_count": null,
      "metadata": {},
      "outputs": [],
      "source": [
        "#change path\n",
        "import os\n",
        "os.chdir('D:/GIS program/Github/spatialtsp/spatialtsp-5')"
      ]
    },
    {
      "cell_type": "code",
      "execution_count": null,
      "metadata": {},
      "outputs": [],
      "source": [
        "# import functions\n",
        "!pip install localtileserver\n",
        "import spatialtsp\n",
        "from spatialtsp import Map"
      ]
    },
    {
      "cell_type": "code",
      "execution_count": null,
      "metadata": {},
      "outputs": [],
      "source": [
        "# check the path of functions\n",
        "from importlib import reload\n",
        "reload(spatialtsp)\n",
        "\n",
        "from spatialtsp import Map\n",
        "m = Map()\n",
        "print(dir(m)) \n",
        "\n",
        "import spatialtsp\n",
        "print(spatialtsp.__file__)"
      ]
    },
    {
      "cell_type": "code",
      "execution_count": 3,
      "metadata": {
        "id": "1IY3iS4bPc_F"
      },
      "outputs": [
        {
          "data": {
            "application/vnd.jupyter.widget-view+json": {
              "model_id": "e422c5e4b1a74b60a4588dd9eee46a12",
              "version_major": 2,
              "version_minor": 0
            },
            "text/plain": [
              "Map(center=[25, -115], controls=(ZoomControl(options=['position', 'zoom_in_text', 'zoom_in_title', 'zoom_out_t…"
            ]
          },
          "execution_count": 3,
          "metadata": {},
          "output_type": "execute_result"
        }
      ],
      "source": [
        "## overlay climate image(png)\n",
        "from ipyleaflet import Map, ImageOverlay\n",
        "\n",
        "m = Map(center=(25, -115), zoom=4)\n",
        "\n",
        "image = ImageOverlay(\n",
        "    url=\"https://i.imgur.com/06Q1fSz.png\",\n",
        "    # url='../06Q1fSz.png',\n",
        "    bounds=((13, -130), (32, -100)),\n",
        ")\n",
        "\n",
        "m.add(image)\n",
        "m"
      ]
    },
    {
      "cell_type": "code",
      "execution_count": 32,
      "metadata": {},
      "outputs": [
        {
          "data": {
            "application/vnd.jupyter.widget-view+json": {
              "model_id": "6ad9cf0593eb4fe3b79e07979faa9040",
              "version_major": 2,
              "version_minor": 0
            },
            "text/plain": [
              "Map(center=[40, -100], controls=(ZoomControl(options=['position', 'zoom_in_text', 'zoom_in_title', 'zoom_out_t…"
            ]
          },
          "execution_count": 32,
          "metadata": {},
          "output_type": "execute_result"
        }
      ],
      "source": [
        "## Overlay GIF of TSP into basemap\n",
        "m = Map(center=(40, -100), zoom=4)\n",
        "\n",
        "url = \"https://graphdeeplearning.github.io/project/combinatorial-optimization/tsp-gif.gif\"\n",
        "\n",
        "# url='../06Q1fSz.png',\n",
        "bounds = ((25, -125), (51, -66))\n",
        "m.add_image(url, bounds)\n",
        "m.add_layers_control()\n",
        "# m.scroll_wheel_zoom = True\n",
        "m"
      ]
    },
    {
      "cell_type": "code",
      "execution_count": 37,
      "metadata": {},
      "outputs": [
        {
          "data": {
            "application/vnd.jupyter.widget-view+json": {
              "model_id": "5bdfc81d3db5467f997f8b8598077553",
              "version_major": 2,
              "version_minor": 0
            },
            "text/plain": [
              "Map(center=[37.630466999999996, -119.03021849999999], controls=(ZoomControl(options=['position', 'zoom_in_text…"
            ]
          },
          "execution_count": 37,
          "metadata": {},
          "output_type": "execute_result"
        }
      ],
      "source": [
        "## Overlay COloud Optimized GeoTiff into Basemap\n",
        "from localtileserver import TileClient, get_leaflet_tile_layer, examples\n",
        "from spatialtsp import Map\n",
        "\n",
        "client = TileClient(\n",
        "    \"https://github.com/opengeos/datasets/releases/download/raster/srtm90.tif\"\n",
        ")\n",
        "\n",
        "# Create ipyleaflet TileLayer from that server\n",
        "t = get_leaflet_tile_layer(client)\n",
        "# Create ipyleaflet map, add tile layer, and display\n",
        "m = Map()\n",
        "m.add(t)\n",
        "m.center = client.center()\n",
        "m.zoom = client.default_zoom\n",
        "m"
      ]
    }
  ],
  "metadata": {
    "colab": {
      "provenance": []
    },
    "kernelspec": {
      "display_name": "Python 3",
      "language": "python",
      "name": "python3"
    },
    "language_info": {
      "codemirror_mode": {
        "name": "ipython",
        "version": 3
      },
      "file_extension": ".py",
      "mimetype": "text/x-python",
      "name": "python",
      "nbconvert_exporter": "python",
      "pygments_lexer": "ipython3",
      "version": "3.11.9"
    }
  },
  "nbformat": 4,
  "nbformat_minor": 0
}
