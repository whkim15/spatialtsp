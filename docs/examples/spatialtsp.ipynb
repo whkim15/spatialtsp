{
  "cells": [
    {
      "cell_type": "markdown",
      "metadata": {
        "id": "CaGirCr6Pc-8"
      },
      "source": [
        "# Spatially Informed Traveling Salesman Problem\n",
        "[![image](https://colab.research.google.com/assets/colab-badge.svg)](https://colab.research.google.com/drive/1Rw9_fomI2CRgYNwEmZRx8XU3j1RQK9gO)\n",
        "Developed by Wanhee Kim(Phd student at UTK) / Revised Date : 04/09/2024\n"
      ]
    },
    {
      "cell_type": "markdown",
      "metadata": {
        "id": "mWWhV4s3Pc-_"
      },
      "source": [
        "## Sequence of spatially informed TSP\n",
        "1. Measure adjacency based on spatial information\n",
        "2. Generate distance matrix\n",
        "3. Analyze TSP"
      ]
    },
    {
      "cell_type": "markdown",
      "metadata": {
        "id": "qO4f61z7Pc_A"
      },
      "source": [
        "## Analysis"
      ]
    },
    {
      "cell_type": "code",
      "execution_count": 1,
      "metadata": {
        "id": "i21B9oYlsXDl"
      },
      "outputs": [
        {
          "name": "stdout",
          "output_type": "stream",
          "text": [
            "Requirement already satisfied: spatialtsp in c:\\users\\dooco\\appdata\\local\\packages\\pythonsoftwarefoundation.python.3.11_qbz5n2kfra8p0\\localcache\\local-packages\\python311\\site-packages (0.0.1)\n",
            "Requirement already satisfied: numpy in c:\\users\\dooco\\appdata\\local\\packages\\pythonsoftwarefoundation.python.3.11_qbz5n2kfra8p0\\localcache\\local-packages\\python311\\site-packages (from spatialtsp) (1.25.2)\n",
            "Requirement already satisfied: ipyleaflet in c:\\users\\dooco\\appdata\\local\\packages\\pythonsoftwarefoundation.python.3.11_qbz5n2kfra8p0\\localcache\\local-packages\\python311\\site-packages (from spatialtsp) (0.18.2)\n",
            "Requirement already satisfied: ipywidgets<9,>=7.6.0 in c:\\users\\dooco\\appdata\\local\\packages\\pythonsoftwarefoundation.python.3.11_qbz5n2kfra8p0\\localcache\\local-packages\\python311\\site-packages (from ipyleaflet->spatialtsp) (8.1.2)\n",
            "Requirement already satisfied: traittypes<3,>=0.2.1 in c:\\users\\dooco\\appdata\\local\\packages\\pythonsoftwarefoundation.python.3.11_qbz5n2kfra8p0\\localcache\\local-packages\\python311\\site-packages (from ipyleaflet->spatialtsp) (0.2.1)\n",
            "Requirement already satisfied: xyzservices>=2021.8.1 in c:\\users\\dooco\\appdata\\local\\packages\\pythonsoftwarefoundation.python.3.11_qbz5n2kfra8p0\\localcache\\local-packages\\python311\\site-packages (from ipyleaflet->spatialtsp) (2023.10.1)\n",
            "Requirement already satisfied: branca>=0.5.0 in c:\\users\\dooco\\appdata\\local\\packages\\pythonsoftwarefoundation.python.3.11_qbz5n2kfra8p0\\localcache\\local-packages\\python311\\site-packages (from ipyleaflet->spatialtsp) (0.7.1)\n",
            "Requirement already satisfied: jinja2>=3 in c:\\users\\dooco\\appdata\\local\\packages\\pythonsoftwarefoundation.python.3.11_qbz5n2kfra8p0\\localcache\\local-packages\\python311\\site-packages (from branca>=0.5.0->ipyleaflet->spatialtsp) (3.1.3)\n",
            "Requirement already satisfied: comm>=0.1.3 in c:\\users\\dooco\\appdata\\local\\packages\\pythonsoftwarefoundation.python.3.11_qbz5n2kfra8p0\\localcache\\local-packages\\python311\\site-packages (from ipywidgets<9,>=7.6.0->ipyleaflet->spatialtsp) (0.2.1)\n",
            "Requirement already satisfied: ipython>=6.1.0 in c:\\users\\dooco\\appdata\\local\\packages\\pythonsoftwarefoundation.python.3.11_qbz5n2kfra8p0\\localcache\\local-packages\\python311\\site-packages (from ipywidgets<9,>=7.6.0->ipyleaflet->spatialtsp) (8.21.0)\n",
            "Requirement already satisfied: traitlets>=4.3.1 in c:\\users\\dooco\\appdata\\local\\packages\\pythonsoftwarefoundation.python.3.11_qbz5n2kfra8p0\\localcache\\local-packages\\python311\\site-packages (from ipywidgets<9,>=7.6.0->ipyleaflet->spatialtsp) (5.14.1)\n",
            "Requirement already satisfied: widgetsnbextension~=4.0.10 in c:\\users\\dooco\\appdata\\local\\packages\\pythonsoftwarefoundation.python.3.11_qbz5n2kfra8p0\\localcache\\local-packages\\python311\\site-packages (from ipywidgets<9,>=7.6.0->ipyleaflet->spatialtsp) (4.0.10)\n",
            "Requirement already satisfied: jupyterlab-widgets~=3.0.10 in c:\\users\\dooco\\appdata\\local\\packages\\pythonsoftwarefoundation.python.3.11_qbz5n2kfra8p0\\localcache\\local-packages\\python311\\site-packages (from ipywidgets<9,>=7.6.0->ipyleaflet->spatialtsp) (3.0.10)\n",
            "Requirement already satisfied: decorator in c:\\users\\dooco\\appdata\\local\\packages\\pythonsoftwarefoundation.python.3.11_qbz5n2kfra8p0\\localcache\\local-packages\\python311\\site-packages (from ipython>=6.1.0->ipywidgets<9,>=7.6.0->ipyleaflet->spatialtsp) (5.1.1)\n",
            "Requirement already satisfied: jedi>=0.16 in c:\\users\\dooco\\appdata\\local\\packages\\pythonsoftwarefoundation.python.3.11_qbz5n2kfra8p0\\localcache\\local-packages\\python311\\site-packages (from ipython>=6.1.0->ipywidgets<9,>=7.6.0->ipyleaflet->spatialtsp) (0.19.1)\n",
            "Requirement already satisfied: matplotlib-inline in c:\\users\\dooco\\appdata\\local\\packages\\pythonsoftwarefoundation.python.3.11_qbz5n2kfra8p0\\localcache\\local-packages\\python311\\site-packages (from ipython>=6.1.0->ipywidgets<9,>=7.6.0->ipyleaflet->spatialtsp) (0.1.6)\n",
            "Requirement already satisfied: prompt-toolkit<3.1.0,>=3.0.41 in c:\\users\\dooco\\appdata\\local\\packages\\pythonsoftwarefoundation.python.3.11_qbz5n2kfra8p0\\localcache\\local-packages\\python311\\site-packages (from ipython>=6.1.0->ipywidgets<9,>=7.6.0->ipyleaflet->spatialtsp) (3.0.43)\n",
            "Requirement already satisfied: pygments>=2.4.0 in c:\\users\\dooco\\appdata\\local\\packages\\pythonsoftwarefoundation.python.3.11_qbz5n2kfra8p0\\localcache\\local-packages\\python311\\site-packages (from ipython>=6.1.0->ipywidgets<9,>=7.6.0->ipyleaflet->spatialtsp) (2.17.2)\n",
            "Requirement already satisfied: stack-data in c:\\users\\dooco\\appdata\\local\\packages\\pythonsoftwarefoundation.python.3.11_qbz5n2kfra8p0\\localcache\\local-packages\\python311\\site-packages (from ipython>=6.1.0->ipywidgets<9,>=7.6.0->ipyleaflet->spatialtsp) (0.6.3)\n",
            "Requirement already satisfied: colorama in c:\\users\\dooco\\appdata\\local\\packages\\pythonsoftwarefoundation.python.3.11_qbz5n2kfra8p0\\localcache\\local-packages\\python311\\site-packages (from ipython>=6.1.0->ipywidgets<9,>=7.6.0->ipyleaflet->spatialtsp) (0.4.6)\n",
            "Requirement already satisfied: MarkupSafe>=2.0 in c:\\users\\dooco\\appdata\\local\\packages\\pythonsoftwarefoundation.python.3.11_qbz5n2kfra8p0\\localcache\\local-packages\\python311\\site-packages (from jinja2>=3->branca>=0.5.0->ipyleaflet->spatialtsp) (2.1.5)\n",
            "Requirement already satisfied: parso<0.9.0,>=0.8.3 in c:\\users\\dooco\\appdata\\local\\packages\\pythonsoftwarefoundation.python.3.11_qbz5n2kfra8p0\\localcache\\local-packages\\python311\\site-packages (from jedi>=0.16->ipython>=6.1.0->ipywidgets<9,>=7.6.0->ipyleaflet->spatialtsp) (0.8.3)\n",
            "Requirement already satisfied: wcwidth in c:\\users\\dooco\\appdata\\local\\packages\\pythonsoftwarefoundation.python.3.11_qbz5n2kfra8p0\\localcache\\local-packages\\python311\\site-packages (from prompt-toolkit<3.1.0,>=3.0.41->ipython>=6.1.0->ipywidgets<9,>=7.6.0->ipyleaflet->spatialtsp) (0.2.13)\n",
            "Requirement already satisfied: executing>=1.2.0 in c:\\users\\dooco\\appdata\\local\\packages\\pythonsoftwarefoundation.python.3.11_qbz5n2kfra8p0\\localcache\\local-packages\\python311\\site-packages (from stack-data->ipython>=6.1.0->ipywidgets<9,>=7.6.0->ipyleaflet->spatialtsp) (2.0.1)\n",
            "Requirement already satisfied: asttokens>=2.1.0 in c:\\users\\dooco\\appdata\\local\\packages\\pythonsoftwarefoundation.python.3.11_qbz5n2kfra8p0\\localcache\\local-packages\\python311\\site-packages (from stack-data->ipython>=6.1.0->ipywidgets<9,>=7.6.0->ipyleaflet->spatialtsp) (2.4.1)\n",
            "Requirement already satisfied: pure-eval in c:\\users\\dooco\\appdata\\local\\packages\\pythonsoftwarefoundation.python.3.11_qbz5n2kfra8p0\\localcache\\local-packages\\python311\\site-packages (from stack-data->ipython>=6.1.0->ipywidgets<9,>=7.6.0->ipyleaflet->spatialtsp) (0.2.2)\n",
            "Requirement already satisfied: six>=1.12.0 in c:\\users\\dooco\\appdata\\local\\packages\\pythonsoftwarefoundation.python.3.11_qbz5n2kfra8p0\\localcache\\local-packages\\python311\\site-packages (from asttokens>=2.1.0->stack-data->ipython>=6.1.0->ipywidgets<9,>=7.6.0->ipyleaflet->spatialtsp) (1.16.0)\n",
            "Note: you may need to restart the kernel to use updated packages.\n"
          ]
        }
      ],
      "source": [
        "pip install spatialtsp"
      ]
    },
    {
      "cell_type": "code",
      "execution_count": 2,
      "metadata": {},
      "outputs": [],
      "source": [
        "#change path\n",
        "import os\n",
        "os.chdir('D:/GIS program/Github/spatialtsp/spatialtsp-5')"
      ]
    },
    {
      "cell_type": "code",
      "execution_count": 3,
      "metadata": {},
      "outputs": [
        {
          "name": "stdout",
          "output_type": "stream",
          "text": [
            "현재 작업 디렉토리: D:\\GIS program\\Github\\spatialtsp\\spatialtsp-5\n"
          ]
        }
      ],
      "source": [
        "# 현재 작업 디렉토리를 출력\n",
        "current_directory = os.getcwd()\n",
        "print(\"현재 작업 디렉토리:\", current_directory)\n"
      ]
    },
    {
      "cell_type": "code",
      "execution_count": 4,
      "metadata": {
        "id": "0xVkjPQBPc_B",
        "outputId": "22f84977-19ee-4c32-8a8d-9c452408efcf"
      },
      "outputs": [
        {
          "data": {
            "text/html": [
              "<div>\n",
              "<style scoped>\n",
              "    .dataframe tbody tr th:only-of-type {\n",
              "        vertical-align: middle;\n",
              "    }\n",
              "\n",
              "    .dataframe tbody tr th {\n",
              "        vertical-align: top;\n",
              "    }\n",
              "\n",
              "    .dataframe thead th {\n",
              "        text-align: right;\n",
              "    }\n",
              "</style>\n",
              "<table border=\"1\" class=\"dataframe\">\n",
              "  <thead>\n",
              "    <tr style=\"text-align: right;\">\n",
              "      <th></th>\n",
              "      <th>geometry</th>\n",
              "    </tr>\n",
              "  </thead>\n",
              "  <tbody>\n",
              "    <tr>\n",
              "      <th>0</th>\n",
              "      <td>POINT (45.00000 33.00000)</td>\n",
              "    </tr>\n",
              "    <tr>\n",
              "      <th>1</th>\n",
              "      <td>POINT (32.00000 38.00000)</td>\n",
              "    </tr>\n",
              "    <tr>\n",
              "      <th>2</th>\n",
              "      <td>POINT (39.00000 33.00000)</td>\n",
              "    </tr>\n",
              "    <tr>\n",
              "      <th>3</th>\n",
              "      <td>POINT (5.00000 20.00000)</td>\n",
              "    </tr>\n",
              "    <tr>\n",
              "      <th>4</th>\n",
              "      <td>POINT (29.00000 32.00000)</td>\n",
              "    </tr>\n",
              "    <tr>\n",
              "      <th>5</th>\n",
              "      <td>POINT (33.00000 37.00000)</td>\n",
              "    </tr>\n",
              "    <tr>\n",
              "      <th>6</th>\n",
              "      <td>POINT (10.00000 9.00000)</td>\n",
              "    </tr>\n",
              "    <tr>\n",
              "      <th>7</th>\n",
              "      <td>POINT (9.00000 17.00000)</td>\n",
              "    </tr>\n",
              "    <tr>\n",
              "      <th>8</th>\n",
              "      <td>POINT (8.00000 15.00000)</td>\n",
              "    </tr>\n",
              "    <tr>\n",
              "      <th>9</th>\n",
              "      <td>POINT (20.00000 21.00000)</td>\n",
              "    </tr>\n",
              "  </tbody>\n",
              "</table>\n",
              "</div>"
            ],
            "text/plain": [
              "                    geometry\n",
              "0  POINT (45.00000 33.00000)\n",
              "1  POINT (32.00000 38.00000)\n",
              "2  POINT (39.00000 33.00000)\n",
              "3   POINT (5.00000 20.00000)\n",
              "4  POINT (29.00000 32.00000)\n",
              "5  POINT (33.00000 37.00000)\n",
              "6   POINT (10.00000 9.00000)\n",
              "7   POINT (9.00000 17.00000)\n",
              "8   POINT (8.00000 15.00000)\n",
              "9  POINT (20.00000 21.00000)"
            ]
          },
          "execution_count": 4,
          "metadata": {},
          "output_type": "execute_result"
        }
      ],
      "source": [
        "# Make Toy Data\n",
        "import sys\n",
        "sys.path.insert(0, 'D:/GIS program/Github/spatialtsp/spatialtsp-5')\n",
        "from spatialtsp import is_far_enough, generate_clustered_points\n",
        "points=generate_clustered_points(10)\n",
        "points"
      ]
    },
    {
      "cell_type": "code",
      "execution_count": 5,
      "metadata": {
        "id": "952KZ6EKPc_C",
        "outputId": "705c3770-9232-4cbd-a061-fab192891c5e"
      },
      "outputs": [
        {
          "data": {
            "text/plain": [
              "array([[   0, 1393,  600, 4206, 1603, 1265, 4244, 3940, 4115, 2773],\n",
              "       [1393,    0,  860, 3245,  671,  141, 3640, 3114, 3324, 2081],\n",
              "       [ 600,  860,    0, 3640, 1005,  721, 3764, 3400, 3585, 2247],\n",
              "       [4206, 3245, 3640,    0, 2683, 3276, 1208,  500,  583, 1503],\n",
              "       [1603,  671, 1005, 2683,    0,  640, 2983, 2500, 2702, 1421],\n",
              "       [1265,  141,  721, 3276,  640,    0, 3624, 3124, 3330, 2062],\n",
              "       [4244, 3640, 3764, 1208, 2983, 3624,    0,  806,  632, 1562],\n",
              "       [3940, 3114, 3400,  500, 2500, 3124,  806,    0,  224, 1170],\n",
              "       [4115, 3324, 3585,  583, 2702, 3330,  632,  224,    0, 1342],\n",
              "       [2773, 2081, 2247, 1503, 1421, 2062, 1562, 1170, 1342,    0]])"
            ]
          },
          "execution_count": 5,
          "metadata": {},
          "output_type": "execute_result"
        }
      ],
      "source": [
        "# Calculate Standard Distance Matrix\n",
        "import sys\n",
        "sys.path.insert(0, 'D:/GIS program/Github/spatialtsp/spatialtsp-5')\n",
        "from spatialtsp import calculate_distance_matrix\n",
        "distance_matrix=calculate_distance_matrix(points)\n",
        "distance_matrix"
      ]
    },
    {
      "cell_type": "code",
      "execution_count": null,
      "metadata": {},
      "outputs": [],
      "source": [
        "import spatialtsp\n",
        "print(dir(spatialtsp))"
      ]
    },
    {
      "cell_type": "code",
      "execution_count": null,
      "metadata": {},
      "outputs": [],
      "source": [
        "import spatialtsp\n",
        "help(spatialtsp)"
      ]
    },
    {
      "cell_type": "code",
      "execution_count": 8,
      "metadata": {},
      "outputs": [],
      "source": [
        "# Calculate Distance Matrix with the concept of adjacency\n",
        "# os.chdir('D:/GIS program/Github/spatialtsp/spatialtsp-5')\n",
        "# from spatialtsp import voronoi_adjacency_distance, knn_adjacency_distance, combine_distance_matrices\n",
        "# Voronoi_distance = voronoi_adjacency_distance(points)\n",
        "# KNN_distance = knn_adjacency_distance(points)\n",
        "# combined_distance = combine_distance_matrices([Voronoi_distance, KNN_distance])"
      ]
    },
    {
      "cell_type": "code",
      "execution_count": null,
      "metadata": {
        "id": "IKYoFhIjPc_C"
      },
      "outputs": [],
      "source": [
        "# set working directory\n",
        "# import os\n",
        "\n",
        "# path = 'D:/GIS_analyzing/1.Standard_TSP/0.test_iteration' # write your own directory\n",
        "# os.chdir(path)\n",
        "# os.getcwd()"
      ]
    },
    {
      "cell_type": "code",
      "execution_count": null,
      "metadata": {},
      "outputs": [],
      "source": [
        "## other codes will be updated soon"
      ]
    },
    {
      "cell_type": "markdown",
      "metadata": {
        "id": "pJ7F52QBPc_D"
      },
      "source": [
        "## Display Basemap"
      ]
    },
    {
      "cell_type": "code",
      "execution_count": null,
      "metadata": {
        "colab": {
          "referenced_widgets": [
            "aec10448c1194dd78ac9583af3f10977",
            "ef18640dc58e4406b4c7cb0ca9045db2"
          ]
        },
        "id": "t38vJfI8Pc_D",
        "outputId": "124a1310-4e6e-45ea-f6f6-a8975d154143"
      },
      "outputs": [],
      "source": [
        "## Add basemap\n",
        "from spatialtsp import Map\n",
        "\n",
        "my_map = Map(center=[40.7128, -74.0060], zoom=10)\n",
        "my_map.add_basemap(\"OpenStreetMap.Mapnik\")\n",
        "\n",
        "my_map\n"
      ]
    },
    {
      "cell_type": "code",
      "execution_count": null,
      "metadata": {
        "colab": {
          "referenced_widgets": [
            "e72c215bfd504e99b461e0af3cb53d67",
            "6be5821ba220492b8dc66ba51edf5a6d"
          ]
        },
        "id": "e9WTqMmSPc_E",
        "outputId": "72211276-eb63-4327-8c63-e942c251d82e"
      },
      "outputs": [],
      "source": [
        "## Add GeoJSON\n",
        "from spatialtsp import Map\n",
        "\n",
        "geojson_map = Map(center=[37.0902, -95.7129], zoom=4)\n",
        "geojson_url = \"https://github.com/opengeos/datasets/releases/download/us/us_states.geojson\"\n",
        "geojson_map.add_geojson(geojson_url, name=\"US Counties\")\n",
        "\n",
        "geojson_map\n"
      ]
    },
    {
      "cell_type": "code",
      "execution_count": null,
      "metadata": {
        "colab": {
          "referenced_widgets": [
            "54e591aebb694f2faa234c978ea63f1e",
            "c2418e94469e4e8f9732553a9df61223"
          ]
        },
        "id": "md7-s2zEPc_E",
        "outputId": "02d310b0-c498-42d8-c37b-439c3eb5aea9"
      },
      "outputs": [],
      "source": [
        "## Add shp\n",
        "import geopandas as gpd\n",
        "import requests\n",
        "import zipfile\n",
        "import io\n",
        "from spatialtsp import Map\n",
        "\n",
        "# Shapefile URL\n",
        "url = 'https://github.com/opengeos/datasets/releases/download/us/us_states.zip'\n",
        "\n",
        "# Download and extract the zip file\n",
        "r = requests.get(url)\n",
        "z = zipfile.ZipFile(io.BytesIO(r.content))\n",
        "\n",
        "# Find the shapefile name\n",
        "shp_name = [name for name in z.namelist() if '.shp' in name][0]\n",
        "\n",
        "# Read and extract the shapefile\n",
        "z.extractall(\"temp_shp\")\n",
        "states_gdf = gpd.read_file(\"temp_shp/us_states.shp\")\n",
        "\n",
        "\n",
        "# Display the shapefile\n",
        "my_map = Map(center=[37.0902, -95.7129], zoom=4)\n",
        "my_map.add_vector(states_gdf, name=\"US States\")\n",
        "\n",
        "my_map\n"
      ]
    },
    {
      "cell_type": "code",
      "execution_count": null,
      "metadata": {
        "colab": {
          "referenced_widgets": [
            "41957bc40ff04aaba2b1a4427d405ab0",
            "b53916da4226458c87066202ca07ebbb"
          ]
        },
        "id": "hxCo6RSiPc_F",
        "outputId": "29df8b75-a279-4cbb-ce9a-670b8042fd43"
      },
      "outputs": [],
      "source": [
        "## Add Vector\n",
        "from spatialtsp import Map\n",
        "\n",
        "# Initialize the map\n",
        "my_map = Map(center=[37.0902, -95.7129], zoom=4)\n",
        "\n",
        "# GeoJSON URLs\n",
        "city_geojson_url = \"https://github.com/opengeos/datasets/releases/download/us/us_cities.geojson\"\n",
        "county_geojson_url = \"https://github.com/opengeos/datasets/releases/download/us/us_counties.geojson\"\n",
        "\n",
        "# Shapefile URL\n",
        "states_shape_url = 'https://github.com/opengeos/datasets/releases/download/us/us_states.zip'\n",
        "\n",
        "# Load GeoJSONs as GeoDataFrames\n",
        "gdf_cities = gpd.read_file(city_geojson_url)\n",
        "gdf_counties = gpd.read_file(county_geojson_url)\n",
        "\n",
        "# Use add_vector to add GeoDataFrames to the map\n",
        "my_map.add_vector(gdf_counties, name=\"US Counties\")\n",
        "my_map.add_vector(gdf_cities, name=\"US Cities\")\n",
        "# For the shapefile, directly use the URL\n",
        "my_map.add_vector(states_shape_url, name=\"US States\")\n",
        "\n",
        "# Display the map\n",
        "my_map"
      ]
    },
    {
      "cell_type": "markdown",
      "metadata": {},
      "source": [
        "##Raster Map"
      ]
    },
    {
      "cell_type": "code",
      "execution_count": null,
      "metadata": {},
      "outputs": [],
      "source": [
        "#change path\n",
        "import os\n",
        "os.chdir('D:/GIS program/Github/spatialtsp/spatialtsp-5')"
      ]
    },
    {
      "cell_type": "code",
      "execution_count": null,
      "metadata": {},
      "outputs": [],
      "source": [
        "# import functions\n",
        "!pip install localtileserver\n",
        "import spatialtsp\n",
        "from spatialtsp import Map"
      ]
    },
    {
      "cell_type": "code",
      "execution_count": null,
      "metadata": {},
      "outputs": [],
      "source": [
        "# check the path of functions\n",
        "from importlib import reload\n",
        "reload(spatialtsp)\n",
        "\n",
        "from spatialtsp import Map\n",
        "m = Map()\n",
        "print(dir(m)) \n",
        "\n",
        "import spatialtsp\n",
        "print(spatialtsp.__file__)"
      ]
    },
    {
      "cell_type": "code",
      "execution_count": null,
      "metadata": {
        "id": "1IY3iS4bPc_F"
      },
      "outputs": [],
      "source": [
        "## overlay climate image(png)\n",
        "from ipyleaflet import Map, ImageOverlay\n",
        "\n",
        "m = Map(center=(25, -115), zoom=4)\n",
        "\n",
        "image = ImageOverlay(\n",
        "    url=\"https://i.imgur.com/06Q1fSz.png\",\n",
        "    # url='../06Q1fSz.png',\n",
        "    bounds=((13, -130), (32, -100)),\n",
        ")\n",
        "\n",
        "m.add(image)\n",
        "m"
      ]
    },
    {
      "cell_type": "code",
      "execution_count": null,
      "metadata": {},
      "outputs": [],
      "source": [
        "## Overlay GIF of TSP into basemap\n",
        "m = Map(center=(40, -100), zoom=4)\n",
        "\n",
        "url = \"https://graphdeeplearning.github.io/project/combinatorial-optimization/tsp-gif.gif\"\n",
        "\n",
        "# url='../06Q1fSz.png',\n",
        "bounds = ((25, -125), (51, -66))\n",
        "m.add_image(url, bounds)\n",
        "m.add_layers_control()\n",
        "# m.scroll_wheel_zoom = True\n",
        "m"
      ]
    },
    {
      "cell_type": "code",
      "execution_count": null,
      "metadata": {},
      "outputs": [],
      "source": [
        "## Overlay COloud Optimized GeoTiff into Basemap\n",
        "from localtileserver import TileClient, get_leaflet_tile_layer, examples\n",
        "from spatialtsp import Map\n",
        "\n",
        "client = TileClient(\n",
        "    \"https://github.com/opengeos/datasets/releases/download/raster/srtm90.tif\"\n",
        ")\n",
        "\n",
        "# Create ipyleaflet TileLayer from that server\n",
        "t = get_leaflet_tile_layer(client)\n",
        "# Create ipyleaflet map, add tile layer, and display\n",
        "m = Map()\n",
        "m.add(t)\n",
        "m.center = client.center()\n",
        "m.zoom = client.default_zoom\n",
        "m"
      ]
    }
  ],
  "metadata": {
    "colab": {
      "provenance": []
    },
    "kernelspec": {
      "display_name": "Python 3",
      "language": "python",
      "name": "python3"
    },
    "language_info": {
      "codemirror_mode": {
        "name": "ipython",
        "version": 3
      },
      "file_extension": ".py",
      "mimetype": "text/x-python",
      "name": "python",
      "nbconvert_exporter": "python",
      "pygments_lexer": "ipython3",
      "version": "3.11.9"
    }
  },
  "nbformat": 4,
  "nbformat_minor": 0
}
