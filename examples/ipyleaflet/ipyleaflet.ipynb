{
 "cells": [
  {
   "cell_type": "code",
   "execution_count": null,
   "metadata": {},
   "outputs": [],
   "source": [
    "from ipyleaflet import basemaps"
   ]
  },
  {
   "cell_type": "code",
   "execution_count": null,
   "metadata": {},
   "outputs": [],
   "source": [
    "url = eval(\"basemaps.OpenTopoMap\").build_url()"
   ]
  },
  {
   "cell_type": "code",
   "execution_count": null,
   "metadata": {},
   "outputs": [],
   "source": [
    "import spatialtsp\n",
    "#import ipyleaflet"
   ]
  },
  {
   "cell_type": "code",
   "execution_count": null,
   "metadata": {},
   "outputs": [],
   "source": [
    "m = spatialtsp.Map()\n",
    "m.add_basemap(\"OpenTopoMap\")\n",
    "m.add_layers_control()\n",
    "m"
   ]
  },
  {
   "cell_type": "code",
   "execution_count": null,
   "metadata": {},
   "outputs": [],
   "source": [
    "m = spatialtsp.Map()\n",
    "\n",
    "url = 'https://server.arcgisonline.com/ArcGIS/rest/services/World_Imagery/MapServer/tile/{z}/{y}/{x}'\n",
    "#layer = ipyleaflet.TileLayer(url=url, name='EsriMap', opacity=0.5)\n",
    "m.add_tile_layer(url=url, name='World Imagery', attribution='Esri')\n",
    "m"
   ]
  },
  {
   "cell_type": "code",
   "execution_count": null,
   "metadata": {},
   "outputs": [],
   "source": [
    "from ipyleaflet import Map, basemaps\n",
    "center = [38.128, 2.588]\n",
    "zoom=5\n",
    "\n",
    "m=Map(basemap=basemaps.Esri.WorldImagery, center=center, zoom=zoom)"
   ]
  },
  {
   "cell_type": "code",
   "execution_count": null,
   "metadata": {},
   "outputs": [],
   "source": [
    "m.layers"
   ]
  },
  {
   "cell_type": "code",
   "execution_count": null,
   "metadata": {},
   "outputs": [],
   "source": [
    "layer.interact(opacity=(0.0, 1.0, 0.1))"
   ]
  },
  {
   "cell_type": "code",
   "execution_count": null,
   "metadata": {},
   "outputs": [],
   "source": [
    "from ipyleaflet import basemaps, WidgetControl\n",
    "from ipywidgets import IntSlider, ColorPicker, jslink, Output\n",
    "import spatialtsp\n",
    "\n",
    "m = spatialtsp.Map(center=(46.01, 6.16), zoom=12, basemap=basemaps.OpenTopoMap)\n",
    "zoom_slider = IntSlider(description='Zoom level:', min=0, max=24, value=7)\n",
    "jslink((zoom_slider, 'value'), (m, 'zoom'))  # Link 'the slider' to the 'zoom level' of the map / 그리고 zoom_slider 정의 함수 이후에는 어디에 있어도 상관 없음\n",
    "widget_control1 = WidgetControl(widget=zoom_slider, position='topright')\n",
    "m.add(widget_control1)\n",
    "\n",
    "\n",
    "output_widget = Output(layout={'border': '1px solid black'})\n",
    "output_control = WidgetControl(widget=output_widget, position='bottomright')\n",
    "m.add(output_control)\n",
    "\n",
    "# color_picker = ColorPicker(description='Pick a color:')\n",
    "# widget_control2 = WidgetControl(widget=color_picker, position='bottomright')\n",
    "# m.add(widget_control2)\n",
    "m"
   ]
  },
  {
   "cell_type": "code",
   "execution_count": null,
   "metadata": {},
   "outputs": [],
   "source": [
    "with output_widget:\n",
    "    output_widget.clear_output()\n",
    "    print('Hello world!')"
   ]
  },
  {
   "cell_type": "code",
   "execution_count": null,
   "metadata": {},
   "outputs": [],
   "source": [
    "# Graph 집어넣기"
   ]
  },
  {
   "cell_type": "code",
   "execution_count": null,
   "metadata": {},
   "outputs": [],
   "source": [
    "output_widget.clear_output()\n",
    "clear_output\n",
    "# how to clear only control ?"
   ]
  },
  {
   "cell_type": "code",
   "execution_count": null,
   "metadata": {},
   "outputs": [],
   "source": [
    "float_slider = widgets.FloatSlider(\n",
    "    value=0, min=0, max=10.0, step=0.1, description='Float slider:'\n",
    ")\n",
    "\n",
    "float_slider"
   ]
  },
  {
   "cell_type": "code",
   "execution_count": null,
   "metadata": {},
   "outputs": [],
   "source": [
    "output=widgets.Output()\n",
    "output"
   ]
  },
  {
   "cell_type": "code",
   "execution_count": null,
   "metadata": {},
   "outputs": [],
   "source": [
    "int_range = widgets.IntRangeSlider()\n",
    "#int_range = widgets.IntRangeSlider(value=1, max=100, step=1, description='opacity:')\n",
    "\n",
    "def on_value_change(change):\n",
    "    with output:\n",
    "        output.clear_output()\n",
    "        print(change['new'])\n",
    "#    m.layer[-1].opacity = change['new']\n",
    "\n",
    "int_range.observe(on_value_change, 'value')"
   ]
  },
  {
   "cell_type": "code",
   "execution_count": null,
   "metadata": {},
   "outputs": [],
   "source": [
    "import leafmap"
   ]
  },
  {
   "cell_type": "code",
   "execution_count": null,
   "metadata": {},
   "outputs": [],
   "source": []
  }
 ],
 "metadata": {
  "kernelspec": {
   "display_name": "Python 3",
   "language": "python",
   "name": "python3"
  },
  "language_info": {
   "codemirror_mode": {
    "name": "ipython",
    "version": 3
   },
   "file_extension": ".py",
   "mimetype": "text/x-python",
   "name": "python",
   "nbconvert_exporter": "python",
   "pygments_lexer": "ipython3",
   "version": "3.11.9"
  }
 },
 "nbformat": 4,
 "nbformat_minor": 2
}
